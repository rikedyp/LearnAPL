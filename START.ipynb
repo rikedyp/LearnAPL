{
 "cells": [
  {
   "cell_type": "markdown",
   "metadata": {},
   "source": [
    "# APLcourse\n",
    "A New APL Course\n",
    "\n",
    "These materials are designed to teach you how to solve real problems using computers. They include exam-like [problem sets](ProblemSets/README.ipynb) and programming [project ideas](Projects/README.ipynb) to test your APL knowledge and problem-solving ability. \n",
    "\n",
    "There are also [tutorials](Tutorials/README.ipynb) on various specific APL and programming concepts. There may be linked references to external resources, such as the [APL Wiki](https://aplwiki.miraheze.org) or the book [Mastering Dyalog APL](https://www.dyalog.com/mastering-dyalog-apl.htm)."
   ]
  },
  {
   "cell_type": "markdown",
   "metadata": {},
   "source": [
    "***\n",
    "## 🛈 General information\n",
    "> [How to use these notebooks](#How-to-use-Jupyter-notebooks)  \n",
    "[Conventions used in these materials](#Conventions)  "
   ]
  },
  {
   "cell_type": "markdown",
   "metadata": {},
   "source": [
    "***\n",
    "## Uh... where do I start?\n",
    "We have some curated catalogues of content for different purposes.\n",
    "### Who are you?\n",
    "- [I am new to programming](Catalogues/Noobs.ipynb) (work in progress)\n",
    "- [I am a programmer but new to APL](Catalogues/APLnoobs.ipynb) (work in progress)\n",
    "- [I want to learn some intermediate APL](Catalogues/Intermediate.ipynb) (work in progress)\n",
    "- I am an old APLer and want to learn about modern APL (coming soon...)\n",
    "- I am looking for APL resources (coming soon...)"
   ]
  },
  {
   "cell_type": "markdown",
   "metadata": {},
   "source": [
    "***\n",
    "## How to use Jupyter notebooks\n",
    "All of the course materials are in `.ipynb` [Jupyter notebooks](https://jupyter.org/). These are interactive documents with code blocks which can be executed if you view them in a Jupyter environment. \n",
    "***\n",
    "**Markdown cells**\n",
    "- Double-click on a cell to edit it\n",
    "- Press `Shift`+`Enter` to render a cell and move to the next one. \n",
    "- Press `Ctrl`+`Enter` to render a cell and remain in place.\n",
    "***\n",
    "**Code blocks**\n",
    "- Code blocks start with `[ ]:`  \n",
    "- Click on a cell to edit the code.\n",
    "- Press `Shift`+`Enter` to execute a cell and move to the next one.  \n",
    "- Press `Ctrl`+`Enter` to execute a cell and remain in place."
   ]
  },
  {
   "cell_type": "markdown",
   "metadata": {},
   "source": [
    "> **Execute the code below:**"
   ]
  },
  {
   "cell_type": "code",
   "execution_count": null,
   "metadata": {},
   "outputs": [],
   "source": [
    "    ⍝ This is a code block\n",
    "1+1 ⍝ This is some executable code, why don't you try it?"
   ]
  },
  {
   "cell_type": "markdown",
   "metadata": {},
   "source": [
    "- You may see some additional output.\n",
    "\n",
    "```APL\n",
    "Dyalog APL/S-64 Version 17.1.36876\n",
    "Serial number: UNREGISTERED - not for commercial use\n",
    "+-----------------------------------------------------------------+\n",
    "| Dyalog is free for non-commercial use but is not free software. |\n",
    "| A non-commercial licence can be used for experiments and        |\n",
    "| proof of concept until the point in time that it is of value.   |\n",
    "| For further information visit                                   |\n",
    "| https://www.dyalog.com/prices-and-licences.htm                  |\n",
    "+-----------------------------------------------------------------+\n",
    "2019-09-30 09:37:51\n",
    "```\n",
    "This output will only occur on the **first code execution when a notebook is loaded**."
   ]
  },
  {
   "cell_type": "markdown",
   "metadata": {},
   "source": [
    "***\n",
    "## Saving your work\n",
    "\n",
    "The Binder session times out after **10 minutes** of inactivity. Having the browser tab in view counts as activity. An active session should continue to work for up to **12 hours**.\n",
    "\n",
    "You can save changes to notebooks with `Ctrl`+`S`, but remember to **download your changed notebooks before the session ends**. \n",
    "> Right-click on the `.ipynb` file → `⇓ Download`\n",
    "\n",
    "If this seems too annoying, you may want to consider [installing Dyalog Jupyter notebooks](Tutorials/InstallingDyalogJupyter.ipynb) locally."
   ]
  },
  {
   "cell_type": "markdown",
   "metadata": {},
   "source": [
    "***\n",
    "## Conventions\n",
    "`Grey highlight`  \n",
    "  Keyboard keys | Menu items | File extensions | Inline code\n",
    "  \n",
    "[Blue text](#)  \n",
    "  Hyperlinks: [click these to go to another notebook](#)\n",
    "  \n",
    "**Bold text**  \n",
    "  Emphasis: **important point** | Instruction: **do what the bold text says**\n",
    "\n",
    "Indented code block:\n",
    "\n",
    "> These indicated a task to be carried out by the reader. They are often accompanied by a code block immediately beneath."
   ]
  }
 ],
 "metadata": {
  "kernelspec": {
   "display_name": "Dyalog APL",
   "language": "apl",
   "name": "dyalog-kernel"
  },
  "language_info": {
   "file_extension": ".apl",
   "mimetype": "text/apl",
   "name": "APL"
  }
 },
 "nbformat": 4,
 "nbformat_minor": 4
}
