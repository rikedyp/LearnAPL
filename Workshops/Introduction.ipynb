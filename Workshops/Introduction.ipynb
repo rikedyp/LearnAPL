{
 "cells": [
  {
   "cell_type": "markdown",
   "metadata": {
    "slideshow": {
     "slide_type": "slide"
    }
   },
   "source": [
    "# Introduction to APL\n",
    "Array-oriented programming"
   ]
  },
  {
   "cell_type": "markdown",
   "metadata": {
    "slideshow": {
     "slide_type": "subslide"
    }
   },
   "source": [
    "APL is a programming language unlike most. Its primary distinguishing features are its use of symbols and array-orientation."
   ]
  },
  {
   "cell_type": "markdown",
   "metadata": {
    "slideshow": {
     "slide_type": "subslide"
    }
   },
   "source": [
    "It is a **mathematical notation** that just happens to be machine-executable. \n",
    "\n",
    "It is **A** **P**rogramming **L**anguage."
   ]
  },
  {
   "cell_type": "markdown",
   "metadata": {
    "slideshow": {
     "slide_type": "slide"
    }
   },
   "source": [
    "Here are all the primitve functions and operators in APL:\n",
    "```\n",
    "+ - × ÷ * ⍟ ⌹ ○ ! ? | ⌈ ⌊ ⊥ ⊤ ⊣ ⊢ = ≠ ≤ < > ≥ ≡ ≢ ∨ ∧ ⍲ ⍱ ↑ ↓ ⊂ ⊃ ⊆ ⌷ ⍋ ⍒ ⍳ ⍸ ∊ ⍷ ∪ ∩ ~ / \\ ⌿ ⍀ , ⍪ ⍴ ⌽ ⊖ ⍉ ¨ ⍨ ⍣ . ∘ ⍤ @ ⍞ ⎕ ⍠ ⌸ ⌺ ⌶ ⍎ ⍕ ⋄ ⍝ → ⍵ ⍺ ∇ & ¯ ⍬\n",
    "```"
   ]
  },
  {
   "cell_type": "markdown",
   "metadata": {
    "slideshow": {
     "slide_type": "slide"
    }
   },
   "source": [
    "***\n",
    "## Examples\n",
    "Here are some examples that show how APL can express complex things simply."
   ]
  },
  {
   "cell_type": "markdown",
   "metadata": {
    "slideshow": {
     "slide_type": "subslide"
    }
   },
   "source": [
    "Times tables:"
   ]
  },
  {
   "cell_type": "code",
   "execution_count": 2,
   "metadata": {
    "slideshow": {
     "slide_type": "fragment"
    }
   },
   "outputs": [
    {
     "data": {
      "text/html": [
       "<span style=\"white-space:pre; font-family: monospace\"> 1  2  3  4  5  6  7  8   9  10  11  12\n",
       " 2  4  6  8 10 12 14 16  18  20  22  24\n",
       " 3  6  9 12 15 18 21 24  27  30  33  36\n",
       " 4  8 12 16 20 24 28 32  36  40  44  48\n",
       " 5 10 15 20 25 30 35 40  45  50  55  60\n",
       " 6 12 18 24 30 36 42 48  54  60  66  72\n",
       " 7 14 21 28 35 42 49 56  63  70  77  84\n",
       " 8 16 24 32 40 48 56 64  72  80  88  96\n",
       " 9 18 27 36 45 54 63 72  81  90  99 108\n",
       "10 20 30 40 50 60 70 80  90 100 110 120\n",
       "11 22 33 44 55 66 77 88  99 110 121 132\n",
       "12 24 36 48 60 72 84 96 108 120 132 144\n",
       "</span>"
      ]
     },
     "execution_count": 2,
     "metadata": {},
     "output_type": "execute_result"
    }
   ],
   "source": [
    "∘.×⍨⍳12"
   ]
  },
  {
   "cell_type": "markdown",
   "metadata": {
    "slideshow": {
     "slide_type": "subslide"
    }
   },
   "source": [
    "Number of seconds in a day:"
   ]
  },
  {
   "cell_type": "code",
   "execution_count": 3,
   "metadata": {
    "slideshow": {
     "slide_type": "fragment"
    }
   },
   "outputs": [
    {
     "data": {
      "text/html": [
       "<span style=\"white-space:pre; font-family: monospace\">3600\n",
       "</span>"
      ]
     },
     "execution_count": 3,
     "metadata": {},
     "output_type": "execute_result"
    }
   ],
   "source": [
    "24 60 60⊥1 0 0"
   ]
  },
  {
   "cell_type": "markdown",
   "metadata": {
    "slideshow": {
     "slide_type": "fragment"
    }
   },
   "source": [
    "Number of seconds in a year:"
   ]
  },
  {
   "cell_type": "code",
   "execution_count": 4,
   "metadata": {
    "slideshow": {
     "slide_type": "fragment"
    }
   },
   "outputs": [
    {
     "data": {
      "text/html": [
       "<span style=\"white-space:pre; font-family: monospace\">86400\n",
       "</span>"
      ]
     },
     "execution_count": 4,
     "metadata": {},
     "output_type": "execute_result"
    }
   ],
   "source": [
    "365 24 60 60⊥1 0 0 0"
   ]
  },
  {
   "cell_type": "markdown",
   "metadata": {
    "slideshow": {
     "slide_type": "subslide"
    }
   },
   "source": [
    "Sum the first 100 natural numbers:"
   ]
  },
  {
   "cell_type": "code",
   "execution_count": 5,
   "metadata": {
    "slideshow": {
     "slide_type": "fragment"
    }
   },
   "outputs": [
    {
     "data": {
      "text/html": [
       "<span style=\"white-space:pre; font-family: monospace\">5050\n",
       "</span>"
      ]
     },
     "execution_count": 5,
     "metadata": {},
     "output_type": "execute_result"
    }
   ],
   "source": [
    "+/⍳100"
   ]
  },
  {
   "cell_type": "markdown",
   "metadata": {
    "slideshow": {
     "slide_type": "fragment"
    }
   },
   "source": [
    "Mean average of the first 100 natural numbers:"
   ]
  },
  {
   "cell_type": "code",
   "execution_count": 6,
   "metadata": {
    "slideshow": {
     "slide_type": "fragment"
    }
   },
   "outputs": [
    {
     "data": {
      "text/html": [
       "<span style=\"white-space:pre; font-family: monospace\">50.5\n",
       "</span>"
      ]
     },
     "execution_count": 6,
     "metadata": {},
     "output_type": "execute_result"
    }
   ],
   "source": [
    "(+/÷≢)⍳100"
   ]
  },
  {
   "cell_type": "markdown",
   "metadata": {
    "slideshow": {
     "slide_type": "subslide"
    }
   },
   "source": [
    "The first 18 triangular numbers:"
   ]
  },
  {
   "cell_type": "code",
   "execution_count": 7,
   "metadata": {
    "slideshow": {
     "slide_type": "fragment"
    }
   },
   "outputs": [
    {
     "data": {
      "text/html": [
       "<span style=\"white-space:pre; font-family: monospace\">1 3 6 10 15 21 28 36 45 55 66 78 91 105 120 136 153 171\n",
       "</span>"
      ]
     },
     "execution_count": 7,
     "metadata": {},
     "output_type": "execute_result"
    }
   ],
   "source": [
    "+\\⍳18"
   ]
  },
  {
   "cell_type": "markdown",
   "metadata": {
    "slideshow": {
     "slide_type": "subslide"
    }
   },
   "source": [
    "The first 20 fibonacci numbers:"
   ]
  },
  {
   "cell_type": "code",
   "execution_count": 8,
   "metadata": {
    "slideshow": {
     "slide_type": "fragment"
    }
   },
   "outputs": [
    {
     "data": {
      "text/html": [
       "<span style=\"white-space:pre; font-family: monospace\">1 1 2 3 5 8 13 21 34 55 89 144 233 377 610 987 1597 2584 4181 6765\n",
       "</span>"
      ]
     },
     "execution_count": 8,
     "metadata": {},
     "output_type": "execute_result"
    }
   ],
   "source": [
    "1,{⊃(+/,⊃)⍣⍵⊢1}¨⍳19"
   ]
  },
  {
   "cell_type": "markdown",
   "metadata": {
    "slideshow": {
     "slide_type": "subslide"
    }
   },
   "source": [
    "Randomly deal a deck of cards:"
   ]
  },
  {
   "cell_type": "code",
   "execution_count": 9,
   "metadata": {
    "slideshow": {
     "slide_type": "fragment"
    }
   },
   "outputs": [
    {
     "data": {
      "text/html": [
       "<span style=\"white-space:pre; font-family: monospace\">┌──┬──┬──┬──┬──┬──┬──┬──┬──┬──┬──┬──┬──┐\n",
       "│♠A│♠T│♠5│♠4│♥A│♥J│♥6│♣9│♣6│♣5│♦9│♦6│♦2│\n",
       "├──┼──┼──┼──┼──┼──┼──┼──┼──┼──┼──┼──┼──┤\n",
       "│♠Q│♠3│♠2│♥T│♥7│♥5│♥2│♣A│♣T│♣4│♦Q│♦J│♦3│\n",
       "├──┼──┼──┼──┼──┼──┼──┼──┼──┼──┼──┼──┼──┤\n",
       "│♠8│♠7│♥K│♥8│♥4│♣Q│♣J│♣7│♣3│♣2│♦A│♦T│♦4│\n",
       "├──┼──┼──┼──┼──┼──┼──┼──┼──┼──┼──┼──┼──┤\n",
       "│♠K│♠J│♠9│♠6│♥Q│♥9│♥3│♣K│♣8│♦K│♦8│♦7│♦5│\n",
       "└──┴──┴──┴──┴──┴──┴──┴──┴──┴──┴──┴──┴──┘\n",
       "</span>"
      ]
     },
     "execution_count": 9,
     "metadata": {},
     "output_type": "execute_result"
    }
   ],
   "source": [
    "{⍵∩⍤1⊢⍵[4 13⍴52?52]},'♠♥♣♦'∘.,'AKQJT98765432'"
   ]
  },
  {
   "cell_type": "markdown",
   "metadata": {
    "slideshow": {
     "slide_type": "subslide"
    }
   },
   "source": [
    "FizzBuzz in APL:"
   ]
  },
  {
   "cell_type": "code",
   "execution_count": 10,
   "metadata": {
    "slideshow": {
     "slide_type": "fragment"
    }
   },
   "outputs": [
    {
     "data": {
      "text/html": [
       "<span style=\"white-space:pre; font-family: monospace\">┌─┬─┬────┬─┬────┬────┬─┬─┬────┬────┬──┬────┬──┬──┬────────┬──┬──┬────┬──┬────┐\n",
       "│1│2│Fizz│4│Buzz│Fizz│7│8│Fizz│Buzz│11│Fizz│13│14│FizzBuzz│16│17│Fizz│19│Buzz│\n",
       "└─┴─┴────┴─┴────┴────┴─┴─┴────┴────┴──┴────┴──┴──┴────────┴──┴──┴────┴──┴────┘\n",
       "</span>"
      ]
     },
     "execution_count": 10,
     "metadata": {},
     "output_type": "execute_result"
    }
   ],
   "source": [
    "↑{('FizzBuzz' 'Fizz' 'Buzz' ⍵)[1⍳⍨0=15 3 5|⍵]}¨⍳20"
   ]
  },
  {
   "cell_type": "code",
   "execution_count": 11,
   "metadata": {
    "slideshow": {
     "slide_type": "fragment"
    }
   },
   "outputs": [
    {
     "data": {
      "text/html": [
       "<span style=\"white-space:pre; font-family: monospace\">┌─┬─┬────┬─┬────┬────┬─┬─┬────┬────┬──┬────┬──┬──┬────────┬──┬──┬────┬──┬────┐\n",
       "│1│2│Fizz│4│Buzz│Fizz│7│8│Fizz│Buzz│11│Fizz│13│14│FizzBuzz│16│17│Fizz│19│Buzz│\n",
       "└─┴─┴────┴─┴────┴────┴─┴─┴────┴────┴──┴────┴──┴──┴────────┴──┴──┴────┴──┴────┘\n",
       "</span>"
      ]
     },
     "execution_count": 11,
     "metadata": {},
     "output_type": "execute_result"
    }
   ],
   "source": [
    "{x←⍸(⊂'')≡¨⍵ ⋄ x@x⊢⍵}('' 'Fizz' 'Buzz' 'FizzBuzz')[1++⌿1 2×⍤0 1⊢0=3 5∘.|⍳20]"
   ]
  },
  {
   "cell_type": "markdown",
   "metadata": {
    "slideshow": {
     "slide_type": "slide"
    }
   },
   "source": [
    "***\n",
    "## APL is old\n",
    "APL is actually one of the first programming languages ever.\n",
    "\n",
    "[Most popular programming languages 1965-2019](https://www.youtube.com/watch?v=Og847HVwRSI)"
   ]
  },
  {
   "cell_type": "markdown",
   "metadata": {
    "slideshow": {
     "slide_type": "subslide"
    }
   },
   "source": [
    "Historically, those who found success with APL were not traditionally \"computer scientists\", \"mathematicians\" or \"programmers\". \n",
    "\n",
    "There has been some divide between the \"array programming\" community (APL/J/K) and the \"computer science\" community (Python/Jula/R/MATLAB/C/Etc...)."
   ]
  },
  {
   "cell_type": "markdown",
   "metadata": {
    "slideshow": {
     "slide_type": "subslide"
    }
   },
   "source": [
    "![APLTypeBall.jpg](APLTypeBall.jpg)\n",
    "\n",
    "[IBM Selectric Typewriter](https://www.youtube.com/watch?v=vNUEUth7qjc)"
   ]
  },
  {
   "cell_type": "markdown",
   "metadata": {
    "slideshow": {
     "slide_type": "slide"
    }
   },
   "source": [
    "***\n",
    "## Uses of APL\n",
    "Historically\n",
    "- Insurance / Actuarial science  \n",
    "  (Asset management and risk calculation)\n",
    "- Business / Finance \n",
    "- First commercial pre-internet emailing systems\n",
    "- Airline crew scheduling\n",
    "- Neural networks\n",
    "\n",
    "Today:\n",
    "- Insurance / Actuarial science  \n",
    "  (Asset management and risk calculation)\n",
    "- Oil cracking (ExxonMobil: Structure-oriented lumping)\n",
    "- High frequency trading (q / kdb+)\n",
    "- Healthcare\n",
    "- Anthropology\n",
    "- Agriculture \n",
    "- Simulation (Stormwind boating simulator)\n",
    "- Automotive production (Volvo)"
   ]
  },
  {
   "cell_type": "markdown",
   "metadata": {
    "slideshow": {
     "slide_type": "slide"
    }
   },
   "source": [
    "***\n",
    "## The APL Pocket Calculator\n",
    "APL has a darn sight more symbols than your typical pocket calculator (or calculator app on your phone).  We can get a full scientific calculator's worth of functionality right now. The following is based on the [Casio fx-83GT PLUS](https://www.amazon.co.uk/Casio-FX-83GTPLUS-S-UH-FX-83GTPLUS-Scientific-Calculator/dp/B001O3IF9U)."
   ]
  },
  {
   "cell_type": "markdown",
   "metadata": {
    "slideshow": {
     "slide_type": "subslide"
    }
   },
   "source": [
    "<table style=\"font-size:120%\">\n",
    "    <tr>\n",
    "        <td>$fx-83GT PLUS$</td>\n",
    "        <td style='font-family:\"APL385 Unicode\";'>APL</td>\n",
    "    </tr>\n",
    "    <tr>\n",
    "        <td>$\\text{Abs}$</td>\n",
    "        <td style='font-family:\"APL385 Unicode\";'>|x</td>\n",
    "    </tr>\n",
    "    <tr>\n",
    "        <td>$x^n$</td>\n",
    "        <td style='font-family:\"APL385 Unicode\";'>x*n</td>\n",
    "    </tr>\n",
    "    <tr>\n",
    "        <td>$3\\times 10^{5}$</td>\n",
    "        <td style='font-family:\"APL385 Unicode\";'>3E5</td>\n",
    "    </tr>\n",
    "    <tr>\n",
    "        <td>$x!$</td>\n",
    "        <td style='font-family:\"APL385 Unicode\";'>!x</td>\n",
    "    </tr>\n",
    "    <tr>\n",
    "        <td>$x^{-1}$</td>\n",
    "        <td style='font-family:\"APL385 Unicode\";'>÷x</td>\n",
    "    </tr>\n",
    "    <tr>\n",
    "        <td>$\\log_{a}{b}$</td>\n",
    "        <td style='font-family:\"APL385 Unicode\";'>a⍟b</td>\n",
    "    </tr>\n",
    "    <tr>\n",
    "        <td>${a} {{b}\\over{c}}$</td>\n",
    "        <td style='font-family:\"APL385 Unicode\";'>a+b÷c</td>\n",
    "    </tr>\n",
    "    <tr>\n",
    "        <td>$\\sqrt[a]{b}$</td>\n",
    "        <td style='font-family:\"APL385 Unicode\";'>b*÷a</td>\n",
    "    </tr>\n",
    "    <tr>\n",
    "        <td>$e^x$</td>\n",
    "        <td style='font-family:\"APL385 Unicode\";'>*x</td>\n",
    "    </tr>\n",
    "</table>"
   ]
  },
  {
   "cell_type": "markdown",
   "metadata": {
    "slideshow": {
     "slide_type": "subslide"
    }
   },
   "source": [
    "<table style=\"font-size:120%\">  \n",
    "    <tr>\n",
    "        <td>$fx-83GT PLUS$</td>\n",
    "        <td style='font-family:\"APL385 Unicode\";'>APL</td>\n",
    "    </tr>    \n",
    "    <tr>\n",
    "        <td>$\\pi$</td>\n",
    "        <td style='font-family:\"APL385 Unicode\";'>○1</td>\n",
    "    </tr>\n",
    "    <tr>\n",
    "        <td>$\\ln x$</td>\n",
    "        <td style='font-family:\"APL385 Unicode\";'>⍟x</td>\n",
    "    </tr>\n",
    "    <tr>\n",
    "        <td>$\\sin x$</td>\n",
    "        <td style='font-family:\"APL385 Unicode\";'>1○x</td>\n",
    "    </tr>\n",
    "    <tr>\n",
    "        <td>$\\cos x$</td>\n",
    "        <td style='font-family:\"APL385 Unicode\";'>2○x</td>\n",
    "    </tr>\n",
    "    <tr>\n",
    "        <td>$\\tan x$</td>\n",
    "        <td style='font-family:\"APL385 Unicode\";'>3○x</td>\n",
    "    </tr>\n",
    "    <tr>\n",
    "        <td>$\\text{nCr}$</td>\n",
    "        <td style='font-family:\"APL385 Unicode\";'>r!n</td>\n",
    "    </tr>\n",
    "    <tr>\n",
    "        <td>nPr</td>\n",
    "        <td style='font-family:\"APL385 Unicode\";'>(!n)÷!n-r</td>\n",
    "    </tr>\n",
    "    <tr>\n",
    "        <td>Rnd</td>\n",
    "        <td style='font-family:\"APL385 Unicode\";'>⌊0.5∘+</td>\n",
    "    </tr>\n",
    "    <tr>\n",
    "        <td>S⇔D</td>\n",
    "        <td style='font-family:\"APL385 Unicode\";'>(1∧⊢,÷)x</td>\n",
    "    </tr>\n",
    "</table>  "
   ]
  },
  {
   "cell_type": "markdown",
   "metadata": {
    "slideshow": {
     "slide_type": "slide"
    }
   },
   "source": [
    "***\n",
    "## Inputting symbols\n",
    "Your keyboard probably doesn't do `×` or `÷` or a lot of the other symbols by default. We have [a guide](../Tutorials/TypingAPL.ipynb) which gives a couple of ways of inputting APL symbols (without copying and pasting each symbol individually)."
   ]
  }
 ],
 "metadata": {
  "kernelspec": {
   "display_name": "Dyalog APL",
   "language": "apl",
   "name": "dyalog-kernel"
  },
  "language_info": {
   "file_extension": ".apl",
   "mimetype": "text/apl",
   "name": "APL"
  }
 },
 "nbformat": 4,
 "nbformat_minor": 4
}
