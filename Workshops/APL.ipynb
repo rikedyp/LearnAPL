{
 "cells": [
  {
   "cell_type": "markdown",
   "metadata": {},
   "source": [
    "# A Programming Language"
   ]
  },
  {
   "cell_type": "markdown",
   "metadata": {},
   "source": [
    "Computers consist mostly of a lot of switches which process streams of 1's and 0's. Doing anything of significant interest like this is extremely tedious and it soon becomes difficult to manage anything more than the most simple of mathematical operations.\n",
    "\n",
    "High level programming languages are designed to allow humans to express their computational problem solutions to a computer so that it may be executed."
   ]
  },
  {
   "cell_type": "markdown",
   "metadata": {},
   "source": []
  }
 ],
 "metadata": {
  "kernelspec": {
   "display_name": "Dyalog APL",
   "language": "apl",
   "name": "dyalog-kernel"
  },
  "language_info": {
   "file_extension": ".apl",
   "mimetype": "text/apl",
   "name": "APL"
  }
 },
 "nbformat": 4,
 "nbformat_minor": 4
}
