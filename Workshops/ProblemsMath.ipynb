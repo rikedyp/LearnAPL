{
 "cells": [
  {
   "cell_type": "markdown",
   "metadata": {},
   "source": [
    "# Math problems\n",
    "Back to school. Oh yeah, you are in school. Get learning."
   ]
  },
  {
   "cell_type": "markdown",
   "metadata": {},
   "source": [
    "You should have seen the following functions:  \n",
    "```APL\n",
    "      + - × ÷ ⌈ ⌊ * ⍟\n",
    "      (+/) (⌈/) (⌊/)\n",
    "```\n",
    "You should know how to name variables:\n",
    "```APL\n",
    "      number ← 3\n",
    "```"
   ]
  },
  {
   "cell_type": "markdown",
   "metadata": {},
   "source": [
    "1. Sum the first ten integers (numbers `1` to `10`)\n",
    "1. Find your approximate age in months\n",
    "1. "
   ]
  }
 ],
 "metadata": {
  "kernelspec": {
   "display_name": "Dyalog APL",
   "language": "apl",
   "name": "dyalog-kernel"
  },
  "language_info": {
   "file_extension": ".apl",
   "mimetype": "text/apl",
   "name": "APL"
  }
 },
 "nbformat": 4,
 "nbformat_minor": 4
}
