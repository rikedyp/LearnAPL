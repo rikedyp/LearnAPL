{
 "cells": [
  {
   "cell_type": "markdown",
   "metadata": {},
   "source": [
    "# Problem ideas"
   ]
  },
  {
   "cell_type": "code",
   "execution_count": 2,
   "metadata": {},
   "outputs": [
    {
     "name": "stderr",
     "output_type": "stream",
     "text": [
      "SYNTAX ERROR: Missing right argument\n",
      "      1+\n",
      "       ∧\n",
      "SYNTAX ERROR: Invalid token\n",
      "      🍣\n",
      "      ∧\n"
     ]
    }
   ],
   "source": [
    "⍝ SYNTAX ERROR in 2 strokes (valid tokens)\n",
    "1+\n",
    "⍝ SYNTAX ERROR in 1 stroke (invalid token)\n",
    "🍣"
   ]
  },
  {
   "cell_type": "code",
   "execution_count": 3,
   "metadata": {},
   "outputs": [
    {
     "name": "stderr",
     "output_type": "stream",
     "text": [
      "DOMAIN ERROR: Divide by zero\n",
      "      ÷0\n",
      "      ∧\n"
     ]
    }
   ],
   "source": [
    "⍝ DOMAIN ERROR in 2 strokes\n",
    "÷0"
   ]
  },
  {
   "cell_type": "code",
   "execution_count": 2,
   "metadata": {},
   "outputs": [
    {
     "data": {
      "text/html": [
       "<span style=\"white-space:pre; font-family: monospace\">e\n",
       "</span>"
      ]
     },
     "execution_count": 2,
     "metadata": {},
     "output_type": "execute_result"
    }
   ],
   "source": [
    "⍝ Most frequently occuring element\n",
    "{⍵[⌈/⊢/⊢⌸⍵]}'which letter appears the most often in this sentence?'"
   ]
  },
  {
   "cell_type": "code",
   "execution_count": 3,
   "metadata": {},
   "outputs": [
    {
     "data": {
      "text/html": [
       "<span style=\"white-space:pre; font-family: monospace\">⎕⎕⎕......\n",
       "⎕........\n",
       "⎕⎕⎕⎕.....\n",
       "⎕........\n",
       "⎕⎕⎕⎕⎕....\n",
       "⎕⎕⎕⎕⎕⎕⎕⎕⎕\n",
       "</span>"
      ]
     },
     "execution_count": 3,
     "metadata": {},
     "output_type": "execute_result"
    }
   ],
   "source": [
    "⍝ Create a bar chart\n",
    "{'.⎕'[1+⍵∘.≥⍳⌈/⍵]} 3 1 4 1 5 9"
   ]
  },
  {
   "cell_type": "code",
   "execution_count": 4,
   "metadata": {},
   "outputs": [
    {
     "data": {
      "text/html": [
       "<span style=\"white-space:pre; font-family: monospace\">364\n",
       "</span>"
      ]
     },
     "execution_count": 4,
     "metadata": {},
     "output_type": "execute_result"
    }
   ],
   "source": [
    "⍝ How many gifts from your true love at Christmas?\n",
    "+/+\\⍳12"
   ]
  },
  {
   "cell_type": "markdown",
   "metadata": {},
   "source": [
    "Resistors in parallel"
   ]
  },
  {
   "cell_type": "code",
   "execution_count": 2,
   "metadata": {},
   "outputs": [
    {
     "data": {
      "text/html": [
       "<span style=\"white-space:pre; font-family: monospace\">0.313433\n",
       "</span>"
      ]
     },
     "execution_count": 2,
     "metadata": {},
     "output_type": "execute_result"
    }
   ],
   "source": [
    "E←0.5 1.2 2.8\n",
    "÷+/÷(E≠0)/E"
   ]
  },
  {
   "cell_type": "code",
   "execution_count": 3,
   "metadata": {},
   "outputs": [],
   "source": [
    "]dinput\n",
    "Root←{                                                  \n",
    "⍝ ⍺: Polynomial coefficients                       \n",
    "⍝ ⍵: Initial guess of root of polynomial           \n",
    "⍝ ←: Next guess of root of polynomial              \n",
    "     drv←¯1∘(↓×∘⌽∘⍳+∘≢)⍺ ⍝ Derivative of polynomial\n",
    "     ⍵-(⍵⊥⍺)÷⍵⊥drv                                 \n",
    "}  "
   ]
  },
  {
   "cell_type": "code",
   "execution_count": 6,
   "metadata": {},
   "outputs": [
    {
     "data": {
      "text/html": [
       "<span style=\"white-space:pre; font-family: monospace\">1.41421\n",
       "</span>"
      ]
     },
     "execution_count": 6,
     "metadata": {},
     "output_type": "execute_result"
    },
    {
     "data": {
      "text/html": [
       "<span style=\"white-space:pre; font-family: monospace\">¯1.41421\n",
       "</span>"
      ]
     },
     "execution_count": 6,
     "metadata": {},
     "output_type": "execute_result"
    }
   ],
   "source": [
    "⍝ Newton-Rhaphson root finding\n",
    "1 0 ¯2 Root⍣≡1\n",
    "1 0 ¯2 Root⍣≡¯1"
   ]
  }
 ],
 "metadata": {
  "kernelspec": {
   "display_name": "Dyalog APL",
   "language": "apl",
   "name": "dyalog-kernel"
  },
  "language_info": {
   "file_extension": ".apl",
   "mimetype": "text/apl",
   "name": "APL"
  }
 },
 "nbformat": 4,
 "nbformat_minor": 4
}
