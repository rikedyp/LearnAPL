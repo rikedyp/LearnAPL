{
 "cells": [
  {
   "cell_type": "markdown",
   "metadata": {},
   "source": [
    "# Syntax"
   ]
  },
  {
   "cell_type": "markdown",
   "metadata": {},
   "source": [
    "***\n",
    "## Basics"
   ]
  },
  {
   "cell_type": "markdown",
   "metadata": {},
   "source": [
    "The simplest APL expression is a comment. It is a line which begins with a lamp symbol `⍝`."
   ]
  },
  {
   "cell_type": "code",
   "execution_count": 2,
   "metadata": {},
   "outputs": [],
   "source": [
    "⍝ This is a comment. It does nothing."
   ]
  },
  {
   "cell_type": "markdown",
   "metadata": {},
   "source": [
    "The second-simplest APL statements are simple numeric scalars and primitive functions.  "
   ]
  },
  {
   "cell_type": "markdown",
   "metadata": {},
   "source": [
    "> ### Task　**S.1**\n",
    "**Execute the following code blocks**."
   ]
  },
  {
   "cell_type": "code",
   "execution_count": 2,
   "metadata": {},
   "outputs": [
    {
     "data": {
      "text/html": [
       "<span style=\"white-space:pre; font-family: monospace\">1\n",
       "</span>"
      ]
     },
     "execution_count": 2,
     "metadata": {},
     "output_type": "execute_result"
    }
   ],
   "source": [
    "1"
   ]
  },
  {
   "cell_type": "code",
   "execution_count": 3,
   "metadata": {},
   "outputs": [
    {
     "data": {
      "text/html": [
       "<span style=\"white-space:pre; font-family: monospace\">×\n",
       "</span>"
      ]
     },
     "execution_count": 3,
     "metadata": {},
     "output_type": "execute_result"
    }
   ],
   "source": [
    "×"
   ]
  },
  {
   "cell_type": "markdown",
   "metadata": {},
   "source": [
    "Not much going on here. Without further instruction, APL returns what you give it.\n",
    "\n",
    "We can assign functions and variables to names using the \"gets\" arrow `←`."
   ]
  },
  {
   "cell_type": "code",
   "execution_count": 5,
   "metadata": {},
   "outputs": [],
   "source": [
    "numbers ← 1 5 3 2 4 "
   ]
  },
  {
   "cell_type": "markdown",
   "metadata": {},
   "source": [
    "The expression above is read as \"numbers *gets* one five three two four\".\n",
    "\n",
    "We can display the value of a variable, or the result of a function, using \"quad gets\" `⎕←`. Think of 'Quad' `⎕` as your computer display."
   ]
  },
  {
   "cell_type": "code",
   "execution_count": 6,
   "metadata": {},
   "outputs": [
    {
     "data": {
      "text/html": [
       "<span style=\"white-space:pre; font-family: monospace\">1 5 3 2 4\n",
       "</span>"
      ]
     },
     "execution_count": 6,
     "metadata": {},
     "output_type": "execute_result"
    }
   ],
   "source": [
    "⎕←numbers"
   ]
  },
  {
   "cell_type": "markdown",
   "metadata": {},
   "source": [
    "`⎕←` can be used to display intermediate results."
   ]
  },
  {
   "cell_type": "code",
   "execution_count": 8,
   "metadata": {},
   "outputs": [
    {
     "data": {
      "text/html": [
       "<span style=\"white-space:pre; font-family: monospace\">1 ¯5 4 ¯2 4\n",
       "1 ¯1 1 ¯1 1\n",
       "</span>"
      ]
     },
     "execution_count": 8,
     "metadata": {},
     "output_type": "execute_result"
    }
   ],
   "source": [
    "sign←⎕←×⎕←numbers←1 ¯5 4 ¯2 4"
   ]
  },
  {
   "cell_type": "markdown",
   "metadata": {},
   "source": [
    "Oh, and negative numbers are denoted with a high minus `¯`. "
   ]
  },
  {
   "cell_type": "code",
   "execution_count": 11,
   "metadata": {},
   "outputs": [
    {
     "data": {
      "text/html": [
       "<span style=\"white-space:pre; font-family: monospace\">0\n",
       "</span>"
      ]
     },
     "execution_count": 11,
     "metadata": {},
     "output_type": "execute_result"
    },
    {
     "data": {
      "text/html": [
       "<span style=\"white-space:pre; font-family: monospace\">3 ¯3\n",
       "</span>"
      ]
     },
     "execution_count": 11,
     "metadata": {},
     "output_type": "execute_result"
    }
   ],
   "source": [
    "3 -3 ⍝ Subtract 3 from 3\n",
    "3 ¯3 ⍝ A two element vector containing 3 and ¯3"
   ]
  },
  {
   "cell_type": "markdown",
   "metadata": {},
   "source": [
    "> ### Task **S.2**\n",
    "A simple function is the sum of a list. This is written as \"plus-slash\" <code>+/</code>.<br />\n",
    "**Assign <code>+/</code> to the name <code>sum</code> and apply it to the list of numbers from <code>1</code> to <code>5</code>.**"
   ]
  },
  {
   "cell_type": "code",
   "execution_count": 13,
   "metadata": {},
   "outputs": [],
   "source": [
    "⍝ Use this code block to complete the task"
   ]
  },
  {
   "cell_type": "markdown",
   "metadata": {},
   "source": [
    "***\n",
    "## Function application\n"
   ]
  },
  {
   "cell_type": "markdown",
   "metadata": {},
   "source": [
    "In traditional mathematics, there is a precedence hierarchy for the [order of operations](https://en.wikipedia.org/wiki/Order_of_operations). This is often taught as the acronym **PEMDAS** in the US, or **BODMAS** or **BIDMAS** in other English speaking countries. In APL, there is no such precedence rule."
   ]
  },
  {
   "cell_type": "markdown",
   "metadata": {
    "slideshow": {
     "slide_type": "slide"
    }
   },
   "source": [
    "_**Monadic**_ (prefix) functions take the result of the statement to their right as their argument.  \n",
    "_**Dyadic**_ (infix) functions take the arguments to their left and right as their two arguments."
   ]
  },
  {
   "cell_type": "code",
   "execution_count": null,
   "metadata": {
    "slideshow": {
     "slide_type": "slide"
    }
   },
   "outputs": [],
   "source": [
    "⍝ Dyadic × multiplies its arguments\n",
    "3 × 5\n",
    "⍝ Monadic × gives the signum (sign) of its argument\n",
    "× 3 2 ¯8 1 0 ¯1"
   ]
  },
  {
   "cell_type": "markdown",
   "metadata": {},
   "source": [
    "## Function application\n",
    "Remember, **a prefix function is applied to the result of statements to its right**"
   ]
  },
  {
   "cell_type": "code",
   "execution_count": null,
   "metadata": {},
   "outputs": [],
   "source": [
    "3+×1 2 3"
   ]
  },
  {
   "cell_type": "markdown",
   "metadata": {},
   "source": [
    "The previous statement is `3` added to the signum `×` of `1 2 3`."
   ]
  },
  {
   "cell_type": "markdown",
   "metadata": {},
   "source": [
    "## A common gotcha\n",
    "Parsing rules for an APL expression are defined in terms of [binding strengths](http://help.dyalog.com/latest/Content/Language/Introduction/Binding%20Strength.htm).\n",
    "\n",
    "A clearer explanation will be written here later. For now, the main rules which a new APLer needs to know are:\n",
    "- Monadic functions apply to arrays on their right.\n",
    "- Dyadic functions apply to arrays on their immediate left and right.\n",
    "- [Stranding](Arrays.ipynb#Stranding) takes precedence over function application."
   ]
  },
  {
   "cell_type": "markdown",
   "metadata": {},
   "source": [
    "The last point about stranding often leads to confusion in new APLers. It is often helpful to **use parentheses** `()` to **clarify** an APL expression."
   ]
  },
  {
   "cell_type": "markdown",
   "metadata": {},
   "source": [
    "The following three expressions are equivalent."
   ]
  },
  {
   "cell_type": "code",
   "execution_count": 14,
   "metadata": {},
   "outputs": [
    {
     "data": {
      "text/html": [
       "<span style=\"white-space:pre; font-family: monospace\">8 9 10\n",
       "</span>"
      ]
     },
     "execution_count": 14,
     "metadata": {},
     "output_type": "execute_result"
    },
    {
     "data": {
      "text/html": [
       "<span style=\"white-space:pre; font-family: monospace\">8 9 10\n",
       "</span>"
      ]
     },
     "execution_count": 14,
     "metadata": {},
     "output_type": "execute_result"
    },
    {
     "data": {
      "text/html": [
       "<span style=\"white-space:pre; font-family: monospace\">8 9 10\n",
       "</span>"
      ]
     },
     "execution_count": 14,
     "metadata": {},
     "output_type": "execute_result"
    }
   ],
   "source": [
    "2+2 3 4+4\n",
    "2+(2 3 4)+4\n",
    "2+((2 3 4)+4)"
   ]
  },
  {
   "cell_type": "markdown",
   "metadata": {},
   "source": [
    "A similar example with a nested array:"
   ]
  },
  {
   "cell_type": "code",
   "execution_count": null,
   "metadata": {},
   "outputs": [],
   "source": [
    "2+(2 3)4+4\n",
    "2+((2 3)4+4)"
   ]
  },
  {
   "cell_type": "markdown",
   "metadata": {},
   "source": [
    "## Errors\n",
    "There are a whole [slew of errors](http://help.dyalog.com/17.0/Content/Language/Errors/APL%20Errors.htm) which can occur in Dyalog. Here are some common ones which a new APLer should be aware of."
   ]
  },
  {
   "cell_type": "code",
   "execution_count": 19,
   "metadata": {},
   "outputs": [
    {
     "name": "stderr",
     "output_type": "stream",
     "text": [
      "DOMAIN ERROR\n",
      "      'A'>'B'        ⍝ DOMAIN ERROR\n",
      "         ∧\n",
      "SYNTAX ERROR: Missing right argument\n",
      "      3+             ⍝ SYNTAX ERROR\n",
      "       ∧\n",
      "LENGTH ERROR: Mismatched left and right argument shapes\n",
      "      1 2+1 2 3      ⍝ LENGTH ERROR\n",
      "         ∧\n",
      "RANK ERROR: Mismatched left and right argument ranks\n",
      "      1 2+2 2⍴4      ⍝ RANK ERROR\n",
      "         ∧\n",
      "VALUE ERROR: Undefined name: doesnotexist\n",
      "      doesnotexist   ⍝ VALUE ERROR\n",
      "      ∧\n"
     ]
    }
   ],
   "source": [
    "'A'>'B'        ⍝ DOMAIN ERROR\n",
    "3+             ⍝ SYNTAX ERROR\n",
    "1 2+1 2 3      ⍝ LENGTH ERROR\n",
    "1 2+2 2⍴4      ⍝ RANK ERROR\n",
    "doesnotexist   ⍝ VALUE ERROR"
   ]
  },
  {
   "cell_type": "markdown",
   "metadata": {},
   "source": [
    "For now, don't worry too much about what these all mean. Some you may be able to work out, but they will all become clear over time."
   ]
  },
  {
   "cell_type": "markdown",
   "metadata": {},
   "source": [
    "> ### Task **S.3**\n",
    "The `DOMAIN ERROR` above was generated using an expression with **7** symbols.  \n",
    "**Generate a ``DOMAIN ERROR`` using 2 symbols.**"
   ]
  },
  {
   "cell_type": "code",
   "execution_count": 18,
   "metadata": {},
   "outputs": [],
   "source": [
    "⍝ Use this code block to complete the task"
   ]
  },
  {
   "cell_type": "markdown",
   "metadata": {},
   "source": [
    "> ### Task **S.4**\n",
    "**Generate a `SYNTAX ERROR` using 1 symbol.**"
   ]
  },
  {
   "cell_type": "code",
   "execution_count": 4,
   "metadata": {},
   "outputs": [],
   "source": [
    "⍝ Use this code block to complete the task"
   ]
  }
 ],
 "metadata": {
  "kernelspec": {
   "display_name": "Dyalog APL",
   "language": "apl",
   "name": "dyalog-kernel"
  },
  "language_info": {
   "file_extension": ".apl",
   "mimetype": "text/apl",
   "name": "APL"
  }
 },
 "nbformat": 4,
 "nbformat_minor": 4
}
