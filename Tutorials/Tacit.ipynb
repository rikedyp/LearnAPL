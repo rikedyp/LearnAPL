{
 "cells": [
  {
   "cell_type": "markdown",
   "metadata": {},
   "source": [
    "# Tacit functions\n",
    "Dyalog APL allows tacit function declaration, which allows the user to apply combinations of functions to implied arguments. _Tacit_ means that the arguments are not explicit. "
   ]
  },
  {
   "cell_type": "code",
   "execution_count": 2,
   "metadata": {},
   "outputs": [
    {
     "data": {
      "text/html": [
       "<span style=\"white-space:pre; font-family: monospace\">10\n",
       "</span>"
      ]
     },
     "execution_count": 2,
     "metadata": {},
     "output_type": "execute_result"
    }
   ],
   "source": [
    "f ← +/ ⍝ A tacit definition of the \"plus-reduction\" (sum) function\n",
    "f 1 2 3 4"
   ]
  },
  {
   "cell_type": "markdown",
   "metadata": {},
   "source": [
    "***\n",
    "## Trains\n",
    "Trains have been available in Dyalog since [version 14.0](http://help.dyalog.com/14.0/Content/RelNotes14.0/Function%20Trains.htm).\n",
    "![trains](../img/trains.png)\n",
    "\n",
    "A 2-train is an *atop*:  \n",
    "\n",
    "> \n",
    "```APL\n",
    "  (g h) ⍵ ⬄ g (  h ⍵)\n",
    "⍺ (g h) ⍵ ⬄ g (⍺ h ⍵)\n",
    "```\n",
    "\n",
    "A 3-train is a *fork*:\n",
    "\n",
    ">\n",
    "```APL\n",
    "  (f g h) ⍵ ⬄ (  f ⍵) g (  h ⍵)\n",
    "⍺ (f g h) ⍵ ⬄ (⍺ f ⍵) g (⍺ h ⍵)\n",
    "```\n",
    "\n",
    "The *left tine* of a fork (but not an atop!) can be an array:\n",
    "\n",
    ">\n",
    "```APL\n",
    "  (A g h) ⍵ ⬄ A g (  h ⍵)\n",
    "⍺ (A g h) ⍵ ⬄ A g (⍺ h ⍵)\n",
    "```"
   ]
  },
  {
   "cell_type": "markdown",
   "metadata": {},
   "source": [
    "### Trains must be in isolation."
   ]
  },
  {
   "cell_type": "code",
   "execution_count": 2,
   "metadata": {},
   "outputs": [
    {
     "data": {
      "text/html": [
       "<span style=\"white-space:pre; font-family: monospace\">¯3\n",
       "</span>"
      ]
     },
     "execution_count": 2,
     "metadata": {},
     "output_type": "execute_result"
    },
    {
     "data": {
      "text/html": [
       "<span style=\"white-space:pre; font-family: monospace\">7 ¯3\n",
       "</span>"
      ]
     },
     "execution_count": 2,
     "metadata": {},
     "output_type": "execute_result"
    }
   ],
   "source": [
    "2  +,-  5 ⍝ Not a train\n",
    "2 (+,-) 5 ⍝ Yes a train"
   ]
  },
  {
   "cell_type": "markdown",
   "metadata": {},
   "source": [
    "### Step-by-step evaluation"
   ]
  },
  {
   "cell_type": "code",
   "execution_count": 4,
   "metadata": {},
   "outputs": [
    {
     "data": {
      "text/html": [
       "<span style=\"white-space:pre; font-family: monospace\">2.5\n",
       "</span>"
      ]
     },
     "execution_count": 4,
     "metadata": {},
     "output_type": "execute_result"
    }
   ],
   "source": [
    "(+⌿÷≢) 1 2 3 4"
   ]
  },
  {
   "cell_type": "code",
   "execution_count": 5,
   "metadata": {},
   "outputs": [
    {
     "data": {
      "text/html": [
       "<span style=\"white-space:pre; font-family: monospace\">2.5\n",
       "</span>"
      ]
     },
     "execution_count": 5,
     "metadata": {},
     "output_type": "execute_result"
    }
   ],
   "source": [
    "(+⌿ 1 2 3 4) ÷ (≢ 1 2 3 4)"
   ]
  },
  {
   "cell_type": "code",
   "execution_count": 6,
   "metadata": {},
   "outputs": [
    {
     "data": {
      "text/html": [
       "<span style=\"white-space:pre; font-family: monospace\">2.5\n",
       "</span>"
      ]
     },
     "execution_count": 6,
     "metadata": {},
     "output_type": "execute_result"
    }
   ],
   "source": [
    "10 ÷ 4"
   ]
  },
  {
   "cell_type": "markdown",
   "metadata": {},
   "source": [
    "### Getting a clearer view\n",
    "By default, a train will return a tree view of its parts."
   ]
  },
  {
   "cell_type": "code",
   "execution_count": 15,
   "metadata": {},
   "outputs": [
    {
     "data": {
      "text/html": [
       "<span style=\"white-space:pre; font-family: monospace\">Was ON -trains=parens\n",
       "</span>"
      ]
     },
     "execution_count": 15,
     "metadata": {},
     "output_type": "execute_result"
    },
    {
     "data": {
      "text/html": [
       "<span style=\"white-space:pre; font-family: monospace\">  ┌─┼───┐      \n",
       "  ⌿ , ┌─┼───┐  \n",
       "┌─┘   - , ┌─┼─┐\n",
       "+         × , ÷\n",
       "</span>"
      ]
     },
     "execution_count": 15,
     "metadata": {},
     "output_type": "execute_result"
    }
   ],
   "source": [
    "]box on -trains=tree\n",
    "(+⌿,-,×,÷)"
   ]
  },
  {
   "cell_type": "markdown",
   "metadata": {},
   "source": [
    "Use the `-trains=parens` boxing option to see the train with parentheses."
   ]
  },
  {
   "cell_type": "code",
   "execution_count": 13,
   "metadata": {},
   "outputs": [
    {
     "data": {
      "text/html": [
       "<span style=\"white-space:pre; font-family: monospace\">Was ON -trains=tree\n",
       "</span>"
      ]
     },
     "execution_count": 13,
     "metadata": {},
     "output_type": "execute_result"
    },
    {
     "data": {
      "text/html": [
       "<span style=\"white-space:pre; font-family: monospace\">(+⌿),(-,(×,÷))\n",
       "</span>"
      ]
     },
     "execution_count": 13,
     "metadata": {},
     "output_type": "execute_result"
    }
   ],
   "source": [
    "]box on -trains=parens\n",
    "(+⌿,-,×,÷)"
   ]
  },
  {
   "cell_type": "markdown",
   "metadata": {},
   "source": [
    "***\n",
    "## Examples"
   ]
  },
  {
   "cell_type": "markdown",
   "metadata": {},
   "source": [
    "**Plus and minus**"
   ]
  },
  {
   "cell_type": "code",
   "execution_count": 3,
   "metadata": {},
   "outputs": [
    {
     "data": {
      "text/html": [
       "<span style=\"white-space:pre; font-family: monospace\">2 ¯2\n",
       "</span>"
      ]
     },
     "execution_count": 3,
     "metadata": {},
     "output_type": "execute_result"
    },
    {
     "data": {
      "text/html": [
       "<span style=\"white-space:pre; font-family: monospace\">5 6 7 ¯3 ¯2 ¯1\n",
       "</span>"
      ]
     },
     "execution_count": 3,
     "metadata": {},
     "output_type": "execute_result"
    },
    {
     "data": {
      "text/html": [
       "<span style=\"white-space:pre; font-family: monospace\">1 1 1 ¯1 ¯1 ¯1\n",
       "1 1 1 ¯1 ¯1 ¯1\n",
       "</span>"
      ]
     },
     "execution_count": 3,
     "metadata": {},
     "output_type": "execute_result"
    }
   ],
   "source": [
    "(+,-)2\n",
    "1 2 3 (+,-) 4\n",
    "(2 3⍴0)(+,-) 1"
   ]
  },
  {
   "cell_type": "markdown",
   "metadata": {},
   "source": [
    "**Top-heavy fraction from a decimal**"
   ]
  },
  {
   "cell_type": "code",
   "execution_count": 4,
   "metadata": {},
   "outputs": [
    {
     "data": {
      "text/html": [
       "<span style=\"white-space:pre; font-family: monospace\">9 8\n",
       "</span>"
      ]
     },
     "execution_count": 4,
     "metadata": {},
     "output_type": "execute_result"
    }
   ],
   "source": [
    "(1∧⊢,÷) 1.125"
   ]
  },
  {
   "cell_type": "markdown",
   "metadata": {},
   "source": [
    "**Arithmetic mean**"
   ]
  },
  {
   "cell_type": "code",
   "execution_count": 2,
   "metadata": {},
   "outputs": [
    {
     "data": {
      "text/html": [
       "<span style=\"white-space:pre; font-family: monospace\">1 2 3 4\n",
       "</span>"
      ]
     },
     "execution_count": 2,
     "metadata": {},
     "output_type": "execute_result"
    }
   ],
   "source": [
    "mean←+⌿÷≢\n",
    "mean 200 4⍴⍳4"
   ]
  },
  {
   "cell_type": "markdown",
   "metadata": {},
   "source": [
    "**Is ⍵ a palindrome?**"
   ]
  },
  {
   "cell_type": "code",
   "execution_count": 24,
   "metadata": {},
   "outputs": [
    {
     "data": {
      "text/html": [
       "<span style=\"white-space:pre; font-family: monospace\">1\n",
       "</span>"
      ]
     },
     "execution_count": 24,
     "metadata": {},
     "output_type": "execute_result"
    }
   ],
   "source": [
    "(⌽≡⊢)'racecar'"
   ]
  },
  {
   "cell_type": "markdown",
   "metadata": {},
   "source": [
    "**Split delimited text**"
   ]
  },
  {
   "cell_type": "code",
   "execution_count": 25,
   "metadata": {},
   "outputs": [
    {
     "data": {
      "text/html": [
       "<span style=\"white-space:pre; font-family: monospace\">┌─────┬─────────┬────┐\n",
       "│comma│delimited│text│\n",
       "└─────┴─────────┴────┘\n",
       "</span>"
      ]
     },
     "execution_count": 25,
     "metadata": {},
     "output_type": "execute_result"
    }
   ],
   "source": [
    "','(≠⊆⊢)'comma,delimited,text'"
   ]
  },
  {
   "cell_type": "markdown",
   "metadata": {},
   "source": [
    "**Component of a vector in the direction of another vector**  \n",
    "Sometimes, a train can make the APL nicely resemble its equivalent definition in traditional mathematical notation.\n",
    "\n",
    "$$\\textbf{a}_\\textbf{b} = (\\textbf{a}\\cdot\\hat{\\textbf{b}})\\hat{\\textbf{b}}$$"
   ]
  },
  {
   "cell_type": "markdown",
   "metadata": {},
   "source": [
    "$$\\hat{\\textbf{b}} = \\frac{\\textbf{b}}{|\\textbf{b}|} $$"
   ]
  },
  {
   "cell_type": "code",
   "execution_count": 6,
   "metadata": {},
   "outputs": [],
   "source": [
    "Mag←{0.5*⍨+/⍵*2}     ⍝ dfn:   Magnitude of a vector in Euclidean space\n",
    "Norm←÷∘Mag⍨          ⍝ tacit: Normalised vector\n",
    "InDirOf←(⊢×+.×)∘Norm ⍝ Component of vector ⍺ in direction of ⍵"
   ]
  },
  {
   "cell_type": "markdown",
   "metadata": {},
   "source": [
    "***\n",
    "## Writing tacit functions\n",
    "Rome wasn't built in a day, and tacit functions aren't usually created in their final form. Often it is best to write a dfn solution and, if the dfn is short and represents a single mathematical or computational idea, consider whether to refine the code into tacit form afterwards."
   ]
  },
  {
   "cell_type": "markdown",
   "metadata": {},
   "source": [
    "As an example, let's write a function to calculate the range of values in a numeric array. The range is the difference between the largest value and the smallest."
   ]
  },
  {
   "cell_type": "code",
   "execution_count": 7,
   "metadata": {},
   "outputs": [],
   "source": [
    "array←2 3⍴62 31 59 23 26 16 ⍝ Define array"
   ]
  },
  {
   "cell_type": "code",
   "execution_count": 9,
   "metadata": {},
   "outputs": [
    {
     "data": {
      "text/html": [
       "<span style=\"white-space:pre; font-family: monospace\">62 26\n",
       "</span>"
      ]
     },
     "execution_count": 9,
     "metadata": {},
     "output_type": "execute_result"
    }
   ],
   "source": [
    "⌈/array   ⍝ Largest value"
   ]
  },
  {
   "cell_type": "markdown",
   "metadata": {},
   "source": [
    "We're getting two values because the [reduction](Operators.ipynb#Reduction) is along the last axis (the rows). There are two rows so we get a value for each row.\n",
    "\n",
    "The ravel function `,` returns a vector of all of the array's elements."
   ]
  },
  {
   "cell_type": "code",
   "execution_count": 10,
   "metadata": {},
   "outputs": [
    {
     "data": {
      "text/html": [
       "<span style=\"white-space:pre; font-family: monospace\">62\n",
       "</span>"
      ]
     },
     "execution_count": 10,
     "metadata": {},
     "output_type": "execute_result"
    }
   ],
   "source": [
    "⌈/,array ⍝ Largest value"
   ]
  },
  {
   "cell_type": "code",
   "execution_count": 13,
   "metadata": {},
   "outputs": [
    {
     "data": {
      "text/html": [
       "<span style=\"white-space:pre; font-family: monospace\">46\n",
       "</span>"
      ]
     },
     "execution_count": 13,
     "metadata": {},
     "output_type": "execute_result"
    }
   ],
   "source": [
    "{(⌈/,⍵)-⌊/,⍵}array ⍝ The largest minus the smallest "
   ]
  },
  {
   "cell_type": "markdown",
   "metadata": {},
   "source": [
    "That works but let's try to *spot the train*.\n",
    "\n",
    "We are applying 3 functions, so it's a 3-train - a fork.  \n",
    "`⍺ (f g h) ⍵ ⬄ (⍺ f ⍵) g (⍺ h ⍵)`\n",
    "```APL\n",
    "f←⌈/\n",
    "g←-\n",
    "h←⌊/\n",
    "```"
   ]
  },
  {
   "cell_type": "markdown",
   "metadata": {},
   "source": [
    "First we should factor out ravel\n",
    "```APL\n",
    "{(⌈/⍵)-⌊/⍵},array ⍝ Factor out ravel\n",
    "```\n",
    "\n",
    "Then we can see the 3 functions in our fork\n",
    "```APL\n",
    "{(⌈/-⌊/)⍵},array  ⍝ Almost there\n",
    "```\n",
    "\n",
    "Then just remove the dfn, but we're not quite done\n",
    "```APL\n",
    "(⌈/-⌊/),array     ⍝ This isn't a complete function\n",
    "```\n",
    "This is simply one function `(⌈/-⌊/)` applied after another `,`.\n",
    "```APL\n",
    "(⌈/-⌊/)∘,         ⍝ This is a single, complete function\n",
    "```"
   ]
  },
  {
   "cell_type": "code",
   "execution_count": 14,
   "metadata": {},
   "outputs": [
    {
     "data": {
      "text/html": [
       "<span style=\"white-space:pre; font-family: monospace\">46\n",
       "</span>"
      ]
     },
     "execution_count": 14,
     "metadata": {},
     "output_type": "execute_result"
    }
   ],
   "source": [
    "range←(⌈/-⌊/)∘,\n",
    "range array"
   ]
  }
 ],
 "metadata": {
  "kernelspec": {
   "display_name": "Dyalog APL",
   "language": "apl",
   "name": "dyalog-kernel"
  },
  "language_info": {
   "file_extension": ".apl",
   "mimetype": "text/apl",
   "name": "APL"
  }
 },
 "nbformat": 4,
 "nbformat_minor": 4
}
