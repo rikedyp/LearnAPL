{
 "cells": [
  {
   "cell_type": "markdown",
   "metadata": {},
   "source": [
    "# Objects in Dyalog"
   ]
  },
  {
   "cell_type": "markdown",
   "metadata": {},
   "source": [
    "The humble arrays consists of character or numeric data (or a mixture) organised along one or more orthogonal axes."
   ]
  },
  {
   "cell_type": "code",
   "execution_count": 2,
   "metadata": {},
   "outputs": [
    {
     "data": {
      "text/html": [
       "<span style=\"white-space:pre; font-family: monospace\">1  2 3 4\n",
       "5  6 7 8\n",
       "9 10 A B\n",
       "        \n",
       "C  D E F\n",
       "G  H I J\n",
       "K  L M N\n",
       "</span>"
      ]
     },
     "execution_count": 2,
     "metadata": {},
     "output_type": "execute_result"
    }
   ],
   "source": [
    "humble ← 2 3 4⍴(⍳10),⎕A\n",
    "⎕←humble"
   ]
  },
  {
   "cell_type": "markdown",
   "metadata": {},
   "source": [
    "Nested arrays contain arrays. Their session display is boxed with `]Box on`"
   ]
  },
  {
   "cell_type": "code",
   "execution_count": 5,
   "metadata": {},
   "outputs": [
    {
     "data": {
      "text/html": [
       "<span style=\"white-space:pre; font-family: monospace\">┌─────┬─────┐\n",
       "│1 2 3│AB   │\n",
       "│     │CD   │\n",
       "├─────┼─────┤\n",
       "│4 5 6│1 2 3│\n",
       "│     │4 5 6│\n",
       "│     │7 8 9│\n",
       "└─────┴─────┘\n",
       "</span>"
      ]
     },
     "execution_count": 5,
     "metadata": {},
     "output_type": "execute_result"
    }
   ],
   "source": [
    "nested ← 2 2⍴(1 2 3) (2 2⍴⎕A) (4 5 6) (3 3⍴⍳9)\n",
    "⎕←nested"
   ]
  },
  {
   "cell_type": "markdown",
   "metadata": {},
   "source": [
    "> ### Problem\n",
    "We want to apply 3 functions to each of 3 elements in a vector independently"
   ]
  },
  {
   "cell_type": "markdown",
   "metadata": {},
   "source": [
    "***Example session:***\n",
    "```APL```\n",
    "number.name"
   ]
  },
  {
   "cell_type": "markdown",
   "metadata": {},
   "source": [
    "Maybe I want a train?"
   ]
  },
  {
   "cell_type": "code",
   "execution_count": 10,
   "metadata": {},
   "outputs": [
    {
     "data": {
      "text/html": [
       "<span style=\"white-space:pre; font-family: monospace\">┌────────┬─────────┬─────────┐\n",
       "│55 5.5 9│100 10 18│110 11 18│\n",
       "└────────┴─────────┴─────────┘\n",
       "</span>"
      ]
     },
     "execution_count": 10,
     "metadata": {},
     "output_type": "execute_result"
    }
   ],
   "source": [
    "(sum,mean,range)¨(⍳10) (¯1+2×⍳10) (2×⍳10)"
   ]
  },
  {
   "cell_type": "markdown",
   "metadata": {},
   "source": [
    "Actually, what I meant was this\n",
    "***Example session:***\n",
    "```APL\n",
    "   \n",
    "```"
   ]
  },
  {
   "cell_type": "markdown",
   "metadata": {},
   "source": []
  }
 ],
 "metadata": {
  "kernelspec": {
   "display_name": "Dyalog APL",
   "language": "apl",
   "name": "dyalog-kernel"
  },
  "language_info": {
   "file_extension": ".apl",
   "mimetype": "text/apl",
   "name": "APL"
  }
 },
 "nbformat": 4,
 "nbformat_minor": 4
}
