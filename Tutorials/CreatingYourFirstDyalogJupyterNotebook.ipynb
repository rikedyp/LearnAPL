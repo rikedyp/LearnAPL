{
 "cells": [
  {
   "cell_type": "markdown",
   "metadata": {
    "slideshow": {
     "slide_type": "slide"
    }
   },
   "source": [
    "# Creating your first Dyalog Jupyter Notebook"
   ]
  },
  {
   "cell_type": "markdown",
   "metadata": {
    "slideshow": {
     "slide_type": "slide"
    }
   },
   "source": [
    "## What is a Dyalog Jupyter Notebook?\n",
    "Previously:\n",
    "- Adám Brudzewsky\n",
    "    - [Webinar](https://dyalog.tv/Webinar/?v=P7rGW5ZMq9w)\n",
    "    - [Dyalog '18](https://dyalog.tv/Dyalog18/?v=ClcRv4b9ZIs)\n"
   ]
  },
  {
   "cell_type": "code",
   "execution_count": 2,
   "metadata": {
    "slideshow": {
     "slide_type": "slide"
    }
   },
   "outputs": [
    {
     "data": {
      "text/html": [
       "<span style=\"white-space:pre; font-family: monospace\">WOW\n",
       "</span>"
      ]
     },
     "execution_count": 2,
     "metadata": {},
     "output_type": "execute_result"
    }
   ],
   "source": [
    "⍝ You can execute APL code in cells like these\n",
    "3⍴'WO'"
   ]
  },
  {
   "cell_type": "markdown",
   "metadata": {
    "slideshow": {
     "slide_type": "slide"
    }
   },
   "source": [
    "**You can also use [Markdown](https://jupyter-notebook.readthedocs.io/en/stable/examples/Notebook/Working%20With%20Markdown%20Cells.html) to present formatted text in cells like these**\n",
    "\n",
    "(double click on a Markdown cell to edit its content)"
   ]
  },
  {
   "cell_type": "markdown",
   "metadata": {
    "slideshow": {
     "slide_type": "slide"
    }
   },
   "source": [
    "$\\LaTeX$\n",
    "\n",
    "Look how we can put LaTeX formatted *maths* right beside equivalent `APL`:\n",
    "\n",
    "$e^{i \\pi} = -1$\n",
    "\n",
    "```APL\n",
    "¯1=*○0J1 ⍝ APL in Markdown\n",
    "```"
   ]
  },
  {
   "cell_type": "code",
   "execution_count": 3,
   "metadata": {
    "slideshow": {
     "slide_type": "slide"
    }
   },
   "outputs": [
    {
     "data": {
      "text/html": [
       "<span style=\"white-space:pre; font-family: monospace\">¯1\n",
       "</span>"
      ]
     },
     "execution_count": 3,
     "metadata": {},
     "output_type": "execute_result"
    }
   ],
   "source": [
    "*○0J1 ⍝ Executable APL"
   ]
  },
  {
   "cell_type": "markdown",
   "metadata": {
    "slideshow": {
     "slide_type": "slide"
    }
   },
   "source": [
    "## Use cases"
   ]
  },
  {
   "cell_type": "markdown",
   "metadata": {
    "slideshow": {
     "slide_type": "fragment"
    }
   },
   "source": [
    "How-to style tutorials and documentation"
   ]
  },
  {
   "cell_type": "markdown",
   "metadata": {
    "slideshow": {
     "slide_type": "fragment"
    }
   },
   "source": [
    "Set assignments to students"
   ]
  },
  {
   "cell_type": "markdown",
   "metadata": {
    "slideshow": {
     "slide_type": "fragment"
    }
   },
   "source": [
    "...at home or in the classroom"
   ]
  },
  {
   "cell_type": "markdown",
   "metadata": {
    "slideshow": {
     "slide_type": "subslide"
    }
   },
   "source": [
    "\"I have long been struck by the contrast between the success with which the adventurous learn APL by simply using it, and the frequent failure of lecture courses to communicate the simplicity and applicability of the language. \n",
    "\n",
    "Kenneth E. Iverson | Toronto, Ontario | July, 1981"
   ]
  },
  {
   "cell_type": "markdown",
   "metadata": {
    "slideshow": {
     "slide_type": "slide"
    }
   },
   "source": [
    "## Presenting a notebook\n",
    "\n",
    "Using [reveal.js](https://revealjs.com), Jupyter Notebooks can be turned into slideshow presentations with little effort.\n",
    "\n",
    "```console\n",
    "$ pip install --user jupyter_contrib_nbextensions\n",
    "$ jupyter nbconvert Creating\\ your\\ first\\ Dyalog\\ Jupyter\\ Notebook.ipynb --to slides --ServePostProcessor.port=8888 --ServePostProcessor.ip='*' --post serve --SlidesExporter.reveal_theme=serif \n",
    "```"
   ]
  },
  {
   "cell_type": "markdown",
   "metadata": {
    "slideshow": {
     "slide_type": "slide"
    }
   },
   "source": [
    "## How to get started"
   ]
  },
  {
   "cell_type": "markdown",
   "metadata": {
    "slideshow": {
     "slide_type": "subslide"
    }
   },
   "source": [
    "[https://github.com/Dyalog/dyalog-jupyter-kernel](https://github.com/Dyalog/dyalog-jupyter-kernel)\n",
    "\n",
    "There are of course [instructions on the wiki](https://github.com/Dyalog/dyalog-jupyter-kernel/wiki/1.-Offline-usage)...\n",
    "\n",
    "... but the steps are basically the following:\n",
    "- Install Python 3 on your platform\n",
    "- Install Jupyter ([Notebook](https://jupyter.readthedocs.io/en/latest/install.html) / [Lab](https://jupyterlab.readthedocs.io/en/stable/getting_started/installation.html) / [Hub](https://jupyter.org/hub))\n",
    "- Install the [Dyalog Jupyter kernel](https://github.com/Dyalog/dyalog-jupyter-kernel/wiki/1.-Offline-usage)"
   ]
  },
  {
   "cell_type": "markdown",
   "metadata": {
    "slideshow": {
     "slide_type": "subslide"
    }
   },
   "source": [
    "### Jupyter environments\n",
    "\n",
    "**Jupyter Notebook**\n",
    "- The default\n",
    "- `sudo apt install jupyter`\n",
    "\n",
    "**Jupyter Lab**\n",
    "- Nice interface\n",
    "- [Extensions](https://jupyterlab.readthedocs.io/en/stable/user/extensions.html)\n",
    "\n",
    "**Jupyter Hub**\n",
    "- Multiple Users\n",
    "- Great for institution + classroom environments\n",
    "- [The Littlest Jupyter Hub]()"
   ]
  },
  {
   "cell_type": "markdown",
   "metadata": {
    "slideshow": {
     "slide_type": "slide"
    }
   },
   "source": [
    "### The easiest way\n",
    "\n",
    "Can't I quickly type up a notebook for my class or publication?"
   ]
  },
  {
   "cell_type": "markdown",
   "metadata": {
    "slideshow": {
     "slide_type": "subslide"
    }
   },
   "source": [
    "Funny you should ask...\n",
    "\n",
    "We've created a Dyalog Jupyter [Binder](https://mybinder.org/). Simply click the [Launch Binder](https://mybinder.org/v2/gh/rikedyp/Binder/1c175a7) link from [https://github.com/Dyalog19/D16](https://github.com/Dyalog19/D16) and Binder will spawn a docker container just for you!"
   ]
  },
  {
   "cell_type": "markdown",
   "metadata": {},
   "source": [
    "### TryAPL\n",
    "\n",
    "[TryAPL](https://tryapl.org/) can execute Dyalog Jupyter notebooks line by line (currently not LaTeX, HTML or SharpPlot). Simply go to the \"Learn\" tab and paste the notebook's URL in the bar at the bottom."
   ]
  },
  {
   "cell_type": "markdown",
   "metadata": {
    "slideshow": {
     "slide_type": "slide"
    }
   },
   "source": [
    "### Installing Jupyter Locally\n",
    "\n",
    "More details about installing these environments on Windows, MacOS and Linux can be found in [another notebook]() in this repository."
   ]
  },
  {
   "cell_type": "markdown",
   "metadata": {
    "slideshow": {
     "slide_type": "subslide"
    }
   },
   "source": [
    "**Linux**\n",
    "\n",
    "- Use apt and pip\n",
    "\n",
    "**Windows**\n",
    "\n",
    "[There is a blog post](http://technivore.org/posts/2016/02/27/windows-jupyter-three-ways.html) that gives three ways to get Jupyter running on Windows.\n",
    "\n",
    "- 'Pure python'  \n",
    "- Anaconda  \n",
    "- Docker\n",
    "\n",
    "**MacOS**\n",
    "- Use [Homebrew](https://brew.sh/) and pip\n",
    "\n",
    "To use Dyalog with Jupyter notebooks, you will need to install the [Dyalog Jupyter kernel](https://github.com/Dyalog/dyalog-jupyter-kernel)"
   ]
  },
  {
   "cell_type": "markdown",
   "metadata": {
    "slideshow": {
     "slide_type": "slide"
    }
   },
   "source": [
    "# Dyalog Jupyter Binder\n",
    "*Use it!*\n",
    "- Tutorials\n",
    "- Training\n",
    "- Education\n",
    "- Documentation\n",
    "\n",
    " https://github.com/Dyalog19/D16"
   ]
  },
  {
   "cell_type": "markdown",
   "metadata": {
    "slideshow": {
     "slide_type": "slide"
    }
   },
   "source": [
    "# Dyalog Jupyter Binder\n",
    "*Use it!*\n",
    "\n",
    "Materials from this presentation:\n",
    "\n",
    "https://github.com/Dyalog19/D16\n",
    "- Binder link\n",
    "- More details on installing Jupyer environments with the Dyalog kernel\n",
    "- View and download this presentation"
   ]
  },
  {
   "cell_type": "markdown",
   "metadata": {
    "slideshow": {
     "slide_type": "fragment"
    }
   },
   "source": [
    "Want to share? Send notebooks to notebooks@dyalog.com"
   ]
  }
 ],
 "metadata": {
  "kernelspec": {
   "display_name": "Dyalog APL",
   "language": "apl",
   "name": "dyalog-kernel"
  },
  "language_info": {
   "file_extension": ".apl",
   "mimetype": "text/apl",
   "name": "APL"
  }
 },
 "nbformat": 4,
 "nbformat_minor": 4
}
