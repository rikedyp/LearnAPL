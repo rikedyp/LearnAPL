{
 "cells": [
  {
   "cell_type": "markdown",
   "metadata": {},
   "source": [
    "# Introduction\n",
    "Let's try this again, shall we?"
   ]
  },
  {
   "cell_type": "markdown",
   "metadata": {},
   "source": [
    "\"How do I...?\" \n",
    "\"What is it you want to do? If you tell me what you are trying to achieve then I can help you.\"\n",
    "\n",
    "The problem with a general introduction to a whole language like this is that it goes against the pragmatic nature of APL itself. I have been reading Think Python by Allen B. Downey and it is clear that this book, and others like it, are designed to take somebody who has heard of programming as a layman and give them the foundational knowledge and skills to become a computer scientist. Not even a software developer per se, but somebody with the technical and theoretical knowledge of how a computer is constructed and how information, data and algorithms are stored  in the computer (at least in the abstract sense of 1s and 0s, not the details of semiconductor states in an SSD or the magnetic orientations of hard disks and older floppy drives).\n",
    "\n",
    "APL is a pragmatic language. Very shortly after I learned what APL was and started to learn it for myself, I spoke with a friend who is involved with machine learning who said \"I didn't know APL was still a thing?\" and that he'd played around with J a little bit. \"It seems like it's purpose-built for solving Project Euler, but I couldn't really get it to do anything\". I think maybe APLers should lean into the \"purpose-built for problem solving\" aspect a bit more, and into \"you can do anything with APL\" a little less.\n",
    "\n",
    "More recently I heard a podcast clip discussing the popularity of different programming languages and they mentioned the \"fallacy of the general purpose programming language\". This is the phrase which sums up that conversation had between the unknowing-but-curious protagonist and the early adopter or fanatic of a new or particularly unusual (but not hobby-experimental) languages. \n",
    "\n",
    "\"So what can you do with X?\" \n",
    "\n",
    "\"Oh, well X is turing complete, so you can do anything!\"\n",
    "\n",
    "Technically, CSS is turing complete and therefore a [general-purpose](https://keithclark.co.uk/labs/css-fps/) [programming language](https://codepen.io/elad2412/pen/hBaqo). Technically, you [can do anything](https://www.youtube.com/watch?v=uNjxe8ShM-8) in [Excel spreadsheets](https://www.youtube.com/watch?v=qoxmyH7GezE). This doesn't really answer the question in a useful way, and it also doesn't help people to express to others why they would want to adopt a language. Excel lets people do programming tasks on data without really feeling like they're programming and CSS lets you style websites in a modular, adaptable way. APL lets you express problem solutions to the computer in a form that is very close to what is in your head. Of course, if your head is full of syntactic garbage accrued from years of programming in traditional languages, it's going to be harder to get back to your child-like state and susceptible to thinking in APL than if you'd never programmed before.\n",
    "\n",
    "There seems to be a minor conflict between the attitude of people who teach APL and those who want to learn it. Some people have heard of array programming and have heard it said that, even if they never use it professionally, they should have a go at learning it as they will discover a different way of thinking about problems which they can even transfer to their work in traditional languages and improve their overall ability as a programmer. They would therefore like to be guided to the exact set of examples and tutorials which will take them from someone who is used to deconstructing problems into subroutines and mould them into the array programmer who solves problems with no branching in 10 lines of code or less."
   ]
  },
  {
   "cell_type": "markdown",
   "metadata": {},
   "source": [
    "This course will begin as no more than a set of curated problems which the student should solve. To the first few you will already know the answer, and you will learn how to express that answer in APL. As the problems increase in complexity, a seasoned programmer may have ideas pop into their head. \"Aha! 'Tis but a nested loop!\" They will yearn for the control structures and traditional iterations of their youth. The job of this course is to smack you upside the head in those moments and remind you to think about *what it is you are trying to accomplish*, and nudge you towards the way which expresses this more closely."
   ]
  }
 ],
 "metadata": {
  "kernelspec": {
   "display_name": "Dyalog APL",
   "language": "apl",
   "name": "dyalog-kernel"
  },
  "language_info": {
   "file_extension": ".apl",
   "mimetype": "text/apl",
   "name": "APL"
  }
 },
 "nbformat": 4,
 "nbformat_minor": 4
}
