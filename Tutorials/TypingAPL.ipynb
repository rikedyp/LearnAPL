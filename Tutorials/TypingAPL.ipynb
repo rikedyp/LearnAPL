{
 "cells": [
  {
   "cell_type": "markdown",
   "metadata": {},
   "source": [
    "# Typing APL symbols"
   ]
  },
  {
   "cell_type": "markdown",
   "metadata": {},
   "source": [
    "> ### Task\n",
    "**Type the following into the code block below: `⍺*⎕`**"
   ]
  },
  {
   "cell_type": "code",
   "execution_count": null,
   "metadata": {},
   "outputs": [],
   "source": [
    "⍝ Type ⍺*⎕ here: "
   ]
  },
  {
   "cell_type": "markdown",
   "metadata": {},
   "source": [
    "## Javascript language bar  \n",
    "*The following code puts an [APL language bar](https://abrudz.github.io/lb/apl) at the top of the page. In the lab view this bar remains between notebooks.*\n",
    "\n",
    "- Click symbols to input them\n",
    "- Use backtick `` ` `` and then type a key to enter APL symbols (mouse hover over a symbol to see which key)\n",
    "\n",
    "**Execute the code below to use the language bar** "
   ]
  },
  {
   "cell_type": "code",
   "execution_count": 2,
   "metadata": {},
   "outputs": [
    {
     "data": {
      "text/html": [
       "<script>;(_=>{\n",
       "let hc={'<':'&lt;','&':'&amp;',\"'\":'&apos;','\"':'&quot;'},he=x=>x.replace(/[<&'\"]/g,c=>hc[c]) //html chars and escape fn\n",
       ",tcs='<-←xx×/\\\\×:-÷*O⍟[-⌹-]⌹OO○77⌈FF⌈ll⌊LL⌊T_⌶II⌶|_⊥TT⊤-|⊣|-⊢=/≠L-≠<=≤<_≤>=≥>_≥==≡=_≡7=≢L=≢vv∨^^∧^~⍲v~⍱^|↑v|↓((⊂cc⊂(_⊆c_⊆))⊃[|⌷|]⌷A|⍋V|⍒ii⍳i_⍸ee∊e_⍷'+\n",
       "'uu∪UU∪nn∩/-⌿\\\\-⍀,-⍪rr⍴pp⍴O|⌽O-⊖O\\\\⍉::¨\"\"¨~:⍨~\"⍨*:⍣*\"⍣oo∘o:⍤o\"⍤[\\'⍞\\']⍞[]⎕[:⍠:]⍠[=⌸=]⌸[<⌺>]⌺o_⍎oT⍕o-⍕<>⋄^v⋄on⍝->→aa⍺ww⍵VV∇--¯0~⍬'+\n",
       "'^-∆^=⍙[?⍰?]⍰:V⍢∇\"⍢||∥ox¤)_⊇_)⊇O:⍥O\"⍥V~⍫\\'\\'`'\n",
       ",lbs=['←←\\nASSIGN',' ','++\\nconjugate\\nplus','--\\nnegate\\nminus','××\\ndirection\\ntimes','÷÷\\nreciprocal\\ndivide','**\\nexponential\\npower','⍟⍟\\nnatural logarithm\\nlogarithm',\n",
       "'⌹⌹\\nmatrix inverse\\nmatrix divide','○○\\npi times\\ncircular','!!\\nfactorial\\nbinomial','??\\nroll\\ndeal',' ','||\\nmagnitude\\nresidue',\n",
       "'⌈⌈\\nceiling\\nmaximum','⌊⌊\\nfloor\\nminimum','⊥⊥\\ndecode','⊤⊤\\nencode','⊣⊣\\nsame\\nleft','⊢⊢\\nsame\\nright',' ','==\\nequal','≠≠\\nnot equal',\n",
       "'≤≤\\nless than or equal to','<<\\nless than','>>\\ngreater than','≥≥\\ngreater than or equal to','≡≡\\ndepth\\nmatch','≢≢\\ntally\\nnot match',' ','∨∨\\ngreatest common divisor/or',\n",
       "'∧∧\\nlowest common multiple/and','⍲⍲\\nnand','⍱⍱\\nnor',' ','↑↑\\nmix\\ntake','↓↓\\nsplit\\ndrop','⊂⊂\\nenclose\\npartioned enclose','⊃⊃\\nfirst\\npick','⊆⊆\\nnest\\npartition\\n','⌷⌷\\nindex','⍋⍋\\ngrade up\\ngrade up',\n",
       "'⍒⍒\\ngrade down\\ngrade down',' ','⍳⍳\\nindices\\nindices of','⍸⍸\\nwhere\\ninterval index','∊∊\\nenlist\\nmember of','⍷⍷\\nfind','∪∪\\nunique\\nunion','∩∩\\nintersection','~~\\nnot\\nwithout',' ',\n",
       "'//\\nreplicate\\nReduce','\\\\\\\\\\n\\expand\\nScan','⌿⌿\\nreplicate first\\nReduce First','⍀⍀\\nexpand first\\nScan First',' ',',,\\nenlist\\ncatenate/laminate',\n",
       "'⍪⍪\\ntable\\ncatenate first/laminate','⍴⍴\\nshape\\nreshape','⌽⌽\\nreverse\\nrotate','⊖⊖\\nreverse first\\nrotate first',\n",
       "'⍉⍉\\ntranspose\\nreorder axes',' ','¨¨\\nEach','⍨⍨\\nSelfie\\nSwap','⍣⍣\\nRepeat','..\\nOuter Product (∘.)\\nInner Product',\n",
       "'∘∘\\nOUTER PRODUCT (∘.)\\nCurry\\nCompose','⍤⍤\\nRank','@@\\nAt',' ','⍞⍞\\nSTDIN\\nSTDERR','⎕⎕\\nEVALUATED STDIN\\nSTDOUT','⍠⍠\\nVariant',\n",
       "'⌸⌸\\nIndex Key\\nKey\\n','⌺⌺\\nStencil','⌶⌶\\nI-Beam','⍎⍎\\nexecute','⍕⍕\\nformat',' ','⋄⋄\\nSTATEMENT SEPARATOR','⍝⍝\\nCOMMENT','→→\\nABORT\\nBRANCH','⍵⍵\\nRIGHT ARGUMENT\\nRIGHT OPERAND (⍵⍵)','⍺⍺\\nLEFT ARGUMENT\\nLEFT OPERAND (⍺⍺)',\n",
       "'∇∇\\nrecursion\\nRecursion (∇∇)','&&\\nSpawn',' ','¯¯\\nNEGATIVE','⍬⍬\\nEMPTY NUMERIC VECTOR','∆∆\\nIDENTIFIER CHARACTER','⍙⍙\\nIDENTIFIER CHARACTER']\n",
       ",bqk=' =1234567890-qwertyuiop\\\\asdfghjk∙l;\\'zxcvbnm,./`[]+!@#$%^&*()_QWERTYUIOP|ASDFGHJKL:\"ZXCVBNM<>?~{}'.replace(/∙/g,'')\n",
       ",bqv='`÷¨¯<≤=≥>≠∨∧×?⍵∊⍴~↑↓⍳○*⊢∙⍺⌈⌊_∇∆∘\\'⎕⍎⍕∙⊂⊃∩∪⊥⊤|⍝⍀⌿⋄←→⌹⌶⍫⍒⍋⌽⍉⊖⍟⍱⍲!⍰W⍷R⍨YU⍸⍥⍣⊣ASDF⍢H⍤⌸⌷≡≢⊆⊇CVB¤∥⍪⍙⍠⌺⍞⍬'.replace(/∙/g,'')\n",
       ",tc={},bqc={} //tab completions and ` completions\n",
       "for(let i=0;i<bqk.length;i++)bqc[bqk[i]]=bqv[i]\n",
       "for(let i=0;i<tcs.length;i+=3)tc[tcs[i]+tcs[i+1]]=tcs[i+2]\n",
       "for(let i=0;i<tcs.length;i+=3){let k=tcs[i+1]+tcs[i];tc[k]=tc[k]||tcs[i+2]}\n",
       "let lbh='';for(let i=0;i<lbs.length;i++){\n",
       "  let ks=[]\n",
       "  for(let j=0;j<tcs.length;j+=3)if(lbs[i][0]===tcs[j+2])ks.push('\\n'+tcs[j]+' '+tcs[j+1]+' <tab>')\n",
       "  for(let j=0;j<bqk.length;j++)if(lbs[i][0]===bqv[j])ks.push('\\n` '+bqk[j])\n",
       "  lbh+='<b title=\"'+he(lbs[i].slice(1)+(ks.length?'\\n'+ks.join(''):''))+'\">'+lbs[i][0]+'</b>'\n",
       "}\n",
       "let d=document,el=d.createElement('div');el.innerHTML=\n",
       "`<div class=ngn_lb><span class=ngn_x title=Close>❎</span>${lbh}</div>\n",
       " <style>@font-face{font-family:\"APL385 Unicode\";src:local(\"APL385 Unicode\"),url(//abrudz.github.io/lb/Apl385.woff)format('woff');}</style>\n",
       " <style>\n",
       "  .ngn_lb{position:fixed;top:0;left:0;right:0;background-color:#eee;color:#000;cursor:default;z-index:2147483647;\n",
       "    font-family:\"Apl385 Unicode\",monospace;border-bottom:solid #999 1px;padding:2px 2px 0 2px;word-wrap:break-word;}\n",
       "  .ngn_lb b{cursor:pointer;padding:0 1px;font-weight:normal}\n",
       "  .ngn_lb b:hover,.ngn_bq .ngn_lb{background-color:#777;color:#fff}\n",
       "  .ngn_x{float:right;color:#999;cursor:pointer;margin-top:-3px}\n",
       "  .ngn_x:hover{color:#f00}\n",
       " </style>`\n",
       "d.body.appendChild(el)\n",
       "let t,ts=[],lb=el.firstChild,bqm=0 //t:textarea or input, lb:language bar, bqm:backquote mode\n",
       "let pd=x=>x.preventDefault()\n",
       "let ev=(x,t,f,c)=>x.addEventListener(t,f,c)\n",
       "ev(lb,'mousedown',x=>{\n",
       "  if(x.target.classList.contains('ngn_x')){lb.hidden=1;bodyUp();upd();pd(x);return}\n",
       "  if(x.target.nodeName==='B'&&t){\n",
       "    let i=t.selectionStart,j=t.selectionEnd,v=t.value,s=x.target.textContent\n",
       "    if(i!=null&&j!=null){t.value=v.slice(0,i)+s+v.slice(j);t.selectionStart=t.selectionEnd=i+s.length}\n",
       "    pd(x);return\n",
       "  }\n",
       "})\n",
       "let fk=x=>{\n",
       "  let t=x.target\n",
       "  if(bqm){let i=t.selectionStart,v=t.value,c=bqc[x.key];if(x.which>31){bqm=0;d.body.classList.remove('ngn_bq')}\n",
       "          if(c){t.value=v.slice(0,i)+c+v.slice(i);t.selectionStart=t.selectionEnd=i+1;pd(x);return!1}}\n",
       "  if (!x.ctrlKey && !x.shiftKey && !x.altKey && !x.metaKey) {\n",
       "    if (\"`½²^º§ùµ°\".indexOf(x.key) > -1) {\n",
       "      bqm=1;d.body.classList.add('ngn_bq');pd(x); // ` or other trigger symbol pressed, wait for next key\n",
       "    } else if (x.key == \"Tab\") {\n",
       "      let i=t.selectionStart,v=t.value,c=tc[v.slice(i-2,i)]\n",
       "      if(c){t.value=v.slice(0,i-2)+c+v.slice(i);t.selectionStart=t.selectionEnd=i-1;pd(x)}\n",
       "    }\n",
       "  }\n",
       "}\n",
       "let ff=x=>{\n",
       "  let t0=x.target,nn=t0.nodeName.toLowerCase()\n",
       "  if(nn!=='textarea'&&(nn!=='input'||t0.type!=='text'&&t0.type!=='search'))return\n",
       "  t=t0;if(!t.ngn){t.ngn=1;ts.push(t);ev(t,'keydown',fk)}\n",
       "}\n",
       "let upd=_=>{d.body.style.marginTop=lb.clientHeight+'px'}\n",
       "upd();ev(window,'resize',upd)\n",
       "ev(d,'focus',ff,!0);let ae=d.activeElement;ae&&ff({type:'focus',target:ae})\n",
       "})();\n",
       "bodyDown();\n",
       "function bodyDown(){\n",
       "  try{\n",
       "    document.getElementById(\"main\").style.top = \"1.4em\";\n",
       "  }catch{\n",
       "    null;\n",
       "  }\n",
       "}\n",
       "function bodyUp(){\n",
       "  try{\n",
       "    document.getElementById(\"main\").style.top = \"0em\";\n",
       "  }catch{\n",
       "    document.body.style.marginTop = \"0em\";\n",
       "  }\n",
       "}\n",
       "</script>"
      ]
     },
     "execution_count": 2,
     "metadata": {},
     "output_type": "execute_result"
    }
   ],
   "source": [
    "js←⊃⎕NGET'../assets/lb.js'\n",
    "]HTML '<script>',js,'</script>'"
   ]
  },
  {
   "cell_type": "markdown",
   "metadata": {},
   "source": [
    "**How to clear the language bar**  \n",
    "1. Click the ❎ button to hide the language bar.\n",
    "1. \n",
    "  1. Close this notebook\n",
    "  \n",
    "  **OR**\n",
    "  \n",
    "  1. In the menu above, go to `Kernel` → `Restart Kernel and Clear All Outputs`.  \n",
    "  1. Save the notebook (`File` → `Save Notebook` or `Ctrl` + `S`)\n",
    "1. Refresh the page (F5)"
   ]
  },
  {
   "cell_type": "markdown",
   "metadata": {},
   "source": [
    "## Using a physical keyboard\n",
    "\n",
    "Dyalog has some [reasonably up to date](https://www.dyalog.com/apl-font-keyboard.htm) information on APL fonts and keyboards. If you [download and install Dyalog](https://www.dyalog.com/download-zone.htm), you will be able to type APL symbols directly using the keyboard.\n",
    "\n",
    "For example, to type `⍺*⎕` you would press `APL-shift`+`a`+`p`+`l`.\n",
    "\n",
    "There is an `APL-shift` key for each of the three major operating systems: `Ctrl` on Windows; `Alt` on MacOS; and `Super`(Win key) on Linux. Keyboard layouts with these become available by default after installing Dyalog.\n",
    "\n",
    "### Author's recommendation\n",
    "So on Windows, the Ctrl key gets taken over by the Dyalog input and all the common keyboard shortcuts go to heck. I am learning Japanese, so I have a Japanese [IME](https://docs.microsoft.com/en-us/windows/win32/dxtecharts/installing-and-using-input-method-editors) and use `Win key`+`Space bar` to switch between UK English and Japanese IME keyboard layouts on Windows 10. Because of this, using `Win key`+`Space bar` to switch between UK English (where `Ctrl`+`S` is a 'save file' shortcut) and Dyalog APL (where `Ctrl`+`S` produces `⌈` upstile) wasn't too annoying.\n",
    "\n",
    "However, I have since learned of a better way:  \n",
    "On GitHub you can find [abrudz's keyboard layout](https://github.com/abrudz/kbd) which uses the `Alt Gr` key for `APL-shift`. Using [KeyTweak](https://keytweak.en.softonic.com/), I also mapped `Caps Lock` to `Alt Gr` - because WHO NEEDS TO TYPE LIKE THIS ANYWAY‽ So now I use `Caps Lock` or `Alt Gr` to type APL symbols. I can also type `ácçênted Ⓒhàracters` with ease.\n",
    "\n",
    "### Where is that symbol again?\n",
    "The dfns website has [a page on keyboard layouts](https://dfns.dyalog.com/n_keyboards.htm) which includes diagrams of a few common APL keyboard layouts for reference.  \n",
    "Here is the UK APL keyboard layout:\n",
    "<pre style=\"font-family: 'APL385 Unicode';\">\n",
    "Dyalog APL/en-GB keyboard\n",
    "¯¯¯¯¯¯¯¯¯¯¯¯¯¯¯¯¯¯¯¯¯¯¯¯¯\n",
    "┌────┬────┬────┬────┬────┬────┬────┬────┬────┬────┬────┬────┬────┬─────────┐\n",
    "│¬ ⌺ │! ⌶ │\" ⍫ │£ ⍒ │$ ⍋ │% ⌽ │^ ⍉ │& ⊖ │* ⍟ │( ⍱ │) ⍲ │_ ! │+ ⌹ │Backspace│\n",
    "│` ⋄ │1 ¨ │2 ¯ │3 < │4 ≤ │5 = │6 ≥ │7 > │8 ≠ │9 ∨ │0 ∧ │- × │= ÷ │         │\n",
    "├────┴──┬─┴──┬─┴──┬─┴──┬─┴──┬─┴──┬─┴──┬─┴──┬─┴──┬─┴──┬─┴──┬─┴──┬─┴──┬──────┤\n",
    "│Tab    │Q   │W   │E ⍷ │R   │T ⍨ │Y   │U   │I ⍸ │O ⍥ │P ⍣ │{ ⍞ │} ⍬ │Enter │\n",
    "│       │q ? │w ⍵ │e ∊ │r ⍴ │t ~ │y ↑ │u ↓ │i ⍳ │o ○ │p * │[ ← │] → │      │\n",
    "├───────┴┬───┴┬───┴┬───┴┬───┴┬───┴┬───┴┬───┴┬───┴┬───┴┬───┴┬───┴┬───┴┐     │\n",
    "│Caps    │A   │S   │D   │F   │G   │H   │J ⍤ │K ⌸ │L ⌷ │: ≡ │@ ≢ │~   │     │\n",
    "│Lock    │a ⍺ │s ⌈ │d ⌊ │f _ │g ∇ │h ∆ │j ∘ │k ' │l ⎕ │; ⍎ │' ⍕ │#   │     │\n",
    "├──────┬─┴──┬─┴──┬─┴──┬─┴──┬─┴──┬─┴──┬─┴──┬─┴──┬─┴──┬─┴──┬─┴──┬─┴────┴─────┤\n",
    "│Shift │| ⊣ │Z ⊆ │X   │C   │V   │B   │N   │M   │< ⍪ │> ⍙ │? ⍠ │Shift       │\n",
    "│      │\\ ⊢ │z ⊂ │x ⊃ │c ∩ │v ∪ │b ⊥ │n ⊤ │m | │, ⍝ │. ⍀ │/ ⌿ │            │\n",
    "├──────┴┬───┴─┬──┴───┬┴────┴────┴────┴────┴────┴┬───┴──┬─┴────┼─────┬──────┤\n",
    "│Ctrl   │Win  │Alt   │                          │Alt Gr│Win   │Menu │Ctrl  │\n",
    "│       │     │      │                          │      │      │     │      │\n",
    "└───────┴─────┴──────┴──────────────────────────┴──────┴──────┴─────┴──────┘\n",
    "</pre>"
   ]
  }
 ],
 "metadata": {
  "kernelspec": {
   "display_name": "Dyalog APL",
   "language": "apl",
   "name": "dyalog-kernel"
  },
  "language_info": {
   "file_extension": ".apl",
   "mimetype": "text/apl",
   "name": "APL"
  }
 },
 "nbformat": 4,
 "nbformat_minor": 4
}
