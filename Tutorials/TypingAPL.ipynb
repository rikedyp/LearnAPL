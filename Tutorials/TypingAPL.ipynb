{
 "cells": [
  {
   "cell_type": "markdown",
   "metadata": {},
   "source": [
    "# Typing APL symbols"
   ]
  },
  {
   "cell_type": "markdown",
   "metadata": {},
   "source": [
    "> ### Task\n",
    "**Type the following into the code block below: `⍺*⎕`**"
   ]
  },
  {
   "cell_type": "code",
   "execution_count": null,
   "metadata": {},
   "outputs": [],
   "source": [
    "⍝ Type ⍺*⎕ here: "
   ]
  },
  {
   "cell_type": "markdown",
   "metadata": {},
   "source": [
    "**Javascript language bar**  \n",
    "*The following code puts an APL language bar at the top of the page. In the lab view this bar remains between notebooks.*\n",
    "\n",
    "- Click symbols to input them\n",
    "- Use backtick `` ` `` and then type a key to enter APL symbols (mouse hover over a symbol to see which key)\n",
    "\n",
    "**Execute the code below to use the language bar** "
   ]
  },
  {
   "cell_type": "code",
   "execution_count": null,
   "metadata": {},
   "outputs": [],
   "source": [
    "js←⊃⎕NGET'../assets/lb.js'\n",
    "]HTML '<script>',js,'</script>'"
   ]
  },
  {
   "cell_type": "markdown",
   "metadata": {},
   "source": [
    "**How to clear the language bar**  \n",
    "1. Click the ❎ button to hide the language bar.\n",
    "1. \n",
    "  1. Close this notebook\n",
    "  \n",
    "  **OR**\n",
    "  \n",
    "  1. In the menu above, go to `Kernel` → `Restart Kernel and Clear All Outputs`.  \n",
    "  1. Save the notebook (`File` → `Save Notebook` or `Ctrl` + `S`)\n",
    "1. Refresh the page (F5)"
   ]
  },
  {
   "cell_type": "markdown",
   "metadata": {},
   "source": [
    "## Using a physical keyboard\n",
    "\n",
    "Dyalog has some [reasonably up to date](https://www.dyalog.com/apl-font-keyboard.htm) information on APL fonts and keyboards. If you [download and install Dyalog](https://www.dyalog.com/download-zone.htm), you will be able to type APL symbols directly using the keyboard.\n",
    "\n",
    "For example, to type `⍺*⎕` you would press `APL-shift`+`a`+`p`+`l`.\n",
    "\n",
    "There is an `APL-shift` key for each of the three major operating systems: `Ctrl` on Windows; `Alt` on MacOS; and `Super`(Win key) on Linux. Keyboard layouts with these become available by default after installing Dyalog.\n",
    "\n",
    "### Author's recommendation\n",
    "So on Windows, the Ctrl key gets taken over by the Dyalog input and all the common keyboard shortcuts go to heck. I am learning Japanese, so I have a Japanese [IME](https://docs.microsoft.com/en-us/windows/win32/dxtecharts/installing-and-using-input-method-editors) and use `Win key`+`Space bar` to switch between UK English and Japanese IME keyboard layouts on Windows 10. Because of this, using `Win key`+`Space bar` to switch between UK English (where `Ctrl`+`S` is a 'save file' shortcut) and Dyalog APL (where `Ctrl`+`S` produces `⌈` upstile) wasn't too annoying.\n",
    "\n",
    "However, I have since learned of a better way:  \n",
    "On GitHub you can find [abrudz's keyboard layout](https://github.com/abrudz/kbd) which uses the `Alt Gr` key for `APL-shift`. Using [KeyTweak](https://keytweak.en.softonic.com/), I also mapped `Caps Lock` to `Alt Gr` - because WHO NEEDS TO TYPE LIKE THIS ANYWAY‽ So now I use `Caps Lock` or `Alt Gr` to type APL symbols. I can also type `ácçênted Ⓒhàracters` with ease.\n",
    "\n",
    "### Where is that symbol again?\n",
    "The dfns website has [a page on keyboard layouts](https://dfns.dyalog.com/n_keyboards.htm) which includes diagrams of a few common APL keyboard layouts for reference.  \n",
    "Here is the UK APL keyboard layout:\n",
    "<pre style=\"font-family: 'APL385 Unicode';\">\n",
    "Dyalog APL/en-GB keyboard\n",
    "¯¯¯¯¯¯¯¯¯¯¯¯¯¯¯¯¯¯¯¯¯¯¯¯¯\n",
    "┌────┬────┬────┬────┬────┬────┬────┬────┬────┬────┬────┬────┬────┬─────────┐\n",
    "│¬ ⌺ │! ⌶ │\" ⍫ │£ ⍒ │$ ⍋ │% ⌽ │^ ⍉ │& ⊖ │* ⍟ │( ⍱ │) ⍲ │_ ! │+ ⌹ │Backspace│\n",
    "│` ⋄ │1 ¨ │2 ¯ │3 < │4 ≤ │5 = │6 ≥ │7 > │8 ≠ │9 ∨ │0 ∧ │- × │= ÷ │         │\n",
    "├────┴──┬─┴──┬─┴──┬─┴──┬─┴──┬─┴──┬─┴──┬─┴──┬─┴──┬─┴──┬─┴──┬─┴──┬─┴──┬──────┤\n",
    "│Tab    │Q   │W   │E ⍷ │R   │T ⍨ │Y   │U   │I ⍸ │O ⍥ │P ⍣ │{ ⍞ │} ⍬ │Enter │\n",
    "│       │q ? │w ⍵ │e ∊ │r ⍴ │t ~ │y ↑ │u ↓ │i ⍳ │o ○ │p * │[ ← │] → │      │\n",
    "├───────┴┬───┴┬───┴┬───┴┬───┴┬───┴┬───┴┬───┴┬───┴┬───┴┬───┴┬───┴┬───┴┐     │\n",
    "│Caps    │A   │S   │D   │F   │G   │H   │J ⍤ │K ⌸ │L ⌷ │: ≡ │@ ≢ │~   │     │\n",
    "│Lock    │a ⍺ │s ⌈ │d ⌊ │f _ │g ∇ │h ∆ │j ∘ │k ' │l ⎕ │; ⍎ │' ⍕ │#   │     │\n",
    "├──────┬─┴──┬─┴──┬─┴──┬─┴──┬─┴──┬─┴──┬─┴──┬─┴──┬─┴──┬─┴──┬─┴──┬─┴────┴─────┤\n",
    "│Shift │| ⊣ │Z ⊆ │X   │C   │V   │B   │N   │M   │< ⍪ │> ⍙ │? ⍠ │Shift       │\n",
    "│      │\\ ⊢ │z ⊂ │x ⊃ │c ∩ │v ∪ │b ⊥ │n ⊤ │m | │, ⍝ │. ⍀ │/ ⌿ │            │\n",
    "├──────┴┬───┴─┬──┴───┬┴────┴────┴────┴────┴────┴┬───┴──┬─┴────┼─────┬──────┤\n",
    "│Ctrl   │Win  │Alt   │                          │Alt Gr│Win   │Menu │Ctrl  │\n",
    "│       │     │      │                          │      │      │     │      │\n",
    "└───────┴─────┴──────┴──────────────────────────┴──────┴──────┴─────┴──────┘\n",
    "</pre>"
   ]
  }
 ],
 "metadata": {
  "kernelspec": {
   "display_name": "Dyalog APL",
   "language": "apl",
   "name": "dyalog-kernel"
  },
  "language_info": {
   "file_extension": ".apl",
   "mimetype": "text/apl",
   "name": "APL"
  }
 },
 "nbformat": 4,
 "nbformat_minor": 4
}
