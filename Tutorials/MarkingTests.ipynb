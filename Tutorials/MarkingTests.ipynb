{
 "cells": [
  {
   "cell_type": "markdown",
   "metadata": {},
   "source": [
    "# Marking tests\n",
    "Assigning letter grades: array vs procedural programming"
   ]
  },
  {
   "cell_type": "markdown",
   "metadata": {},
   "source": [
    "Computers might seem like clever tools but they are not very smart. They cannot currently understand [natural languages](https://en.wikipedia.org/wiki/Natural_language) like English. You have to tell a computer what to do using special languages called [programming languages](https://en.wikipedia.org/wiki/Programming_language). There are many [programming languages](https://en.wikipedia.org/wiki/List_of_programming_languages). "
   ]
  },
  {
   "cell_type": "markdown",
   "metadata": {},
   "source": [
    "A program is a series of instructions, much like a cooking recipe. In most programming languages, the computer reads the program line-by-line and executes each one at a time. The computer chip itself often reads instructions [one at a time](https://en.wikipedia.org/wiki/Turing_machine), but these days it can often [do many](https://en.wikipedia.org/wiki/Parallel_computing) things [at once](https://en.wikipedia.org/wiki/Vector_processor)."
   ]
  },
  {
   "cell_type": "markdown",
   "metadata": {},
   "source": [
    "In this example, we will write a program to assign letter grades to students' test scores. We will start by turning the problem description into pseudocode to express the program before turning it into real code with APL. "
   ]
  },
  {
   "cell_type": "markdown",
   "metadata": {},
   "source": [
    "*Problem:* Assign letter grades to students' test scores according to the table. \n",
    "\n",
    "| Minimum score | Grade |\n",
    "|---------------|-------|\n",
    "|80             | A     |\n",
    "|70             | B     |\n",
    "|60             | C     |\n",
    "|50             | D     |\n",
    "| 0             | F     |"
   ]
  },
  {
   "cell_type": "markdown",
   "metadata": {},
   "source": [
    "If a human were marking grades, they might take one scored paper at a time and decide on which letter grade to write by reading each score.\n",
    "\n",
    "*Procedural psuedocode:*\n",
    "```C\n",
    "scores = [93,85,45,10,70,16,93,63,41,7,95,45,76] \n",
    "For each score in scores:\n",
    "  If score is greater than 80:\n",
    "    Write \"A\"\n",
    "  Else If score is greater than 70:\n",
    "    Write \"B\"\n",
    "  Else If score is greater than 60:\n",
    "    Write \"C\"\n",
    "  Else If score is greater than 50:\n",
    "    Write \"D\"\n",
    "  Else\n",
    "    Write \"F\"\n",
    "```"
   ]
  },
  {
   "cell_type": "markdown",
   "metadata": {},
   "source": [
    "So-called [procedural programming languages](https://en.wikipedia.org/wiki/Procedural_programming) will have actualy code that somewhat closely resembles this pseudocode. APL has a much more mathematical flavour to it. Let's see what APL does when we tackle this problem: "
   ]
  },
  {
   "cell_type": "code",
   "execution_count": 3,
   "metadata": {},
   "outputs": [
    {
     "data": {
      "text/html": [
       "<span style=\"white-space:pre; font-family: monospace\">1 1 0 0 0 0 1 0 0 0 1 0 0\n",
       "</span>"
      ]
     },
     "execution_count": 3,
     "metadata": {},
     "output_type": "execute_result"
    },
    {
     "data": {
      "text/html": [
       "<span style=\"white-space:pre; font-family: monospace\">1 1 0 0 0 0 1 0 0 0 1 0 1\n",
       "</span>"
      ]
     },
     "execution_count": 3,
     "metadata": {},
     "output_type": "execute_result"
    },
    {
     "data": {
      "text/html": [
       "<span style=\"white-space:pre; font-family: monospace\">1 1 0 0 1 0 1 1 0 0 1 0 1\n",
       "</span>"
      ]
     },
     "execution_count": 3,
     "metadata": {},
     "output_type": "execute_result"
    },
    {
     "data": {
      "text/html": [
       "<span style=\"white-space:pre; font-family: monospace\">1 1 0 0 1 0 1 1 0 0 1 0 1\n",
       "</span>"
      ]
     },
     "execution_count": 3,
     "metadata": {},
     "output_type": "execute_result"
    },
    {
     "data": {
      "text/html": [
       "<span style=\"white-space:pre; font-family: monospace\">1 1 1 1 1 1 1 1 1 1 1 1 1\n",
       "</span>"
      ]
     },
     "execution_count": 3,
     "metadata": {},
     "output_type": "execute_result"
    }
   ],
   "source": [
    "scores←93 85 45 10 70 16 93 63 41 7 95 45 76\n",
    "scores>80\n",
    "scores>70\n",
    "scores>60\n",
    "scores>50\n",
    "scores>0"
   ]
  },
  {
   "cell_type": "markdown",
   "metadata": {},
   "source": [
    "Above you can see that APL compares all of the `scores` to each grade. This is done by [scalar extension](Scalar.ipynb). What if we could compare all of the scores to all of the grade boundaries at once?"
   ]
  },
  {
   "cell_type": "code",
   "execution_count": 9,
   "metadata": {},
   "outputs": [
    {
     "data": {
      "text/html": [
       "<span style=\"white-space:pre; font-family: monospace\">1 1 1 1 1\n",
       "1 1 1 1 1\n",
       "0 0 0 0 1\n",
       "0 0 0 0 1\n",
       "0 0 1 1 1\n",
       "0 0 0 0 1\n",
       "1 1 1 1 1\n",
       "0 0 1 1 1\n",
       "0 0 0 0 1\n",
       "0 0 0 0 1\n",
       "1 1 1 1 1\n",
       "0 0 0 0 1\n",
       "0 1 1 1 1\n",
       "</span>"
      ]
     },
     "execution_count": 9,
     "metadata": {},
     "output_type": "execute_result"
    }
   ],
   "source": [
    "scores∘.>80 70 60 50 0"
   ]
  },
  {
   "cell_type": "markdown",
   "metadata": {},
   "source": [
    "We just used an [outer product]() to apply the `>` greater-than function to every combination of score and grade boundary. The resulting [matrix](Arrays.ipynb) has a shape `13 5`. It has `⍴scores` columns and `⍴80 70 60 50 0` rows."
   ]
  },
  {
   "cell_type": "code",
   "execution_count": 10,
   "metadata": {},
   "outputs": [
    {
     "data": {
      "text/html": [
       "<span style=\"white-space:pre; font-family: monospace\">13\n",
       "</span>"
      ]
     },
     "execution_count": 10,
     "metadata": {},
     "output_type": "execute_result"
    },
    {
     "data": {
      "text/html": [
       "<span style=\"white-space:pre; font-family: monospace\">5\n",
       "</span>"
      ]
     },
     "execution_count": 10,
     "metadata": {},
     "output_type": "execute_result"
    },
    {
     "data": {
      "text/html": [
       "<span style=\"white-space:pre; font-family: monospace\">13 5\n",
       "</span>"
      ]
     },
     "execution_count": 10,
     "metadata": {},
     "output_type": "execute_result"
    }
   ],
   "source": [
    "⍴scores\n",
    "⍴80 70 60 50 0\n",
    "⍴scores∘.>80 70 60 50 0"
   ]
  },
  {
   "cell_type": "markdown",
   "metadata": {},
   "source": [
    "If we transpose the array it looks like our previous procedural example."
   ]
  },
  {
   "cell_type": "code",
   "execution_count": 11,
   "metadata": {},
   "outputs": [
    {
     "data": {
      "text/html": [
       "<span style=\"white-space:pre; font-family: monospace\">1 1 0 0 0 0 1 0 0 0 1 0 0\n",
       "1 1 0 0 0 0 1 0 0 0 1 0 1\n",
       "1 1 0 0 1 0 1 1 0 0 1 0 1\n",
       "1 1 0 0 1 0 1 1 0 0 1 0 1\n",
       "1 1 1 1 1 1 1 1 1 1 1 1 1\n",
       "</span>"
      ]
     },
     "execution_count": 11,
     "metadata": {},
     "output_type": "execute_result"
    }
   ],
   "source": [
    "⍉scores∘.>80 70 60 50 0"
   ]
  },
  {
   "cell_type": "markdown",
   "metadata": {},
   "source": [
    "Now we want to generate an vector which is a translation of the numeric scores into letter grades."
   ]
  },
  {
   "cell_type": "code",
   "execution_count": 17,
   "metadata": {},
   "outputs": [
    {
     "data": {
      "text/html": [
       "<span style=\"white-space:pre; font-family: monospace\">93 85 45 10 70 16 93 63 41 7 95 45 76\n",
       "</span>"
      ]
     },
     "execution_count": 17,
     "metadata": {},
     "output_type": "execute_result"
    },
    {
     "data": {
      "text/html": [
       "<span style=\"white-space:pre; font-family: monospace\">AAFFCFACFFAFB\n",
       "</span>"
      ]
     },
     "execution_count": 17,
     "metadata": {},
     "output_type": "execute_result"
    }
   ],
   "source": [
    "scores\n",
    "'ABCDF'[1 1 5 5 3 5 1 3 5 5 1 5 2]"
   ]
  },
  {
   "cell_type": "markdown",
   "metadata": {},
   "source": [
    "Clearly the simple way is to get each of the letter grades from a character vector using [square bracket indexing](). We just need to generate the indices (the numbers inside the square brackets)."
   ]
  },
  {
   "cell_type": "code",
   "execution_count": 18,
   "metadata": {},
   "outputs": [
    {
     "data": {
      "text/html": [
       "<span style=\"white-space:pre; font-family: monospace\">5 5 1 1 3 1 5 3 1 1 5 1 4\n",
       "</span>"
      ]
     },
     "execution_count": 18,
     "metadata": {},
     "output_type": "execute_result"
    }
   ],
   "source": [
    "+/scores∘.>80 70 60 50 0"
   ]
  },
  {
   "cell_type": "markdown",
   "metadata": {},
   "source": [
    "There is a vector with numbers between `1` and `5`, but they're clearly not the right numbers..."
   ]
  },
  {
   "cell_type": "code",
   "execution_count": 22,
   "metadata": {},
   "outputs": [
    {
     "data": {
      "text/html": [
       "<span style=\"white-space:pre; font-family: monospace\">1 1 5 5 3 5 1 3 5 5 1 5 2\n",
       "</span>"
      ]
     },
     "execution_count": 22,
     "metadata": {},
     "output_type": "execute_result"
    }
   ],
   "source": [
    "1+5-+/scores∘.>80 70 60 50 0 ⍝ This works but is starting to look ugly..."
   ]
  },
  {
   "cell_type": "code",
   "execution_count": 24,
   "metadata": {},
   "outputs": [
    {
     "data": {
      "text/html": [
       "<span style=\"white-space:pre; font-family: monospace\">AAFFCFACFFAFB\n",
       "</span>"
      ]
     },
     "execution_count": 24,
     "metadata": {},
     "output_type": "execute_result"
    }
   ],
   "source": [
    "'FDCBA'[+/scores∘.>80 70 60 50 0] ⍝ Just flip the letters around!"
   ]
  },
  {
   "cell_type": "markdown",
   "metadata": {},
   "source": [
    "### Control structures\n",
    "Now it is actually possible in Dyalog to directly translate our pseudocode from earlier into a program using [control structures](http://help.dyalog.com/17.1/#Language/Control%20Structures/Control%20Structures%20Introduction.htm). However, this tends to be **slow APL** and is generally **considered bad**."
   ]
  },
  {
   "cell_type": "code",
   "execution_count": 29,
   "metadata": {},
   "outputs": [],
   "source": [
    "∇ grades←LetterGrade scores\n",
    "  grades←'' ⍝ Initialise empty character vector\n",
    "  :For score :In scores\n",
    "    :If score > 80\n",
    "      grades,←'A'\n",
    "    :ElseIf score > 70\n",
    "      grades,←'B'\n",
    "    :ElseIf score > 60\n",
    "      grades,←'C'\n",
    "    :ElseIf score > 50\n",
    "      grades,←'D'\n",
    "    :Else\n",
    "      grades,←'F'\n",
    "    :EndIf\n",
    "  :EndFor\n",
    "∇"
   ]
  },
  {
   "cell_type": "code",
   "execution_count": 30,
   "metadata": {},
   "outputs": [
    {
     "data": {
      "text/html": [
       "<span style=\"white-space:pre; font-family: monospace\">AAFFCFACFFAFB\n",
       "</span>"
      ]
     },
     "execution_count": 30,
     "metadata": {},
     "output_type": "execute_result"
    }
   ],
   "source": [
    "⎕←LetterGrade scores"
   ]
  },
  {
   "cell_type": "markdown",
   "metadata": {},
   "source": [
    "To end this tutorial, let's compare the speed of the two approaches."
   ]
  },
  {
   "cell_type": "code",
   "execution_count": 32,
   "metadata": {},
   "outputs": [
    {
     "data": {
      "text/html": [
       "<span style=\"white-space:pre; font-family: monospace\">                                                                               \n",
       "  'FDCBA'[+/scores∘.&gt;80 70 60 50 0] → 1.7E¯6 |     0% ⎕⎕⎕                      \n",
       "  LetterGrade scores                → 2.1E¯5 | +1133% ⎕⎕⎕⎕⎕⎕⎕⎕⎕⎕⎕⎕⎕⎕⎕⎕⎕⎕⎕⎕⎕⎕⎕⎕⎕\n",
       "\n",
       "                      \n",
       "                      \n",
       "      ⎕⎕⎕⎕⎕⎕⎕⎕⎕⎕⎕⎕⎕⎕⎕ \n",
       "</span>"
      ]
     },
     "execution_count": 32,
     "metadata": {},
     "output_type": "execute_result"
    }
   ],
   "source": [
    "]Runtime -c \"'FDCBA'[+/scores∘.>80 70 60 50 0]\" \"LetterGrade scores\""
   ]
  },
  {
   "cell_type": "markdown",
   "metadata": {},
   "source": [
    "The method using control structures is over 1000% slower. Use control structures sparingly in APL."
   ]
  }
 ],
 "metadata": {
  "kernelspec": {
   "display_name": "Dyalog APL",
   "language": "apl",
   "name": "dyalog-kernel"
  },
  "language_info": {
   "file_extension": ".apl",
   "mimetype": "text/apl",
   "name": "APL"
  }
 },
 "nbformat": 4,
 "nbformat_minor": 4
}
