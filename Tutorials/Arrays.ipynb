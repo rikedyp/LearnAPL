{
 "cells": [
  {
   "cell_type": "markdown",
   "metadata": {},
   "source": [
    "# Arrays"
   ]
  },
  {
   "cell_type": "markdown",
   "metadata": {},
   "source": [
    "***\n",
    "## Array basics\n",
    "The primary data type of APL is the array. An array is an object that contains values arranged in a shape. An array in APL is a collection of arrays, arranged along zero or more orthogonal axes. The atomic elements of an array may be character or numeric data. There are names for some particular types of shape. \n",
    "<pre>\n",
    "    <span style=\"font-size:300%\">•</span> A dot is called a <em>scalar</em>  \n",
    " \n",
    "    <span style=\"font-size:300%\">▬</span> A line is called a <em>vector</em> or <em>list</em>  \n",
    "\n",
    "    <span style=\"font-size:200%\">📄</span> A rectangle is called a <em>matrix</em> or <em>table</em>\n",
    "\n",
    "    <span style=\"font-size:200%\">🗃️</span> A cuboid is called a <em>cube</em> for some reason (we will call them <em>cuboids</em>)\n",
    "\n",
    "    <span style=\"font-size:200%\">🗄️</span> 4D shapes and greater are called <em>noble</em>\n",
    "</pre>"
   ]
  },
  {
   "cell_type": "markdown",
   "metadata": {},
   "source": [
    "Let's define some simple arrays. In APL, \"simple\" means \"[non-nested](#Depth)\"."
   ]
  },
  {
   "cell_type": "markdown",
   "metadata": {},
   "source": [
    "A simple numeric vector:"
   ]
  },
  {
   "cell_type": "code",
   "execution_count": 3,
   "metadata": {},
   "outputs": [
    {
     "data": {
      "text/html": [
       "<span style=\"white-space:pre; font-family: monospace\">1 2 3\n",
       "</span>"
      ]
     },
     "execution_count": 3,
     "metadata": {},
     "output_type": "execute_result"
    }
   ],
   "source": [
    "1 2 3"
   ]
  },
  {
   "cell_type": "markdown",
   "metadata": {},
   "source": [
    "A simple character vector:"
   ]
  },
  {
   "cell_type": "code",
   "execution_count": 4,
   "metadata": {},
   "outputs": [
    {
     "data": {
      "text/html": [
       "<span style=\"white-space:pre; font-family: monospace\">APL\n",
       "</span>"
      ]
     },
     "execution_count": 4,
     "metadata": {},
     "output_type": "execute_result"
    }
   ],
   "source": [
    "'APL'"
   ]
  },
  {
   "cell_type": "markdown",
   "metadata": {},
   "source": [
    "A simple mixed vector:"
   ]
  },
  {
   "cell_type": "code",
   "execution_count": 5,
   "metadata": {},
   "outputs": [
    {
     "data": {
      "text/html": [
       "<span style=\"white-space:pre; font-family: monospace\">1 A 2 P 3 L\n",
       "</span>"
      ]
     },
     "execution_count": 5,
     "metadata": {},
     "output_type": "execute_result"
    }
   ],
   "source": [
    "1 'A' 2 'P' 3 'L'"
   ]
  },
  {
   "cell_type": "markdown",
   "metadata": {},
   "source": [
    "***\n",
    "## The shape of an array\n",
    "An array's shape is described by a vector of the length of each dimension. The tally of elements in the shape gives the rank:"
   ]
  },
  {
   "cell_type": "code",
   "execution_count": 3,
   "metadata": {},
   "outputs": [
    {
     "data": {
      "text/html": [
       "<span style=\"white-space:pre; font-family: monospace\">\n",
       "</span>"
      ]
     },
     "execution_count": 3,
     "metadata": {},
     "output_type": "execute_result"
    },
    {
     "data": {
      "text/html": [
       "<span style=\"white-space:pre; font-family: monospace\">0\n",
       "</span>"
      ]
     },
     "execution_count": 3,
     "metadata": {},
     "output_type": "execute_result"
    },
    {
     "data": {
      "text/html": [
       "<span style=\"white-space:pre; font-family: monospace\">scalar → 0 dimensions\n",
       "</span>"
      ]
     },
     "execution_count": 3,
     "metadata": {},
     "output_type": "execute_result"
    }
   ],
   "source": [
    "scalar ← 1234           ⍝ This is a scalar\n",
    "⍴scalar                 ⍝ Its shape is the empty vector  \n",
    "≢⍴scalar                ⍝ Scalars are rank-0 arrays\n",
    "'scalar → 0 dimensions'"
   ]
  },
  {
   "cell_type": "code",
   "execution_count": 4,
   "metadata": {},
   "outputs": [
    {
     "data": {
      "text/html": [
       "<span style=\"white-space:pre; font-family: monospace\">4\n",
       "</span>"
      ]
     },
     "execution_count": 4,
     "metadata": {},
     "output_type": "execute_result"
    },
    {
     "data": {
      "text/html": [
       "<span style=\"white-space:pre; font-family: monospace\">1\n",
       "</span>"
      ]
     },
     "execution_count": 4,
     "metadata": {},
     "output_type": "execute_result"
    },
    {
     "data": {
      "text/html": [
       "<span style=\"white-space:pre; font-family: monospace\">vector → 1 dimension\n",
       "</span>"
      ]
     },
     "execution_count": 4,
     "metadata": {},
     "output_type": "execute_result"
    }
   ],
   "source": [
    "vector ← 1 2 3 4        ⍝ This is a vector\n",
    "⍴  vector               ⍝ Its shape is a vector of length 1 containing the scalar 4\n",
    "≢⍴ vector               ⍝ Vectors are arrays of rank 1\n",
    "'vector → 1 dimension'"
   ]
  },
  {
   "cell_type": "code",
   "execution_count": 5,
   "metadata": {},
   "outputs": [
    {
     "data": {
      "text/html": [
       "<span style=\"white-space:pre; font-family: monospace\">3 4\n",
       "</span>"
      ]
     },
     "execution_count": 5,
     "metadata": {},
     "output_type": "execute_result"
    },
    {
     "data": {
      "text/html": [
       "<span style=\"white-space:pre; font-family: monospace\">2\n",
       "</span>"
      ]
     },
     "execution_count": 5,
     "metadata": {},
     "output_type": "execute_result"
    },
    {
     "data": {
      "text/html": [
       "<span style=\"white-space:pre; font-family: monospace\">matrix → 2 dimensions\n",
       "</span>"
      ]
     },
     "execution_count": 5,
     "metadata": {},
     "output_type": "execute_result"
    }
   ],
   "source": [
    "matrix ← 3 4⍴⎕A         ⍝ This is a matrix\n",
    "⍴  matrix               ⍝ Its shape is a vector of length 2 \n",
    "≢⍴ matrix               ⍝ Matrices are rank-2 arrays\n",
    "'matrix → 2 dimensions'"
   ]
  },
  {
   "cell_type": "code",
   "execution_count": 6,
   "metadata": {},
   "outputs": [
    {
     "data": {
      "text/html": [
       "<span style=\"white-space:pre; font-family: monospace\">2 3 4\n",
       "</span>"
      ]
     },
     "execution_count": 6,
     "metadata": {},
     "output_type": "execute_result"
    },
    {
     "data": {
      "text/html": [
       "<span style=\"white-space:pre; font-family: monospace\">3\n",
       "</span>"
      ]
     },
     "execution_count": 6,
     "metadata": {},
     "output_type": "execute_result"
    },
    {
     "data": {
      "text/html": [
       "<span style=\"white-space:pre; font-family: monospace\">cuboid → 3 dimensions\n",
       "</span>"
      ]
     },
     "execution_count": 6,
     "metadata": {},
     "output_type": "execute_result"
    }
   ],
   "source": [
    "cuboid ← 2 3 4⍴⎕A       ⍝ This is a cuboid\n",
    "⍴  cuboid               ⍝ Its shape is a vector of length 3\n",
    "≢⍴ cuboid               ⍝ Cuboids are rank-3 arrays\n",
    "'cuboid → 3 dimensions'"
   ]
  },
  {
   "cell_type": "markdown",
   "metadata": {},
   "source": [
    "Dyalog supports arrays of up to rank 15. Attempting to define an array of higher rank results in a `LIMIT ERROR`."
   ]
  },
  {
   "cell_type": "code",
   "execution_count": 7,
   "metadata": {},
   "outputs": [
    {
     "data": {
      "text/html": [
       "<span style=\"white-space:pre; font-family: monospace\">15\n",
       "</span>"
      ]
     },
     "execution_count": 7,
     "metadata": {},
     "output_type": "execute_result"
    },
    {
     "name": "stderr",
     "output_type": "stream",
     "text": [
      "LIMIT ERROR: Rank of resultant array would exceed maximum permitted\n",
      "      ≢⍴toobig←2 4 5 3 2 4 5 7 5 3 3 2 6 4 5 3⍴0   ⍝ Otherwise LIMIT ERROR\n",
      "                                              ∧\n"
     ]
    }
   ],
   "source": [
    "noble ← 2 4 3 4⍴3                               ⍝ This is a noble array of rank 4\n",
    "≢⍴ bignoble ← 2 4 5 3 2 4 5 7 5 3 3 2 6 4 5⍴0   ⍝ Dyalog supports up to rank-15 arrays.\n",
    "≢⍴ toobig ← 2 4 5 3 2 4 5 7 5 3 3 2 6 4 5 3⍴0   ⍝ Otherwise LIMIT ERROR"
   ]
  },
  {
   "cell_type": "markdown",
   "metadata": {},
   "source": [
    "***\n",
    "## The order of values in an array\n",
    "Values are arranged in a shape in row-major order, with the first dimension in a shape the most major."
   ]
  },
  {
   "cell_type": "code",
   "execution_count": 8,
   "metadata": {},
   "outputs": [
    {
     "data": {
      "text/html": [
       "<span style=\"white-space:pre; font-family: monospace\">ABCD\n",
       "EFGH\n",
       "IJKL\n",
       "    \n",
       "MNOP\n",
       "QRST\n",
       "UVWX\n",
       "</span>"
      ]
     },
     "execution_count": 8,
     "metadata": {},
     "output_type": "execute_result"
    }
   ],
   "source": [
    "2 3 4⍴⎕A ⍝ The values fill in each row before moving on to the next row\n",
    "         ⍝ \"row-major order\"            "
   ]
  },
  {
   "cell_type": "markdown",
   "metadata": {},
   "source": [
    "Values are arrays. A single number or character is a scalar which contains itself as its value."
   ]
  },
  {
   "cell_type": "code",
   "execution_count": 9,
   "metadata": {},
   "outputs": [
    {
     "data": {
      "text/html": [
       "<span style=\"white-space:pre; font-family: monospace\">1341\n",
       "</span>"
      ]
     },
     "execution_count": 9,
     "metadata": {},
     "output_type": "execute_result"
    },
    {
     "data": {
      "text/html": [
       "<span style=\"white-space:pre; font-family: monospace\">A\n",
       "</span>"
      ]
     },
     "execution_count": 9,
     "metadata": {},
     "output_type": "execute_result"
    },
    {
     "data": {
      "text/html": [
       "<span style=\"white-space:pre; font-family: monospace\">1 3 4 1\n",
       "</span>"
      ]
     },
     "execution_count": 9,
     "metadata": {},
     "output_type": "execute_result"
    },
    {
     "data": {
      "text/html": [
       "<span style=\"white-space:pre; font-family: monospace\">APL\n",
       "</span>"
      ]
     },
     "execution_count": 9,
     "metadata": {},
     "output_type": "execute_result"
    }
   ],
   "source": [
    "1341       ⍝ A numeric scalar\n",
    "'A'        ⍝ A character scalar\n",
    "1 3 4 1    ⍝ A numeric vector\n",
    "'APL'      ⍝ A character vector"
   ]
  },
  {
   "cell_type": "markdown",
   "metadata": {},
   "source": [
    "***"
   ]
  },
  {
   "cell_type": "markdown",
   "metadata": {},
   "source": [
    "***\n",
    "## Stranding\n",
    "In APL, vectors can be defined by simply juxtaposing arrays. This is called \"stranding\" or \"strand notation\". The arrays must be separated by one or more spaces."
   ]
  },
  {
   "cell_type": "markdown",
   "metadata": {},
   "source": [
    "Stranding takes precedence over function application. "
   ]
  },
  {
   "cell_type": "code",
   "execution_count": 2,
   "metadata": {},
   "outputs": [
    {
     "data": {
      "text/html": [
       "<span style=\"white-space:pre; font-family: monospace\">2 3\n",
       "</span>"
      ]
     },
     "execution_count": 2,
     "metadata": {},
     "output_type": "execute_result"
    },
    {
     "data": {
      "text/html": [
       "<span style=\"white-space:pre; font-family: monospace\">¯2 ¯3\n",
       "</span>"
      ]
     },
     "execution_count": 2,
     "metadata": {},
     "output_type": "execute_result"
    }
   ],
   "source": [
    "5-3 2\n",
    "3 2-5"
   ]
  },
  {
   "cell_type": "markdown",
   "metadata": {},
   "source": [
    "Stranding scalars makes a vector. Stranding vectors (or scalars and vectors, or any other arrays) makes a nested vector."
   ]
  },
  {
   "cell_type": "code",
   "execution_count": 2,
   "metadata": {},
   "outputs": [
    {
     "data": {
      "text/html": [
       "<span style=\"white-space:pre; font-family: monospace\">scalar\n",
       "</span>"
      ]
     },
     "execution_count": 2,
     "metadata": {},
     "output_type": "execute_result"
    },
    {
     "data": {
      "text/html": [
       "<span style=\"white-space:pre; font-family: monospace\">┌─┬─────┬──────┐\n",
       "│n│ested│vector│\n",
       "└─┴─────┴──────┘\n",
       "</span>"
      ]
     },
     "execution_count": 2,
     "metadata": {},
     "output_type": "execute_result"
    }
   ],
   "source": [
    "'s' 'c' 'a' 'l' 'a' 'r'\n",
    "'n' 'ested' 'vector'"
   ]
  },
  {
   "cell_type": "markdown",
   "metadata": {},
   "source": [
    "Parentheses `()` separate vectors."
   ]
  },
  {
   "cell_type": "code",
   "execution_count": 4,
   "metadata": {},
   "outputs": [
    {
     "data": {
      "text/html": [
       "<span style=\"white-space:pre; font-family: monospace\">┌─┬───┬─────┐\n",
       "│1│2 3│4 5 6│\n",
       "└─┴───┴─────┘\n",
       "</span>"
      ]
     },
     "execution_count": 4,
     "metadata": {},
     "output_type": "execute_result"
    }
   ],
   "source": [
    "1 (2 3) (4 5 6)"
   ]
  },
  {
   "cell_type": "markdown",
   "metadata": {},
   "source": [
    "***\n",
    "## Basic array functions\n",
    "### Shape\n",
    "`⍴`  \n",
    "The shape of an array gives the number of elements along each axis."
   ]
  },
  {
   "cell_type": "code",
   "execution_count": null,
   "metadata": {},
   "outputs": [],
   "source": [
    "⍝ The shape of a list of numbers gives the number of elements in the list:\n",
    "⍴ 81 4 54 31 54 5"
   ]
  },
  {
   "cell_type": "markdown",
   "metadata": {},
   "source": [
    "### Reshape\n",
    "The infix (dyadic) function reshape `⍴` will put the data in the right argument into the shape described by the left argument. "
   ]
  },
  {
   "cell_type": "code",
   "execution_count": null,
   "metadata": {},
   "outputs": [],
   "source": [
    "⍝ A rank-3 array of shape 2 3 4 containing the number 42:\n",
    "2 3 4⍴42\n",
    "⍝ This array has 4 rows, 3 columns and 2 planes"
   ]
  },
  {
   "cell_type": "markdown",
   "metadata": {},
   "source": [
    "If `×/⍴` (the [product](Operators.ipynb#Reduction) of the shape) is greater than `≢,` (the number of elements) of the argument array, the argument array elements are recycled to fill the new array:\n",
    "```APL\n",
    "      10⍴1 2 3\n",
    "1 2 3 1 2 3 1 2 3 1\n",
    "```\n",
    "Higher rank arrays fill along axes starting from the last to the first (e.g. rows then columns then planes...).\n",
    "For a matrix this means left-to-right then up-to-down like a [raster scan](https://en.wikipedia.org/wiki/Raster_scan), or reading and writing English.\n",
    "```APL\n",
    "      2 3 4⍴'ABCDE'\n",
    "ABCD\n",
    "EABC\n",
    "DEAB\n",
    "    \n",
    "CDEA\n",
    "BCDE\n",
    "ABCD\n",
    "```"
   ]
  },
  {
   "cell_type": "code",
   "execution_count": null,
   "metadata": {},
   "outputs": [],
   "source": [
    "⍝ A list\n",
    "10⍴1 2 3\n",
    "⍝ Matrices refill left-to-right then up-to-down \n",
    "3 3⍴1 2 3 4"
   ]
  },
  {
   "cell_type": "markdown",
   "metadata": {},
   "source": [
    "### Tally\n",
    "`≢`  \n",
    "Count the [major cells](http://help.dyalog.com/17.0/Content/Language/Introduction/Variables/Cells%20and%20Subarrays.htm) of an array.  "
   ]
  },
  {
   "cell_type": "markdown",
   "metadata": {},
   "source": [
    "### Ravel\n",
    "`,`  \n",
    "Reshape an array into a vector."
   ]
  },
  {
   "cell_type": "code",
   "execution_count": null,
   "metadata": {},
   "outputs": [],
   "source": [
    "⍝ Count all major cells* in any rank array:\n",
    "⍝ TODO: A note about nested arrays in this case\n",
    "≢,2 3 4⍴⎕A"
   ]
  },
  {
   "cell_type": "markdown",
   "metadata": {},
   "source": [
    "`⎕A` refers to the simple character vector of alphabetic capital letters."
   ]
  },
  {
   "cell_type": "markdown",
   "metadata": {},
   "source": [
    "### Depth\n",
    "`≡`  \n",
    "The depth is the level of nesting."
   ]
  },
  {
   "cell_type": "code",
   "execution_count": null,
   "metadata": {},
   "outputs": [],
   "source": [
    "⍝ Simple arrays have a depth of 1:\n",
    "≡2 3 4⍴⎕A\n",
    "⍝ Nested arrays have a depth > 1:\n",
    "≡(1 2)(3 4)\n",
    "⍝ The deeper the nesting, the greater the depth:\n",
    "≡((1 2)(3 4))((5 6)(7 8))"
   ]
  },
  {
   "cell_type": "markdown",
   "metadata": {},
   "source": [
    "The nesting of arrays can be shown with the [\\]Disp](http://docs.dyalog.com/14.0/Dyalog%20APL%20User%20Commands%20Reference%20Guide.pdf#page=32) user command, or by setting [\\]Boxing](http://docs.dyalog.com/14.0/Dyalog%20APL%20User%20Commands%20Reference%20Guide.pdf#page=31) on."
   ]
  },
  {
   "cell_type": "code",
   "execution_count": null,
   "metadata": {},
   "outputs": [],
   "source": [
    "⍝ The nesting of arrays can be shown with the ]Disp user command, or by setting ]Boxing on\n",
    "]Disp (1 2(3 4))\n",
    "⍝ Disp gives additional information, type ']Disp -??' to see more\n",
    "]Box off\n",
    "(1 2(3 4))\n",
    "]Box on\n",
    "(1 2(3 4))"
   ]
  },
  {
   "cell_type": "code",
   "execution_count": null,
   "metadata": {},
   "outputs": [],
   "source": [
    "⍝ Negative depth is used to denote uneven nesting:\n",
    "≡⎕←('A' ('BC'))"
   ]
  },
  {
   "cell_type": "markdown",
   "metadata": {},
   "source": [
    "### Indexing\n",
    "Each value in an array has a unique coordinate pointing to that value called an index. Indices can be used to retrieve specific elements from an array. There are [multiple ways to do this](Selection.ipynb#Selection) in APL."
   ]
  },
  {
   "cell_type": "code",
   "execution_count": null,
   "metadata": {},
   "outputs": [],
   "source": [
    "⍸'G'=⎕←Alph←2 3 4⍴⎕A ⍝ Where is G located in cuboid Alph?"
   ]
  },
  {
   "cell_type": "code",
   "execution_count": null,
   "metadata": {},
   "outputs": [],
   "source": [
    "Alph[1;2;3]       ⍝ Retrieve element with square-bracket indexing\n",
    "(⊂1 2 3)⊃Alph     ⍝ Retrieve element with pick"
   ]
  },
  {
   "cell_type": "markdown",
   "metadata": {},
   "source": [
    "### Selective assignment\n",
    "Values can be [assigned to specific elements](Selection.ipynb#Selective-assignment) in an array."
   ]
  },
  {
   "cell_type": "markdown",
   "metadata": {},
   "source": [
    "### Empty arrays\n",
    "0 is not the same as nothing.  \n",
    "Arrays can also be empty.  \n",
    "\n",
    "The [rank](#Rank) of a scalar is the empty numeric vector `⍬`:\n",
    "```APL\n",
    "      ⍴3\n",
    "\n",
    "```\n",
    "This is because the rank of a scalar is `0`.\n",
    "```APL\n",
    "      ⍴⍴3\n",
    "0\n",
    "```"
   ]
  }
 ],
 "metadata": {
  "kernelspec": {
   "display_name": "Dyalog APL",
   "language": "apl",
   "name": "dyalog-kernel"
  },
  "language_info": {
   "file_extension": ".apl",
   "mimetype": "text/apl",
   "name": "APL"
  }
 },
 "nbformat": 4,
 "nbformat_minor": 4
}
