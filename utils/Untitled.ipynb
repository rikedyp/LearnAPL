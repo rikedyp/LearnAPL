{
 "cells": [
  {
   "cell_type": "markdown",
   "metadata": {},
   "source": [
    "Test"
   ]
  },
  {
   "cell_type": "code",
   "execution_count": null,
   "metadata": {},
   "outputs": [],
   "source": [
    "∇ foo ta\n",
    " :Implements trigger *\n",
    " :Select ta.Name\n",
    " :Case 'area'\n",
    "     :If area≡123\n",
    "         'Right!'\n",
    "     :Else\n",
    "         'Nope!'\n",
    "     :EndIf\n",
    " :Else\n",
    " :EndSelect\n",
    "∇"
   ]
  }
 ],
 "metadata": {
  "kernelspec": {
   "display_name": "Dyalog APL",
   "language": "apl",
   "name": "dyalog-kernel"
  },
  "language_info": {
   "file_extension": ".apl",
   "mimetype": "text/apl",
   "name": "APL"
  }
 },
 "nbformat": 4,
 "nbformat_minor": 4
}
