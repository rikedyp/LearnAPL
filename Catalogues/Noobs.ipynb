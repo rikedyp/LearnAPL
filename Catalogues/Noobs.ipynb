{
 "cells": [
  {
   "cell_type": "markdown",
   "metadata": {},
   "source": [
    "# I want to learn a programming language\n",
    "Here we will look at some basic ideas in programming. APL is a bit different to other programming languages for two main reasons: it is [array-oriented](../Tutorials/Arrays.ipynb) and it uses [symbols](https://aplwiki.miraheze.org/wiki/Main_Page#Examples) instead of keywords for [primitives](http://help.dyalog.com/17.0/Content/Language/Introduction/Language%20Elements.htm). "
   ]
  },
  {
   "cell_type": "markdown",
   "metadata": {},
   "source": [
    "***\n",
    "## Won't you play APL with me?\n",
    "Many programming books will suggest that you read along with a computer by your side. You are encouraged to type examples and try things out. Here we have cut out the part where you look back and forth from book to screen. The examples are provided in-line with the explanations and you are encouraged - nay, *urged* - to execute, modify and re-execute the examples.\n",
    "\n",
    "You can modify text blocks like this one at any point by double-clicking. The notebook then works like any other [markdown](https://markdown-guide.readthedocs.io/en/latest/basics.html) editor.\n",
    "\n",
    "If the cell begins with `[ ]:` then it is a code block. \n",
    "\n",
    "If you change a code block or markdown cell, press `Shift+Enter` or `Ctrl+Enter` to save the cell or execute the code.\n",
    "<style>mark{background:lightgray;}</style>\n",
    "<p style=\"background:lightgray;\">text here </p>"
   ]
  },
  {
   "cell_type": "markdown",
   "metadata": {},
   "source": [
    "***\n",
    "## Programming basics\n",
    "To begin with, let's just look at some things which are common to many programming languages.\n",
    "\n",
    "A program is a series of instructions, given to a computer, which are carried out to accomplish some task. The details look different in different languages, but a few basic instructions appear in just about every language:\n",
    "\n",
    "*input:*  \n",
    "Get data from the keyboard, a file, the network, or some other device.\n",
    "\n",
    "*output:*  \n",
    "Display data on the screen, save it in a file, send it over the network, etc\n",
    "\n",
    "*math:*  \n",
    "Perform basic mathematical operations like addition and multiplication\n",
    "\n",
    "*conditional execution:*  \n",
    "Check for certain conditions and run the appropriate code\n",
    "\n",
    "*repetition:*  \n",
    "Perform some action repeatedly, usually with some variation\n",
    "\n",
    "Believe it or not, that’s pretty much all there is to it. Every program you’ve ever used, no matter how complicated, is made up of instructions that look pretty much like these. So you can think of programming as the process of breaking a large, complex task into smaller and smaller subtasks until the subtasks are simple enough to be performed with one of these basic instructions."
   ]
  },
  {
   "cell_type": "markdown",
   "metadata": {},
   "source": [
    "***\n",
    "## APL the rebel\n",
    "It has already been mentioned that APL is a bit different to other languages. This course is not going to teach you *computer science per se*. APL has a more mathematical flavour than other languages. You will not learn much about [data types]() or [memory management](), since these are handled by the APL interpreter. Instead, APL focuses on elegantly converting *problem solutions* into *executable code*. APL is actually a mathematical language for expressing algorithms, not just *A Programming Language*.\n",
    "\n",
    "That is not to say that APL is useless to aspiring or professional computer scientists. Quite the contrary, learning to think in an *array-oriented* way can be invaluable when it comes to solving computational problems - or, rather, any problem that requires computation. Much of modern computing is concerned with [high dimensional arrays](https://www.tensorflow.org/guide/tensors); [vector processing](https://www.tensorflow.org/tutorials/representation/word2vec); doing [parallel processing](https://en.wikipedia.org/wiki/Parallel_computing); and dealing with [large data sets](https://en.wikipedia.org/wiki/Big_data). These are all areas where array thinking is incredibly useful.\n",
    "\n",
    "If you do want to learn a more conventional *computer science* approach to programming, then the book [Think Python](https://greenteapress.com/wp/think-python/) by Allen Downey is a great place to start. Then again, there are plenty of good resources found with a simple internet search for the phrase \"[learn how to program](https://lmgtfy.com/?q=learn+how+to+program)\"."
   ]
  },
  {
   "cell_type": "markdown",
   "metadata": {},
   "source": [
    "***\n",
    "## The APL pocket calculator\n",
    "APL lets you do simple calculations. It also lets you do very complicated ones, but let's keep it simple to start with."
   ]
  },
  {
   "cell_type": "code",
   "execution_count": 2,
   "metadata": {},
   "outputs": [
    {
     "data": {
      "text/html": [
       "<span style=\"white-space:pre; font-family: monospace\">2\n",
       "</span>"
      ]
     },
     "execution_count": 2,
     "metadata": {},
     "output_type": "execute_result"
    },
    {
     "data": {
      "text/html": [
       "<span style=\"white-space:pre; font-family: monospace\">¯3\n",
       "</span>"
      ]
     },
     "execution_count": 2,
     "metadata": {},
     "output_type": "execute_result"
    },
    {
     "data": {
      "text/html": [
       "<span style=\"white-space:pre; font-family: monospace\">6\n",
       "</span>"
      ]
     },
     "execution_count": 2,
     "metadata": {},
     "output_type": "execute_result"
    },
    {
     "data": {
      "text/html": [
       "<span style=\"white-space:pre; font-family: monospace\">8\n",
       "</span>"
      ]
     },
     "execution_count": 2,
     "metadata": {},
     "output_type": "execute_result"
    },
    {
     "data": {
      "text/html": [
       "<span style=\"white-space:pre; font-family: monospace\">0.666667\n",
       "</span>"
      ]
     },
     "execution_count": 2,
     "metadata": {},
     "output_type": "execute_result"
    }
   ],
   "source": [
    "1+1 ⍝ No points for guessing what this does\n",
    "2-5 ⍝ Negative numbers are denoted with a high-minus ¯\n",
    "2×3 ⍝ Multiplication uses the \"times\" symbol you will remember from school\n",
    "2*3 ⍝ The 5-pointed start is used for exponentiation (powers)\n",
    "2÷3 ⍝ The divide symbol is also familiar"
   ]
  },
  {
   "cell_type": "markdown",
   "metadata": {},
   "source": [
    "APL has a darn sight more symbols than your typical pocket calculator (or calculator app on your phone).  We can get a full scientific calculator's worth of functionality right now. The following is based on the [Casio fx-83GT PLUS](https://www.amazon.co.uk/Casio-FX-83GTPLUS-S-UH-FX-83GTPLUS-Scientific-Calculator/dp/B001O3IF9U).\n",
    "<table style=\"font-size:120%\">\n",
    "    <tr>\n",
    "        <td>$fx-83GT PLUS$</td>\n",
    "        <td style='font-family:\"APL385 Unicode\";'>APL</td>\n",
    "    </tr>\n",
    "    <tr>\n",
    "        <td>Abs(x)</td>\n",
    "        <td style='font-family:\"APL385 Unicode\";'>|x</td>\n",
    "    </tr>\n",
    "    <tr>\n",
    "        <td>$x^n$</td>\n",
    "        <td style='font-family:\"APL385 Unicode\";'>x*n</td>\n",
    "    </tr>\n",
    "    <tr>\n",
    "        <td>$3\\times 10^{5}$</td>\n",
    "        <td style='font-family:\"APL385 Unicode\";'>3E5</td>\n",
    "    </tr>\n",
    "    <tr>\n",
    "        <td>$x!$</td>\n",
    "        <td style='font-family:\"APL385 Unicode\";'>!x</td>\n",
    "    </tr>\n",
    "    <tr>\n",
    "        <td>$x^{-1}$</td>\n",
    "        <td style='font-family:\"APL385 Unicode\";'>÷x</td>\n",
    "    </tr>\n",
    "    <tr>\n",
    "        <td>$log_{a}{b}$</td>\n",
    "        <td style='font-family:\"APL385 Unicode\";'>a⍟b</td>\n",
    "    </tr>\n",
    "    <tr>\n",
    "        <td>${a} {{b}\\over{c}}$</td>\n",
    "        <td style='font-family:\"APL385 Unicode\";'>a+b÷c</td>\n",
    "    </tr>\n",
    "    <tr>\n",
    "        <td>$\\sqrt[a]{b}$</td>\n",
    "        <td style='font-family:\"APL385 Unicode\";'>b*÷a</td>\n",
    "    </tr>\n",
    "    <tr>\n",
    "        <td>$e^x$</td>\n",
    "        <td style='font-family:\"APL385 Unicode\";'>*x</td>\n",
    "    </tr>\n",
    "    <tr>\n",
    "        <td>$\\pi$</td>\n",
    "        <td style='font-family:\"APL385 Unicode\";'>○1</td>\n",
    "    </tr>\n",
    "    <tr>\n",
    "        <td>ln $x$</td>\n",
    "        <td style='font-family:\"APL385 Unicode\";'>⍟x</td>\n",
    "    </tr>\n",
    "    <tr>\n",
    "        <td>$\\sin x$</td>\n",
    "        <td style='font-family:\"APL385 Unicode\";'>1○x</td>\n",
    "    </tr>\n",
    "    <tr>\n",
    "        <td>$\\cos x$</td>\n",
    "        <td style='font-family:\"APL385 Unicode\";'>2○x</td>\n",
    "    </tr>\n",
    "    <tr>\n",
    "        <td>$\\tan x$</td>\n",
    "        <td style='font-family:\"APL385 Unicode\";'>3○x</td>\n",
    "    </tr>\n",
    "    <tr>\n",
    "        <td>nCr</td>\n",
    "        <td style='font-family:\"APL385 Unicode\";'>r!n</td>\n",
    "    </tr>\n",
    "    <tr>\n",
    "        <td>nPr</td>\n",
    "        <td style='font-family:\"APL385 Unicode\";'>(!n)÷!n-r</td>\n",
    "    </tr>\n",
    "    <tr>\n",
    "        <td>Rnd</td>\n",
    "        <td style='font-family:\"APL385 Unicode\";'>⌊0.5∘+</td>\n",
    "    </tr>\n",
    "    <tr>\n",
    "        <td>S⇔D</td>\n",
    "        <td style='font-family:\"APL385 Unicode\";'>(1∧⊢,÷)x</td>\n",
    "    </tr>\n",
    "</table>  \n"
   ]
  },
  {
   "cell_type": "code",
   "execution_count": 3,
   "metadata": {},
   "outputs": [],
   "source": [
    "⍝ Try out your new calculator here:"
   ]
  },
  {
   "cell_type": "markdown",
   "metadata": {},
   "source": [
    "***\n",
    "## Inputting symbols\n",
    "Your keyboard probably doesn't do `×` or `÷` or a lot of the other symbols by default. We have [a guide](../Tutorials/TypingAPL.ipynb) which gives a couple of ways of inputting APL symbols (without copying and pasting each symbol individually)."
   ]
  },
  {
   "cell_type": "markdown",
   "metadata": {},
   "source": [
    "***\n",
    "## Variables and output\n",
    "A variable is a name with a value assigned to it."
   ]
  },
  {
   "cell_type": "code",
   "execution_count": 4,
   "metadata": {},
   "outputs": [],
   "source": [
    "var ← 3 ⍝ var gets three"
   ]
  },
  {
   "cell_type": "markdown",
   "metadata": {},
   "source": [
    "How can we see what our variable contains?"
   ]
  },
  {
   "cell_type": "code",
   "execution_count": 5,
   "metadata": {},
   "outputs": [
    {
     "data": {
      "text/html": [
       "<span style=\"white-space:pre; font-family: monospace\">3\n",
       "</span>"
      ]
     },
     "execution_count": 5,
     "metadata": {},
     "output_type": "execute_result"
    },
    {
     "data": {
      "text/html": [
       "<span style=\"white-space:pre; font-family: monospace\">3\n",
       "</span>"
      ]
     },
     "execution_count": 5,
     "metadata": {},
     "output_type": "execute_result"
    }
   ],
   "source": [
    "var   ⍝ By default, APL interpreters print the output of a statement\n",
    "⎕←var ⍝ But it is best to assign desired output to 'quad'. This way we can find all output statements later on."
   ]
  },
  {
   "cell_type": "markdown",
   "metadata": {},
   "source": [
    "Vectors can be defined in APL by juxtaposing arrays, separated by spaces."
   ]
  },
  {
   "cell_type": "code",
   "execution_count": 6,
   "metadata": {},
   "outputs": [
    {
     "data": {
      "text/html": [
       "<span style=\"white-space:pre; font-family: monospace\">1 5 4 3 2\n",
       "</span>"
      ]
     },
     "execution_count": 6,
     "metadata": {},
     "output_type": "execute_result"
    },
    {
     "data": {
      "text/html": [
       "<span style=\"white-space:pre; font-family: monospace\">I like APL\n",
       "</span>"
      ]
     },
     "execution_count": 6,
     "metadata": {},
     "output_type": "execute_result"
    },
    {
     "data": {
      "text/html": [
       "<span style=\"white-space:pre; font-family: monospace\">I like APL\n",
       "</span>"
      ]
     },
     "execution_count": 6,
     "metadata": {},
     "output_type": "execute_result"
    }
   ],
   "source": [
    "⎕←1 5 4 3 2                                ⍝ A simple numeric vector of length 5\n",
    "⎕←'I' ' ' 'l' 'i' 'k' 'e' ' ' 'A' 'P' 'L'  ⍝ It could get awkward for character arrays\n",
    "⎕←'I like APL'                             ⍝ Luckily APL lets us type character arrays nicely"
   ]
  },
  {
   "cell_type": "markdown",
   "metadata": {},
   "source": [
    "So you can see that APL makes a very concise [\"Hello, World!\"](https://en.wikipedia.org/wiki/%22Hello,_World!%22_program) program:"
   ]
  },
  {
   "cell_type": "code",
   "execution_count": 7,
   "metadata": {},
   "outputs": [
    {
     "data": {
      "text/html": [
       "<span style=\"white-space:pre; font-family: monospace\">Hello, World!\n",
       "</span>"
      ]
     },
     "execution_count": 7,
     "metadata": {},
     "output_type": "execute_result"
    }
   ],
   "source": [
    "⎕←'Hello, World!'"
   ]
  },
  {
   "cell_type": "markdown",
   "metadata": {},
   "source": [
    "***\n",
    "## Making mistakes\n",
    "When you are trying out different code blocks, it is a good idea to make mistakes. In the \"Hello, World!\" example, what happens if you omit one of the quotation marks? What happens if you omit both? What happens if you just execute quad `⎕`? Doing this as you go will make you more familiar with how the language works, and eventually you won't have to think too hard to know the result of basic APL expressions."
   ]
  },
  {
   "cell_type": "markdown",
   "metadata": {},
   "source": [
    "***\n",
    "## Programs, functions and algorithms\n",
    "Often in programming, these three terms are used synonymously. The [tutorial about functions](../Tutorials/Functions.ipynb) discusses the different types of functions in APL. There is also a worked example about [marking tests](../Tutorials/MarkingTests.ipynb) which helps to demonstrate the difference between APL thinking and \"programs\" in more traditional programming languages."
   ]
  }
 ],
 "metadata": {
  "kernelspec": {
   "display_name": "Dyalog APL",
   "language": "apl",
   "name": "dyalog-kernel"
  },
  "language_info": {
   "file_extension": ".apl",
   "mimetype": "text/apl",
   "name": "APL"
  }
 },
 "nbformat": 4,
 "nbformat_minor": 4
}
