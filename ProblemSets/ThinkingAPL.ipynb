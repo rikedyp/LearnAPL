{
 "cells": [
  {
   "cell_type": "markdown",
   "metadata": {},
   "source": [
    "# Thinking in APL\n",
    "\n",
    "Without executing, write the **result** or **[error message](http://help.dyalog.com/17.0/Content/Language/Errors/APL%20Errors.htm)** APL would generate if each of the following statements were *executed in order*.  \n",
    "\n",
    "These questions should be answered with a **pen or pencil on paper**. You may execute statements to check your answers in the code cell below."
   ]
  },
  {
   "cell_type": "code",
   "execution_count": 2,
   "metadata": {},
   "outputs": [],
   "source": [
    "⍝ Execute APL here"
   ]
  },
  {
   "cell_type": "markdown",
   "metadata": {},
   "source": [
    "***\n",
    "**Part 1**\n",
    "1. `2+3 4`\n",
    "\n",
    "1. `8÷0`\n",
    "\n",
    "1. `1+`\n",
    "\n",
    "1. `2+2 2+2`\n",
    "\n",
    "1. `5 6+7 8 9`\n",
    "\n",
    "1. `6×3+2-7-8-¯9`   "
   ]
  },
  {
   "cell_type": "markdown",
   "metadata": {},
   "source": [
    "***\n",
    "**Part 2**\n",
    "1. `A←10`\n",
    "\n",
    "1. `B←7`\n",
    "\n",
    "1. `A+B-C`\n",
    "\n",
    "1. `C←4`\n",
    "\n",
    "1. `A-B-C`\n",
    "\n",
    "1. `a+b+c`    "
   ]
  },
  {
   "cell_type": "markdown",
   "metadata": {},
   "source": [
    "***\n",
    "**Part 3**\n",
    "1. `3××¯2`            \n",
    "\n",
    "1. `¯7⍴3`             \n",
    "\n",
    "1. `⌊.5+2.7 2.5 ¯1.2` \n",
    "\n",
    "1. `⌈¯.5+2.7 2.5 ¯1.2`\n",
    "\n",
    "1. `⌈¯.5+2.7 2.5 -1.2`\n",
    "\n",
    "1. `3-- .5`             \n",
    "\n",
    "1. `3-¯ .5`"
   ]
  },
  {
   "cell_type": "markdown",
   "metadata": {},
   "source": [
    "***\n",
    "**Part 4**\n",
    "1. `⍳3`                 \n",
    "\n",
    "1. `⍳3-5`               \n",
    "\n",
    "1. `(⍳3)-5`             \n",
    "\n",
    "1. `¯5+⍳3`              \n",
    "\n",
    "1. `⍳2 2⍴⍳4`            \n",
    "\n",
    "1. `2 2⍴⍳4-6 7`         \n",
    "\n",
    "1. `2 2⍴⍳4-6 7 8 9`     \n",
    "\n",
    "1. `(2 2⍴⍳4)-6 7 8 9`   \n",
    "\n",
    "1. `(2 2⍴⍳4)-3 3⍴⍳9`    \n",
    "\n",
    "1. `(2 2⍴⍳4)-2 2⍴5+⍳4`  \n",
    "\n",
    "1. `(2 2⍴⍳4)-(2 2⍴5)+⍳4`\n",
    "\n",
    "1. `+/⍳10`              \n",
    "\n",
    "1. `-/⍳10`              \n",
    "\n",
    "1. `+/⍳5÷2`             \n",
    "\n",
    "1. `+/(⍳5)÷2`           \n",
    "\n",
    "1. `(+/⍳5)÷2` "
   ]
  }
 ],
 "metadata": {
  "kernelspec": {
   "display_name": "Dyalog APL",
   "language": "apl",
   "name": "dyalog-kernel"
  },
  "language_info": {
   "file_extension": ".apl",
   "mimetype": "text/apl",
   "name": "APL"
  }
 },
 "nbformat": 4,
 "nbformat_minor": 4
}
