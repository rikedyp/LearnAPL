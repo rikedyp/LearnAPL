{
 "cells": [
  {
   "cell_type": "markdown",
   "metadata": {},
   "source": [
    "# Spelling Numbers"
   ]
  },
  {
   "cell_type": "markdown",
   "metadata": {},
   "source": [
    "***\n",
    "## A solution by Simon Marsden of MicroAPL."
   ]
  },
  {
   "cell_type": "code",
   "execution_count": 12,
   "metadata": {},
   "outputs": [],
   "source": [
    "∇ R←SpellNumber number;⎕IO;units;tens;thousands;numgroups;vals;group;h;t;u\n",
    "\n",
    "⎕IO←0\n",
    "number←⌊⍬⍴number\n",
    "\n",
    "⍝ Names of numbers 0 - 19: NB 0 is blank\n",
    "units←'' 'one' 'two' 'three' 'four' 'five' 'six' 'seven' 'eight' 'nine'\n",
    "units←units, 'ten' 'eleven' 'twelve' 'thirteen' 'fourteen' 'fifteen'\n",
    "units←units, 'sixteen' 'seventeen' 'eighteen' 'nineteen'\n",
    "\n",
    "⍝ Names of tens: NB 0 and 10 are blank\n",
    "tens←'' '' 'twenty' 'thirty' 'forty' 'fifty' 'sixty' 'seventy' 'eighty' 'ninety'\n",
    "\n",
    "⍝ Names of thousands groups\n",
    "thousands←'trillion' 'billion' 'million' 'thousand' 'zero'    \n",
    "\n",
    ":If number = 0\n",
    "  R←'zero'\n",
    ":Else\n",
    "  ⍝ Decode |number and loop to handle in groups of a thousand\n",
    "  R←''\n",
    "  numgroups←↑⍴thousands\n",
    "  vals←(numgroups⍴1000) ⊤ |number\n",
    "  :For group :In ⍳numgroups\n",
    "    :If 0≠vals[group]\n",
    "      ⍝ Get hundreds, tens and units\n",
    "      (h t u)←10 10 10 ⊤ vals[group]\n",
    "    \n",
    "      ⍝ Adjust for teens, e.g. 1 3 -> 0 13\n",
    "      (t u)←t u + ¯1 10 × t = 1\n",
    "    \n",
    "      ⍝ Put comma before any hundreds if not first\n",
    "      R←R,((0≠⍴R)^0≠h)/', '\n",
    "    \n",
    "      ⍝ Handle any hundreds\n",
    "      R←R,(0≠h)/(⊃units[h]), ' hundred'\n",
    "\n",
    "      ⍝ Want 'and' if anything left in group and not at start of whole thing\n",
    "      R←R,((0≠⍴R)^0≠t+u)/' and '\n",
    "    \n",
    "      ⍝ Handle tens and units, possibly with hyphen as in 'twenty-six'\n",
    "      R←R,⊃tens[t]\n",
    "      R←R,(^/0≠t u)/'-'\n",
    "      R←R,⊃units[u]\n",
    "    \n",
    "      ⍝ Put 'thousand', etc\n",
    "      :If group < numgroups - 1\n",
    "        R←R,' ',⊃thousands [group]\n",
    "      :EndIf\n",
    "    :EndIf\n",
    "  :EndFor\n",
    ":EndIf\n",
    "\n",
    "⍝ Add any 'minus ' at the front\n",
    "R←((number<0)/'minus '),R\n",
    "\n",
    "⍝ First character to uppercase\n",
    "a←'abcdefghijklmnopqrstuvwxyz'\n",
    "R[0]←⎕A [a⍳R[0]]\n",
    "∇"
   ]
  },
  {
   "cell_type": "code",
   "execution_count": 13,
   "metadata": {},
   "outputs": [
    {
     "data": {
      "text/html": [
       "<span style=\"white-space:pre; font-family: monospace\">One thousand, two hundred and thirty-four\n",
       "</span>"
      ]
     },
     "execution_count": 13,
     "metadata": {},
     "output_type": "execute_result"
    }
   ],
   "source": [
    "SpellNumber 1234"
   ]
  }
 ],
 "metadata": {
  "kernelspec": {
   "display_name": "Dyalog APL",
   "language": "apl",
   "name": "dyalog-kernel"
  },
  "language_info": {
   "file_extension": ".apl",
   "mimetype": "text/apl",
   "name": "APL"
  }
 },
 "nbformat": 4,
 "nbformat_minor": 4
}
