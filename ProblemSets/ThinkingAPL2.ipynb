{
 "cells": [
  {
   "cell_type": "markdown",
   "metadata": {},
   "source": [
    "# Thinking in APL 2\n",
    "Electric boogaloo"
   ]
  },
  {
   "cell_type": "markdown",
   "metadata": {},
   "source": [
    "<div class=\"alert alert-block alert-success\" style=\"color:#1a2f1a;\">\n",
    "    Using a single multiplication <code>×</code> on <code>vec</code>, produce the following output:\n",
    "</div>\n",
    "\n",
    "```APL\n",
    "┌─────┬───────┬─────┐\n",
    "│2 4 6│┌─┬───┐│2 4 6│\n",
    "│     ││2│4 6││     │\n",
    "│     │└─┴───┘│     │\n",
    "└─────┴───────┴─────┘\n",
    "```"
   ]
  },
  {
   "cell_type": "markdown",
   "metadata": {},
   "source": [
    "Using a single multiplication `×` on `vec`, **produce the following output**:\n",
    "```APL\n",
    "┌─────┬───────┬─────┐\n",
    "│2 4 6│┌─┬───┐│2 4 6│\n",
    "│     ││2│4 6││     │\n",
    "│     │└─┴───┘│     │\n",
    "└─────┴───────┴─────┘\n",
    "```"
   ]
  },
  {
   "cell_type": "code",
   "execution_count": 2,
   "metadata": {},
   "outputs": [],
   "source": [
    "vec←(1 2 3) (1 (2 3)) (1 2 3)\n",
    "⍝ Answer here"
   ]
  },
  {
   "cell_type": "markdown",
   "metadata": {},
   "source": [
    "Now try to get this output:\n",
    "```APL\n",
    "┌─────┬───────┬─────┐\n",
    "│2 4 6│┌─┬───┐│2 4 6│\n",
    "│     ││1│2 3││     │\n",
    "│     │└─┴───┘│     │\n",
    "└─────┴───────┴─────┘\n",
    "```"
   ]
  },
  {
   "cell_type": "code",
   "execution_count": 3,
   "metadata": {},
   "outputs": [],
   "source": [
    "⍝ Answer here"
   ]
  },
  {
   "cell_type": "code",
   "execution_count": null,
   "metadata": {},
   "outputs": [],
   "source": []
  }
 ],
 "metadata": {
  "kernelspec": {
   "display_name": "Dyalog APL",
   "language": "apl",
   "name": "dyalog-kernel"
  },
  "language_info": {
   "file_extension": ".apl",
   "mimetype": "text/apl",
   "name": "APL"
  }
 },
 "nbformat": 4,
 "nbformat_minor": 4
}
