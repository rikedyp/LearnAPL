{
 "cells": [
  {
   "cell_type": "markdown",
   "metadata": {},
   "source": [
    "# Thinking in APL 2\n",
    "Electric boogaloo"
   ]
  },
  {
   "cell_type": "markdown",
   "metadata": {},
   "source": [
    "Using a single multiplication `×` on `vec`, produce the following output:\n",
    "```APL\n",
    "┌─────┬───────┬─────┐\n",
    "│2 4 6│┌─┬───┐│2 4 6│\n",
    "│     ││2│4 6││     │\n",
    "│     │└─┴───┘│     │\n",
    "└─────┴───────┴─────┘\n",
    "```"
   ]
  },
  {
   "cell_type": "code",
   "execution_count": 2,
   "metadata": {},
   "outputs": [],
   "source": [
    "vec←(1 2 3) (1 (2 3)) (1 2 3)\n",
    "⍝ Answer here"
   ]
  },
  {
   "cell_type": "code",
   "execution_count": null,
   "metadata": {},
   "outputs": [],
   "source": []
  }
 ],
 "metadata": {
  "kernelspec": {
   "display_name": "Dyalog APL",
   "language": "apl",
   "name": "dyalog-kernel"
  },
  "language_info": {
   "file_extension": ".apl",
   "mimetype": "text/apl",
   "name": "APL"
  }
 },
 "nbformat": 4,
 "nbformat_minor": 4
}
