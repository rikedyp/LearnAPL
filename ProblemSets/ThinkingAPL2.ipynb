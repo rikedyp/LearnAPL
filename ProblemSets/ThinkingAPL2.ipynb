{
 "cells": [
  {
   "cell_type": "markdown",
   "metadata": {},
   "source": [
    "# Thinking in APL 2\n",
    "Electric boogaloo"
   ]
  },
  {
   "cell_type": "markdown",
   "metadata": {},
   "source": [
    "***\n",
    "### Nested vectors"
   ]
  },
  {
   "cell_type": "code",
   "execution_count": null,
   "metadata": {},
   "outputs": [],
   "source": [
    "vec←(1 2 3) (1 (2 3)) (1 2 3)"
   ]
  },
  {
   "cell_type": "markdown",
   "metadata": {},
   "source": [
    "> **Use a single multiplication `×` on `vec` to produce the following output**:\n",
    "```APL\n",
    "┌─────┬───────┬─────┐\n",
    "│2 4 6│┌─┬───┐│2 4 6│\n",
    "│     ││2│4 6││     │\n",
    "│     │└─┴───┘│     │\n",
    "└─────┴───────┴─────┘\n",
    "```"
   ]
  },
  {
   "cell_type": "code",
   "execution_count": null,
   "metadata": {},
   "outputs": [],
   "source": [
    "⍝ Answer here"
   ]
  },
  {
   "cell_type": "markdown",
   "metadata": {},
   "source": [
    "> **Now try this output:**\n",
    "```APL\n",
    "┌─────┬───────┬─────┐\n",
    "│2 4 6│┌─┬───┐│2 4 6│\n",
    "│     ││1│2 3││     │\n",
    "│     │└─┴───┘│     │\n",
    "└─────┴───────┴─────┘\n",
    "```"
   ]
  },
  {
   "cell_type": "code",
   "execution_count": null,
   "metadata": {},
   "outputs": [],
   "source": [
    "⍝ Answer here"
   ]
  },
  {
   "cell_type": "markdown",
   "metadata": {},
   "source": [
    "> **Last one:**\n",
    "```APL\n",
    "┌─────┬───────┬─────┐\n",
    "│2 4 6│┌─┬───┐│1 2 3│\n",
    "│     ││1│4 6││     │\n",
    "│     │└─┴───┘│     │\n",
    "└─────┴───────┴─────┘\n",
    "```"
   ]
  },
  {
   "cell_type": "markdown",
   "metadata": {},
   "source": [
    "### Big nested array"
   ]
  },
  {
   "cell_type": "code",
   "execution_count": null,
   "metadata": {},
   "outputs": [],
   "source": [
    "bignest ← 'vec1' 'vec2' 3 4 5 \n",
    "bignest,← ⊂('vec3' 6 7 'donut' 8)\n",
    "bignest,← 'vec4' 'vec5' 9 10\n",
    "bignest,←(11 12 13) 14 15\n",
    "bignest←3 4⍴BigNest"
   ]
  },
  {
   "cell_type": "markdown",
   "metadata": {},
   "source": [
    "> **Use a single pick `⊃` to retrieve the vector `'donut'`.**"
   ]
  },
  {
   "cell_type": "code",
   "execution_count": null,
   "metadata": {},
   "outputs": [],
   "source": [
    "⍝ Answer here"
   ]
  }
 ],
 "metadata": {
  "kernelspec": {
   "display_name": "Dyalog APL",
   "language": "apl",
   "name": "dyalog-kernel"
  },
  "language_info": {
   "file_extension": ".apl",
   "mimetype": "text/apl",
   "name": "APL"
  }
 },
 "nbformat": 4,
 "nbformat_minor": 4
}
