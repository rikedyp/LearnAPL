{
 "cells": [
  {
   "cell_type": "markdown",
   "metadata": {},
   "source": [
    "# Spelling numbers\n",
    "Write a function which takes numeric input and outputs the number as words.\n",
    "\n",
    "For the sake of the puzzle you should make sure that your solution handles the following:\n",
    "- Negative numbers should be preceded by a \"Negative\", e.g. \"Negative seventeen\"\n",
    "- UK English usage of the word \"and\", e.g \"One hundred and eight\", not the US \"One hundred eight\"\n",
    "- Use commas after every group, e.g. \"Two million, six hundred and sixteen thousand, eight hundred and one\"\n",
    "- Standard use of a hyphen, e.g. \"Twenty-six\", \"Two thousand, one hundred and twenty-six\" \n",
    "\n",
    "***Example session:***\n",
    "```APL\n",
    "      SpellNumber 0\n",
    "Zero\n",
    "      SpellNumber ¯8\n",
    "Negative eight\n",
    "      Spell Number 10001\n",
    "Ten thousand and one\n",
    "      Spell Number 1234567890\n",
    "One billion, two hundred and thirty-four million, five hundred and sixty-seven thousand, eight hundred and ninety\n",
    "```"
   ]
  },
  {
   "cell_type": "code",
   "execution_count": null,
   "metadata": {},
   "outputs": [],
   "source": []
  }
 ],
 "metadata": {
  "kernelspec": {
   "display_name": "Dyalog APL",
   "language": "apl",
   "name": "dyalog-kernel"
  },
  "language_info": {
   "file_extension": ".apl",
   "mimetype": "text/apl",
   "name": "APL"
  }
 },
 "nbformat": 4,
 "nbformat_minor": 4
}
