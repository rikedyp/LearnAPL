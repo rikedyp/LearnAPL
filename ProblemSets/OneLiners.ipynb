{
 "cells": [
  {
   "cell_type": "markdown",
   "metadata": {},
   "source": [
    "# Problem set: APL one-liners\n",
    "These problems can all be solved in one line of APL. The problems get progressively more difficult.\n",
    "\n",
    "> **Note:** Just because a problem can be solved in one line doesn't mean it always should be. In production code, there are other priorities to consider:\n",
    "- Can someone else understand my code?\n",
    "- Can I understand my code 3 days later?\n",
    "- Is my code sufficiently fast?\n",
    "- Will my code be easy to extend and maintain as requirements change in the future?"
   ]
  },
  {
   "cell_type": "markdown",
   "metadata": {},
   "source": [
    "***\n",
    "### Sum from 1 to N\n",
    "Write a function that sums the integers from 1 to its argument, inclusive.\n",
    "\n",
    "_**Example session:**_\n",
    "```APL\n",
    "      your_solution 10\n",
    "55\n",
    "      your_solution 103\n",
    "5356\n",
    "```"
   ]
  },
  {
   "cell_type": "code",
   "execution_count": 4,
   "metadata": {},
   "outputs": [],
   "source": [
    "⍝ Answer here"
   ]
  },
  {
   "cell_type": "markdown",
   "metadata": {},
   "source": [
    "***\n",
    "### Triangular numbers\n",
    "Triangular numbers are the cumulative sum of the natural numbers. Write a function to generate the first `N` triangular numbers.\n",
    "\n",
    "***Example session:***\n",
    "```APL\n",
    "      your_solution 7\n",
    "1 3 6 10 15 21 28\n",
    "```"
   ]
  },
  {
   "cell_type": "code",
   "execution_count": null,
   "metadata": {},
   "outputs": [],
   "source": [
    "⍝ Answer here"
   ]
  },
  {
   "cell_type": "markdown",
   "metadata": {},
   "source": [
    "### Bonus\n",
    "Write a function to generate the **Nth** triangular number.\n",
    "\n",
    "***Example session:***\n",
    "```APL\n",
    "      your_solution 7\n",
    "28\n",
    "```"
   ]
  },
  {
   "cell_type": "code",
   "execution_count": null,
   "metadata": {},
   "outputs": [],
   "source": [
    "⍝ Answer here"
   ]
  },
  {
   "cell_type": "markdown",
   "metadata": {},
   "source": [
    "***\n",
    "### What's in a vector?"
   ]
  },
  {
   "cell_type": "markdown",
   "metadata": {},
   "source": [
    "The simple numeric vector `vec` is declared in the first statement below:\n",
    "##### a. How many elements are in vec?\n",
    "##### b. What is the largest value in vec?\n",
    "##### c. What is the smallest value in vec?\n",
    "##### d. What is the range of values in vec?\n",
    "##### e. What is the sum of values in vec?\n",
    "##### f. What is the product of values in vec?\n",
    "##### g. What is the mean average of values in vec?"
   ]
  },
  {
   "cell_type": "code",
   "execution_count": 3,
   "metadata": {},
   "outputs": [],
   "source": [
    "vec←13 3 4 18 4 10 18 20 18 14 3 8 2 20 11 3 8 19 13 14 11 15 7 5 13 5 1 15 2 10 15 5 19 4 16 10 2 10 8 10 11 55 18 5 16 13 10 5 13 2 9 11 1 13 13 12 13 17 44 9 16 17 14 7 20 11 6 8 7 16 15 65 15 9 15 14 15 9 13 4 3 9 12 11 1 10 4 10 52 7 14 4 16 8 4 8 4 12 10 15\n",
    "⍝ Answer here"
   ]
  },
  {
   "cell_type": "markdown",
   "metadata": {},
   "source": [
    "***\n",
    "### The first N odd numbers\n",
    "Write a function to generate the first N odd numbers:  \n",
    "_**Example session:**_\n",
    "```APL\n",
    "      your_solution 5\n",
    "1 3 5 7 9      \n",
    "```"
   ]
  },
  {
   "cell_type": "code",
   "execution_count": 5,
   "metadata": {},
   "outputs": [],
   "source": [
    "⍝ Answer here"
   ]
  },
  {
   "cell_type": "markdown",
   "metadata": {},
   "source": [
    "***\n",
    "### How do you like them APLs?\n",
    "There is a basket of `M` apples 🍎.  \n",
    "How many remain if we distribute whole apples equally between `N` people?  \n",
    "**_Example session:_**  \n",
    "```APL\n",
    "      ⍝ 29 apples for 5 people\n",
    "      29 your_solution 5\n",
    "4\n",
    "```"
   ]
  },
  {
   "cell_type": "code",
   "execution_count": 7,
   "metadata": {},
   "outputs": [],
   "source": [
    "⍝ Answer here"
   ]
  },
  {
   "cell_type": "markdown",
   "metadata": {},
   "source": [
    "***\n",
    "### How many even are there?\n",
    "Given an array of numbers, write a function to calculate how many even numbers are in the array.  \n",
    "\n",
    "_Useful primitives:_ `+ /`  \n",
    "\n",
    "_**Example session:**__  \n",
    "```APL\n",
    "      your_solution 1 3 4  5 1 2 5 6 7 21 4 566 214 21 4 16 315 35 768 34 4 135\n",
    "10      \n",
    "```"
   ]
  },
  {
   "cell_type": "code",
   "execution_count": 8,
   "metadata": {},
   "outputs": [],
   "source": [
    "⍝ Answer here"
   ]
  },
  {
   "cell_type": "markdown",
   "metadata": {},
   "source": [
    "***\n",
    "### Number splitting\n",
    "From the 2018 APL Problem Solving Competition, Phase I\n",
    "\n",
    "Write an APL expression that, given a scalar real non-negative number, will return a two-element vector of the integer and fractional parts of the number.\n",
    "\n",
    "_**Example session:**_\n",
    "```APL\n",
    "      your_solution 1.234\n",
    "1 0.234\n",
    "      your_solution 12\n",
    "12 0\n",
    "      your_solution .1234\n",
    "0 0.1234\n",
    "      your_solution 0\n",
    "0 0\n",
    "```"
   ]
  }
 ],
 "metadata": {
  "kernelspec": {
   "display_name": "Dyalog APL",
   "language": "apl",
   "name": "dyalog-kernel"
  },
  "language_info": {
   "file_extension": ".apl",
   "mimetype": "text/apl",
   "name": "APL"
  }
 },
 "nbformat": 4,
 "nbformat_minor": 4
}
