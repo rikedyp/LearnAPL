{
 "cells": [
  {
   "cell_type": "markdown",
   "metadata": {},
   "source": [
    "# Problem Sets\n",
    "\n",
    "Short problems to reinforce learning of particular concepts.\n",
    "\n",
    "These sets are incomplete, and mainly serve as a repository until the problems are placed into a sensible structure.\n",
    "\n",
    "## Contents\n",
    "  - [OneLiners.ipynb](./OneLiners.ipynb)                   \n",
    "  - [PrimitiveProblems.ipynb](./PrimitiveProblems.ipynb)   \n",
    "  - [Problems.ipynb](./Problems.ipynb)                     \n",
    "  - [ThinkingAPL.ipynb](./ThinkingAPL.ipynb)               \n",
    "  - [WordProblems](./WordProblems/README.ipynb)            \n",
    "    - [BSDwords.txt](WordProblems/BSDwords.txt)            \n",
    "    - [WordProblems.ipynb](WordProblems/WordProblems.ipynb)"
   ]
  }
 ],
 "metadata": {
  "kernelspec": {
   "display_name": "Dyalog APL",
   "language": "apl",
   "name": "dyalog-kernel"
  },
  "language_info": {
   "file_extension": ".apl",
   "mimetype": "text/apl",
   "name": "APL"
  }
 },
 "nbformat": 4,
 "nbformat_minor": 4
}
