{
 "cells": [
  {
   "cell_type": "markdown",
   "metadata": {},
   "source": [
    "# LCM & GCD\n",
    "Lowest Common Multiple and Greatest Common Divisor\n",
    "\n",
    "**Quora links**\n",
    "- [Q1](https://www.quora.com/What-are-the-applications-of-HCF-and-LCM-in-daily-life)\n",
    "- [Q2](https://www.quora.com/What-are-real-life-applications-of-the-greatest-common-divisor-of-two-or-more-integers)\n",
    "- [Q3](https://www.quora.com/What-is-the-greatest-common-factor-used-for-in-real-life)\n",
    "- [Q4](https://www.quora.com/What-are-the-real-life-applications-of-greatest-common-divisor-GCD-and-least-common-multiple-LCM)"
   ]
  },
  {
   "cell_type": "markdown",
   "metadata": {},
   "source": [
    "***\n",
    "## Lowest Common Multiple\n",
    "* When some repeating events will happen at the same time\n",
    "* When we want to get different sized batches to match some amount"
   ]
  },
  {
   "cell_type": "markdown",
   "metadata": {},
   "source": [
    "We are hosting a party. We are going to need to buy napkins, boxes of juice and biscuits for everyone. They come in packs of the following sizes:\n",
    "\n",
    "|Item|Number per pack|\n",
    "|----|---------------|\n",
    "|Napkins|12|\n",
    "|Juice boxes|6|\n",
    "|Biscuits|10|"
   ]
  },
  {
   "cell_type": "markdown",
   "metadata": {},
   "source": [
    "> ### Question\n",
    "**How many people should we invite so that everyone has an equal number of napkins, cups and biscuits and there are none left over?**"
   ]
  },
  {
   "cell_type": "code",
   "execution_count": 6,
   "metadata": {},
   "outputs": [
    {
     "data": {
      "text/html": [
       "<span style=\"white-space:pre; font-family: monospace\">60\n",
       "</span>"
      ]
     },
     "execution_count": 6,
     "metadata": {},
     "output_type": "execute_result"
    }
   ],
   "source": [
    "⎕←n←∧/12 6 10"
   ]
  },
  {
   "cell_type": "markdown",
   "metadata": {},
   "source": [
    "With `60` guests, every guest gets `5` napkins, `6` boxes of juice and `10` biscuits."
   ]
  },
  {
   "cell_type": "code",
   "execution_count": 9,
   "metadata": {},
   "outputs": [
    {
     "data": {
      "text/html": [
       "<span style=\"white-space:pre; font-family: monospace\">With 60 guests, every guest gets 12 napkins 6 boxes of juice 10 biscuits\n",
       "</span>"
      ]
     },
     "execution_count": 9,
     "metadata": {},
     "output_type": "execute_result"
    }
   ],
   "source": [
    "items ← 'napkins' 'boxes of juice' 'biscuits'\n",
    "npp ← 12 6 10 ⍝ Number Per Pack\n",
    "∊'With',(∧/npp),'guests, every guest gets',npp(,,⍤0)items"
   ]
  },
  {
   "cell_type": "markdown",
   "metadata": {},
   "source": [
    "> ### Question\n",
    "**Five bulbs flash repeatedly every 2, 4, 5, 10 and 13 seconds. How long between times when they all flash together?**"
   ]
  },
  {
   "cell_type": "code",
   "execution_count": 11,
   "metadata": {},
   "outputs": [
    {
     "data": {
      "text/html": [
       "<span style=\"white-space:pre; font-family: monospace\">260\n",
       "</span>"
      ]
     },
     "execution_count": 11,
     "metadata": {},
     "output_type": "execute_result"
    }
   ],
   "source": [
    "∧/2 4 5 10 13"
   ]
  }
 ],
 "metadata": {
  "kernelspec": {
   "display_name": "Dyalog APL",
   "language": "apl",
   "name": "dyalog-kernel"
  },
  "language_info": {
   "file_extension": ".apl",
   "mimetype": "text/apl",
   "name": "APL"
  }
 },
 "nbformat": 4,
 "nbformat_minor": 4
}
