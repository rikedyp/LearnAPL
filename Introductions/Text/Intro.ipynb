{
 "cells": [
  {
   "cell_type": "markdown",
   "metadata": {},
   "source": [
    "# A Powerful Language\n",
    "Learn APL through text processing examples"
   ]
  },
  {
   "cell_type": "markdown",
   "metadata": {},
   "source": [
    "## APL reads like English\n",
    "*Main article: [Syntax.ipynb](../../Tutorials/Syntax.ipynb)*"
   ]
  },
  {
   "cell_type": "markdown",
   "metadata": {},
   "source": [
    "When you read, write and speak, English sentences are expressed from left-to-right. However, you probably don't realise that most sentences are [\"parsed\"](https://en.wikipedia.org/wiki/Parsing) (interpreted) from right-to-left.\n",
    "\n",
    "For example, take the sentence \"**reverse the red car**\".\n",
    "\n",
    "Although you read from left-to-right, the meaning is unraveled from the right. You do not \"**reverse the red** and then \"*car*\" it. You apply the adjective \"**red**\" to the car, and then reverse all of that.\n",
    "\n",
    "Because APL was developed by English speakers, functions take the result of statements to their right as their right argument."
   ]
  },
  {
   "cell_type": "markdown",
   "metadata": {},
   "source": [
    "### Example\n",
    "Let's say we want to search for a particular word in some text.\n",
    "```English\n",
    "      Where is the word \"cat\" found in \"the cat sat on the mat\"?\n",
    "```\n",
    "Our translation into APL is somewhat *direct*:"
   ]
  },
  {
   "cell_type": "markdown",
   "metadata": {},
   "source": [
    "Here we introduce two [primitive functions](), ⍸ ([where](http://help.dyalog.com/latest/#Language/Primitive%20Functions/Where.htm)) and ⍷ ([find](http://help.dyalog.com/latest/#Language/Primitive%20Functions/Find.htm)). The statement literally reads\n",
    "```APL\n",
    "        ⍸   'cat'  ⍷   'the cat sat on the mat'\n",
    "    ⍝ Where 'cat' Find 'the cat sat on the mat'\n",
    "```"
   ]
  },
  {
   "cell_type": "code",
   "execution_count": 2,
   "metadata": {},
   "outputs": [
    {
     "data": {
      "text/html": [
       "<span style=\"white-space:pre; font-family: monospace\">5\n",
       "</span>"
      ]
     },
     "execution_count": 2,
     "metadata": {},
     "output_type": "execute_result"
    }
   ],
   "source": [
    "⍸'cat'⍷'the cat sat on the mat'"
   ]
  },
  {
   "cell_type": "markdown",
   "metadata": {},
   "source": [
    "`'cat'` is found beginning from the **5th** character in our sentence."
   ]
  },
  {
   "cell_type": "markdown",
   "metadata": {},
   "source": [
    "Let's break this expression down and build it up again."
   ]
  },
  {
   "cell_type": "markdown",
   "metadata": {},
   "source": [
    "Text is written as character arrays using single quotes `'` only."
   ]
  },
  {
   "cell_type": "code",
   "execution_count": 2,
   "metadata": {},
   "outputs": [
    {
     "data": {
      "text/html": [
       "<span style=\"white-space:pre; font-family: monospace\">Hello, World!\n",
       "</span>"
      ]
     },
     "execution_count": 2,
     "metadata": {},
     "output_type": "execute_result"
    }
   ],
   "source": [
    "'Hello, World!'   ⍝ A famous program written in APL"
   ]
  },
  {
   "cell_type": "markdown",
   "metadata": {},
   "source": [
    "Here we used the [assignment arrow](http://help.dyalog.com/latest/#Language/Symbols/Left%20Arrow.htm?Highlight=%E2%86%90). The expression reads\n",
    "```APL\n",
    "      sentence ← 'the cat sat on the mat'      \n",
    "```\n",
    "\"`sentence` ***gets*** `'the cat sat one the mat'`\"  \n",
    "\n",
    "or alternatively   \n",
    "\n",
    "\"`sentence` ***denotes*** `'the cat sat one the mat'`\"     "
   ]
  },
  {
   "cell_type": "code",
   "execution_count": 8,
   "metadata": {},
   "outputs": [],
   "source": [
    "sentence ← 'the cat sat on the mat'"
   ]
  },
  {
   "cell_type": "markdown",
   "metadata": {},
   "source": [
    "Next we generate a [boolean]() array where `1` indicates the start of our search word."
   ]
  },
  {
   "cell_type": "code",
   "execution_count": 14,
   "metadata": {},
   "outputs": [
    {
     "data": {
      "text/html": [
       "<span style=\"white-space:pre; font-family: monospace\">0 0 0 0 1 0 0 0 0 0 0 0 0 0 0 0 0 0 0 0 0 0\n",
       "</span>"
      ]
     },
     "execution_count": 14,
     "metadata": {},
     "output_type": "execute_result"
    }
   ],
   "source": [
    "'cat'⍷sentence"
   ]
  },
  {
   "cell_type": "markdown",
   "metadata": {},
   "source": [
    "Lastly, we ask **where** (at *which position in our list*) are the `1`s?"
   ]
  },
  {
   "cell_type": "code",
   "execution_count": 17,
   "metadata": {},
   "outputs": [
    {
     "data": {
      "text/html": [
       "<span style=\"white-space:pre; font-family: monospace\">5\n",
       "</span>"
      ]
     },
     "execution_count": 17,
     "metadata": {},
     "output_type": "execute_result"
    }
   ],
   "source": [
    "⍸'cat'⍷sentence   ⍝ (Where is) cat (found in) sentence"
   ]
  },
  {
   "cell_type": "markdown",
   "metadata": {},
   "source": [
    "We can make some output to clarify what has happened:"
   ]
  },
  {
   "cell_type": "code",
   "execution_count": 18,
   "metadata": {},
   "outputs": [
    {
     "data": {
      "text/html": [
       "<span style=\"white-space:pre; font-family: monospace\">t h e   c a t   s  a  t     o  n     t  h  e     m  a  t\n",
       "0 0 0 0 1 0 0 0 0  0  0  0  0  0  0  0  0  0  0  0  0  0\n",
       "1 2 3 4 5 6 7 8 9 10 11 12 13 14 15 16 17 18 19 20 21 22\n",
       "</span>"
      ]
     },
     "execution_count": 18,
     "metadata": {},
     "output_type": "execute_result"
    }
   ],
   "source": [
    "↑(sentence)('cat'⍷sentence)(⍳≢sentence)"
   ]
  },
  {
   "cell_type": "code",
   "execution_count": 4,
   "metadata": {},
   "outputs": [
    {
     "data": {
      "text/html": [
       "<span style=\"white-space:pre; font-family: monospace\">12 27 43\n",
       "</span>"
      ]
     },
     "execution_count": 4,
     "metadata": {},
     "output_type": "execute_result"
    }
   ],
   "source": [
    "⍸'cat'⍷'there is a cat here and a cat there and a cat over there as well'"
   ]
  },
  {
   "cell_type": "markdown",
   "metadata": {},
   "source": [
    "We can test if two characters are equal:"
   ]
  },
  {
   "cell_type": "code",
   "execution_count": 3,
   "metadata": {},
   "outputs": [
    {
     "data": {
      "text/html": [
       "<span style=\"white-space:pre; font-family: monospace\">Hello, World!\n",
       "</span>"
      ]
     },
     "execution_count": 3,
     "metadata": {},
     "output_type": "execute_result"
    },
    {
     "data": {
      "text/html": [
       "<span style=\"white-space:pre; font-family: monospace\">1\n",
       "</span>"
      ]
     },
     "execution_count": 3,
     "metadata": {},
     "output_type": "execute_result"
    }
   ],
   "source": [
    "'a' = 'a'"
   ]
  },
  {
   "cell_type": "markdown",
   "metadata": {},
   "source": [
    "We can see if a single character is equal to each character in a list:"
   ]
  },
  {
   "cell_type": "code",
   "execution_count": 5,
   "metadata": {},
   "outputs": [
    {
     "data": {
      "text/html": [
       "<span style=\"white-space:pre; font-family: monospace\">0 1 0 0 1 0 0 1 0 0 1\n",
       "</span>"
      ]
     },
     "execution_count": 5,
     "metadata": {},
     "output_type": "execute_result"
    }
   ],
   "source": [
    "'i' = 'mississippi'   ⍝ 1 for yes, 0 for no"
   ]
  },
  {
   "cell_type": "markdown",
   "metadata": {},
   "source": [
    "Let's juxtapose the [boolean](https://en.wikipedia.org/wiki/Boolean_data_type) array with the character array (write them next to each other) and mix (`↑`) to put them on top of one another:"
   ]
  },
  {
   "cell_type": "code",
   "execution_count": 6,
   "metadata": {},
   "outputs": [
    {
     "data": {
      "text/html": [
       "<span style=\"white-space:pre; font-family: monospace\">0 1 0 0 1 0 0 1 0 0 1\n",
       "m i s s i s s i p p i\n",
       "</span>"
      ]
     },
     "execution_count": 6,
     "metadata": {},
     "output_type": "execute_result"
    }
   ],
   "source": [
    "↑(0 1 0 0 1 0 0 1 0 0 1)('mississippi')"
   ]
  }
 ],
 "metadata": {
  "kernelspec": {
   "display_name": "Dyalog APL",
   "language": "apl",
   "name": "dyalog-kernel"
  },
  "language_info": {
   "file_extension": ".apl",
   "mimetype": "text/apl",
   "name": "APL"
  }
 },
 "nbformat": 4,
 "nbformat_minor": 4
}
