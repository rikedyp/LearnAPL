{
 "cells": [
  {
   "cell_type": "markdown",
   "metadata": {},
   "source": [
    "# The APL Pocket Calculator"
   ]
  },
  {
   "cell_type": "markdown",
   "metadata": {},
   "source": [
    "## A Mathematical Notation"
   ]
  },
  {
   "cell_type": "code",
   "execution_count": 5,
   "metadata": {},
   "outputs": [
    {
     "data": {
      "text/html": [
       "<span style=\"white-space:pre; font-family: monospace\">multiline nb example\n",
       "</span>"
      ]
     },
     "execution_count": 5,
     "metadata": {},
     "output_type": "execute_result"
    },
    {
     "data": {
      "text/html": [
       "<span style=\"white-space:pre; font-family: monospace\">6 7 8\n",
       "</span>"
      ]
     },
     "execution_count": 5,
     "metadata": {},
     "output_type": "execute_result"
    },
    {
     "data": {
      "text/html": [
       "<span style=\"white-space:pre; font-family: monospace\"> 1  2  3  4  5  6  7  8  9  10\n",
       " 2  4  6  8 10 12 14 16 18  20\n",
       " 3  6  9 12 15 18 21 24 27  30\n",
       " 4  8 12 16 20 24 28 32 36  40\n",
       " 5 10 15 20 25 30 35 40 45  50\n",
       " 6 12 18 24 30 36 42 48 54  60\n",
       " 7 14 21 28 35 42 49 56 63  70\n",
       " 8 16 24 32 40 48 56 64 72  80\n",
       " 9 18 27 36 45 54 63 72 81  90\n",
       "10 20 30 40 50 60 70 80 90 100\n",
       "</span>"
      ]
     },
     "execution_count": 5,
     "metadata": {},
     "output_type": "execute_result"
    }
   ],
   "source": [
    "⎕←'multiline nb example'\n",
    "1 + 5 6 7\n",
    "∘.×⍨⍳10"
   ]
  },
  {
   "cell_type": "code",
   "execution_count": 1,
   "metadata": {},
   "outputs": [],
   "source": [
    "∇ r ← fn\n",
    "⎕←'this'\n",
    "r←1 2 3 '!'\n",
    "∇"
   ]
  },
  {
   "cell_type": "code",
   "execution_count": 2,
   "metadata": {},
   "outputs": [
    {
     "data": {
      "text/html": [
       "<span style=\"white-space:pre; font-family: monospace\">this\n",
       "┌───────┬┐\n",
       "│1 2 3 !││\n",
       "└───────┴┘\n",
       "</span>"
      ]
     },
     "execution_count": 2,
     "metadata": {},
     "output_type": "execute_result"
    }
   ],
   "source": [
    "fn ⍬"
   ]
  },
  {
   "cell_type": "code",
   "execution_count": 3,
   "metadata": {},
   "outputs": [],
   "source": [
    "]dinput\n",
    "dfn ← {\n",
    "  'this is my multiline dfn'\n",
    "}"
   ]
  },
  {
   "cell_type": "code",
   "execution_count": 4,
   "metadata": {},
   "outputs": [
    {
     "data": {
      "text/html": [
       "<span style=\"white-space:pre; font-family: monospace\">this is my multiline dfn\n",
       "</span>"
      ]
     },
     "execution_count": 4,
     "metadata": {},
     "output_type": "execute_result"
    }
   ],
   "source": [
    "dfn ⍬"
   ]
  },
  {
   "cell_type": "markdown",
   "metadata": {},
   "source": [
    "Use APL to evaluate the following:"
   ]
  },
  {
   "cell_type": "markdown",
   "metadata": {},
   "source": [
    "Test cell for an image\n",
    "\n",
    "<img src=\"../../img/Grille.png\" width=\"380\" align=\"left\"/>"
   ]
  },
  {
   "cell_type": "markdown",
   "metadata": {},
   "source": [
    "**a)** $$\\prod_{n=1}^{7} n = 5040$$ (multiply together the first seven integers)"
   ]
  },
  {
   "cell_type": "code",
   "execution_count": null,
   "metadata": {},
   "outputs": [],
   "source": [
    "⍝ Answer here"
   ]
  },
  {
   "cell_type": "markdown",
   "metadata": {},
   "source": [
    "**b)** $$\\sum_{n=1}^{17}n^{2} = 1785$$ (add together the first seventeen squared integers: $1^2 + 2^2 + 3^2 + 4^2 + ...$)"
   ]
  },
  {
   "cell_type": "code",
   "execution_count": null,
   "metadata": {},
   "outputs": [],
   "source": [
    "⍝ Answer here"
   ]
  },
  {
   "cell_type": "markdown",
   "metadata": {},
   "source": [
    "**c)** $$\\sum_{n=1}^{100}2n=10100$$ (add together the first one hundred even integers)"
   ]
  },
  {
   "cell_type": "code",
   "execution_count": null,
   "metadata": {},
   "outputs": [],
   "source": [
    "⍝ Answer here"
   ]
  },
  {
   "cell_type": "markdown",
   "metadata": {},
   "source": [
    "**d)** $$\\sum_{n=1}^{100}2n-1 = 10000$$ (add together the first one hundred odd integers)"
   ]
  },
  {
   "cell_type": "code",
   "execution_count": null,
   "metadata": {},
   "outputs": [],
   "source": [
    "⍝ Answer here"
   ]
  },
  {
   "cell_type": "markdown",
   "metadata": {},
   "source": [
    "**e)** In traditional mathematical notation (TMN), the following is equal to `0`. Why does this return `70` when executed in APL?\n",
    "$$84 - 12 - 1 - 13 - 28 - 9 - 6 - 15$$"
   ]
  },
  {
   "cell_type": "code",
   "execution_count": 2,
   "metadata": {},
   "outputs": [
    {
     "data": {
      "text/html": [
       "<span style=\"white-space:pre; font-family: monospace\">70\n",
       "</span>"
      ]
     },
     "execution_count": 2,
     "metadata": {},
     "output_type": "execute_result"
    }
   ],
   "source": [
    "84-12-1-13-28-9-6-15"
   ]
  },
  {
   "cell_type": "markdown",
   "metadata": {},
   "source": [
    "*Hint*: Think about which part of the expression is evaluated *first*."
   ]
  },
  {
   "cell_type": "markdown",
   "metadata": {},
   "source": [
    "## Pyramid Schemes"
   ]
  },
  {
   "cell_type": "markdown",
   "metadata": {},
   "source": [
    "**a)** Sugar cubes are stacked in an arrangement as shown by **figure 1.**\n",
    "\n",
    "<figure><img src=\"../../img/SquaredCubes.png\" width=\"180px\" align=\"left\" alt=\"Figure 2. Stacked sugar cubes\"/><figcaption><strong>Figure 1.</strong>Stacked sugar cubes</figcaption></figure>"
   ]
  },
  {
   "cell_type": "markdown",
   "metadata": {},
   "source": [
    "This stack has `4` **layers** and a total of `30` cubes.  \n",
    "How many cubes are there in a similar stack that has `467` **layers**?"
   ]
  },
  {
   "cell_type": "code",
   "execution_count": null,
   "metadata": {},
   "outputs": [],
   "source": [
    "⍝ Answer here"
   ]
  },
  {
   "cell_type": "markdown",
   "metadata": {},
   "source": [
    "[Next]() we'll look at dfns and assignment."
   ]
  }
 ],
 "metadata": {
  "kernelspec": {
   "display_name": "Dyalog APL",
   "language": "apl",
   "name": "dyalog-kernel"
  },
  "language_info": {
   "file_extension": ".apl",
   "mimetype": "text/apl",
   "name": "APL"
  }
 },
 "nbformat": 4,
 "nbformat_minor": 4
}
