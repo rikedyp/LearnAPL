{
 "cells": [
  {
   "cell_type": "markdown",
   "metadata": {},
   "source": [
    "# The APL Pocket Calculator"
   ]
  },
  {
   "cell_type": "markdown",
   "metadata": {},
   "source": [
    "## A Mathematical Notation"
   ]
  },
  {
   "cell_type": "markdown",
   "metadata": {},
   "source": [
    "Use APL to evaluate the following:"
   ]
  },
  {
   "cell_type": "markdown",
   "metadata": {},
   "source": [
    "**a)** $$\\prod_{n=1}^{7} n = 5040$$ (multiply together the first seven integers)"
   ]
  },
  {
   "cell_type": "code",
   "execution_count": null,
   "metadata": {},
   "outputs": [],
   "source": [
    "⍝ Answer here"
   ]
  },
  {
   "cell_type": "markdown",
   "metadata": {},
   "source": [
    "**b)** $$\\sum_{n=1}^{17}n^{2} = 1785$$ (add together the first seventeen squared integers: $1^2 + 2^2 + 3^2 + 4^2 + ...$)"
   ]
  },
  {
   "cell_type": "code",
   "execution_count": null,
   "metadata": {},
   "outputs": [],
   "source": [
    "⍝ Answer here"
   ]
  },
  {
   "cell_type": "markdown",
   "metadata": {},
   "source": [
    "**c)** $$\\sum_{n=1}^{100}2n=10100$$ (add together the first one hundred even integers)"
   ]
  },
  {
   "cell_type": "code",
   "execution_count": null,
   "metadata": {},
   "outputs": [],
   "source": [
    "⍝ Answer here"
   ]
  },
  {
   "cell_type": "markdown",
   "metadata": {},
   "source": [
    "**d)** $$\\sum_{n=1}^{100}2n-1 = 10000$$ (add together the first one hundred odd integers)"
   ]
  },
  {
   "cell_type": "code",
   "execution_count": null,
   "metadata": {},
   "outputs": [],
   "source": [
    "⍝ Answer here"
   ]
  },
  {
   "cell_type": "markdown",
   "metadata": {},
   "source": [
    "**e)** In traditional mathematical notation (TMN), the following is equal to `0`. Why does this return `70` when executed in APL?\n",
    "$$84 - 12 - 1 - 13 - 28 - 9 - 6 - 15$$"
   ]
  },
  {
   "cell_type": "code",
   "execution_count": 2,
   "metadata": {},
   "outputs": [
    {
     "data": {
      "text/html": [
       "<span style=\"white-space:pre; font-family: monospace\">70\n",
       "</span>"
      ]
     },
     "execution_count": 2,
     "metadata": {},
     "output_type": "execute_result"
    }
   ],
   "source": [
    "84-12-1-13-28-9-6-15"
   ]
  },
  {
   "cell_type": "markdown",
   "metadata": {},
   "source": [
    "*Hint*: Think about which part of the expression is evaluated *first*."
   ]
  },
  {
   "cell_type": "markdown",
   "metadata": {},
   "source": [
    "## Pyramid Schemes"
   ]
  },
  {
   "cell_type": "markdown",
   "metadata": {},
   "source": [
    "**a)** Sugar cubes are stacked in an arrangement as shown by **figure 1.**\n",
    "\n",
    "<figure><img src=\"../../img/SquaredCubes.png\" width=\"180px\" align=\"left\" alt=\"Figure 2. Stacked sugar cubes\"/>\n",
    "    <figcaption><strong>Figure 1.</strong>Stacked sugar cubes</figcaption>\n",
    "</figure>"
   ]
  },
  {
   "cell_type": "markdown",
   "metadata": {},
   "source": [
    "This stack has `4` **layers** and a total of `30` cubes.  \n",
    "*How many cubes are there* in a similar stack that has `467` **layers**?"
   ]
  },
  {
   "cell_type": "code",
   "execution_count": null,
   "metadata": {},
   "outputs": [],
   "source": [
    "⍝ Answer here"
   ]
  },
  {
   "cell_type": "markdown",
   "metadata": {},
   "source": [
    "**b)** Now consider the stack in **figure 2.**\n",
    "<figure><img src=\"../../img/OddSquaredCubes.png\" width=\"180px\" align=\"left\" alt=\"Figure 2. Differently stacked sugar cubes\"/>\n",
    "    <figcaption><strong>Figure 2.</strong>Differently stacked sugar cubes</figcaption>\n",
    "</figure>"
   ]
  },
  {
   "cell_type": "markdown",
   "metadata": {},
   "source": [
    "The arrangement in **figure 2** has `4` **layers** and `84` cubes.\n",
    "*How many cubes are there* in a similar stack with `812` **layers**? "
   ]
  },
  {
   "cell_type": "code",
   "execution_count": null,
   "metadata": {},
   "outputs": [],
   "source": [
    "⍝ Answer here"
   ]
  },
  {
   "cell_type": "markdown",
   "metadata": {},
   "source": [
    "**c)** Now look at **figure 3**.\n",
    "<figure><img src=\"../../img/CubedCubes.png\" width=\"180px\" align=\"left\" alt=\"Figure 3. This is just a waste of sugar cubes by now...\"/>\n",
    "    <figcaption><strong>Figure 3.</strong>This is just a waste of sugar cubes by now...</figcaption>\n",
    "</figure>"
   ]
  },
  {
   "cell_type": "markdown",
   "metadata": {},
   "source": [
    "The stack in **figure 3** has `3` **\"layers\"** and `36` cubes in total.\n",
    "*How many cubes are there* in a similar stack with `68` **\"layers\"**? "
   ]
  },
  {
   "cell_type": "markdown",
   "metadata": {},
   "source": [
    "## What's in a vector?"
   ]
  },
  {
   "cell_type": "markdown",
   "metadata": {},
   "source": [
    "<code class=\"apl\">⎕AVU</code> is a list (vector) of numbers (don't worry about what it represents).\n",
    "Find the following properties of <code class=\"apl\">⎕AVU</code>. "
   ]
  },
  {
   "cell_type": "markdown",
   "metadata": {},
   "source": [
    "**a)** Find the sum of all values in <code class=\"apl\">⎕AVU</code>."
   ]
  },
  {
   "cell_type": "markdown",
   "metadata": {},
   "source": [
    "**b)** Find the product of all values in <code class=\"apl\">⎕AVU</code>."
   ]
  },
  {
   "cell_type": "markdown",
   "metadata": {},
   "source": [
    "**c)** What is the length of <code class=\"apl\">⎕AVU</code>?"
   ]
  },
  {
   "cell_type": "markdown",
   "metadata": {},
   "source": [
    "**d)** Find the mean average of all values in <code class=\"apl\">⎕AVU</code>."
   ]
  },
  {
   "cell_type": "markdown",
   "metadata": {},
   "source": [
    "This concludes the introductory maths problem set. Thanks for playing."
   ]
  }
 ],
 "metadata": {
  "kernelspec": {
   "display_name": "Dyalog APL",
   "language": "apl",
   "name": "dyalog-kernel"
  },
  "language_info": {
   "file_extension": ".apl",
   "mimetype": "text/apl",
   "name": "APL"
  }
 },
 "nbformat": 4,
 "nbformat_minor": 4
}
