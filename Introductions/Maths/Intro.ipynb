{
 "cells": [
  {
   "cell_type": "markdown",
   "metadata": {},
   "source": [
    "# A Mathematical Notation\n",
    "An introduction to APL with an emphasis on mathematical problem solving.  \n",
    "**Make sure you are able to [type APL symbols](../../Tutorials/TypingAPL.ipynb) if you want to try things out.**"
   ]
  },
  {
   "cell_type": "markdown",
   "metadata": {},
   "source": [
    "Let's begin with our proverbial ABC's."
   ]
  },
  {
   "cell_type": "code",
   "execution_count": 2,
   "metadata": {},
   "outputs": [
    {
     "data": {
      "text/html": [
       "<span style=\"white-space:pre; font-family: monospace\">4\n",
       "</span>"
      ]
     },
     "execution_count": 2,
     "metadata": {},
     "output_type": "execute_result"
    }
   ],
   "source": [
    "2 + 2"
   ]
  },
  {
   "cell_type": "markdown",
   "metadata": {},
   "source": [
    "Rather predictable. What do you think will happen when you execute the following code block?"
   ]
  },
  {
   "cell_type": "code",
   "execution_count": null,
   "metadata": {},
   "outputs": [],
   "source": [
    "1 2 3 + 4 5 6"
   ]
  },
  {
   "cell_type": "markdown",
   "metadata": {},
   "source": [
    "I hope that makes sense and feels intuitive. Many [primitive functions](https://aplwiki.com/wiki/Primitive_function) map element-by-element across arrays (in this case, lists of numbers)."
   ]
  },
  {
   "cell_type": "code",
   "execution_count": 3,
   "metadata": {},
   "outputs": [
    {
     "data": {
      "text/html": [
       "<span style=\"white-space:pre; font-family: monospace\">5 7 9\n",
       "</span>"
      ]
     },
     "execution_count": 3,
     "metadata": {},
     "output_type": "execute_result"
    },
    {
     "data": {
      "text/html": [
       "<span style=\"white-space:pre; font-family: monospace\">5 7 9\n",
       "</span>"
      ]
     },
     "execution_count": 3,
     "metadata": {},
     "output_type": "execute_result"
    }
   ],
   "source": [
    "1 2 3 + 4 5 6\n",
    "(1+4) (2+5) (3+6)"
   ]
  },
  {
   "cell_type": "markdown",
   "metadata": {},
   "source": [
    "Consider the following sum, given in traditional mathematical notation.\n",
    "$$\\sum_{n=1}^{42}n$$\n",
    "If you've done programming before, have a think about how you might calculate the sum of the first 42 integers in your favourite language. If you haven't, think about how you might write this out given the only APL function (`+`) you've seen so far."
   ]
  },
  {
   "cell_type": "code",
   "execution_count": 4,
   "metadata": {},
   "outputs": [
    {
     "data": {
      "text/html": [
       "<span style=\"white-space:pre; font-family: monospace\">903\n",
       "</span>"
      ]
     },
     "execution_count": 4,
     "metadata": {},
     "output_type": "execute_result"
    }
   ],
   "source": [
    "1 + 2 + 3 + 4 + 5 + 6 + 7 + 8 + 9 + 10 + 11 + 12 + 13 + 14 + 15 + 16 + 17 + 18 + 19 + 20 + 21 + 22 + 23 + 24 + 25 + 26 + 27 + 28 + 29 + 30 + 31 + 32 + 33 + 34 + 35 + 36 + 37 + 38 + 39 + 40 + 41 + 42"
   ]
  },
  {
   "cell_type": "markdown",
   "metadata": {},
   "source": [
    "Writing all of that looks very tedious. If we start with a list of numbers, let's just \"insert\" a `+` between each of the numbers."
   ]
  },
  {
   "cell_type": "code",
   "execution_count": 5,
   "metadata": {},
   "outputs": [
    {
     "data": {
      "text/html": [
       "<span style=\"white-space:pre; font-family: monospace\">10\n",
       "</span>"
      ]
     },
     "execution_count": 5,
     "metadata": {},
     "output_type": "execute_result"
    }
   ],
   "source": [
    "+⌿1 2 3 4 "
   ]
  },
  {
   "cell_type": "markdown",
   "metadata": {},
   "source": [
    "The forward-slash-bar (`⌿`) here is a [primitive operator](https://aplwiki.com/wiki/Primitive_operator) ([higher-order function](https://en.wikipedia.org/wiki/Higher-order_function)) which inserts its left operand function (in this case, `+`) between parts of its right argument array."
   ]
  },
  {
   "cell_type": "markdown",
   "metadata": {},
   "source": [
    "That's neat, but we still don't want to write all those numbers one at a time."
   ]
  },
  {
   "cell_type": "markdown",
   "metadata": {},
   "source": [
    "The primitive function *iota* (`⍳`) generates a list of numbers starting from [`⎕IO`](http://help.dyalog.com/latest/#Language/System%20Functions/io.htm?Highlight=%E2%8E%95io) (pronounced *quad-aye-oh*)."
   ]
  },
  {
   "cell_type": "code",
   "execution_count": 6,
   "metadata": {},
   "outputs": [
    {
     "data": {
      "text/html": [
       "<span style=\"white-space:pre; font-family: monospace\">1 2 3 4 5 6 7 8 9 10\n",
       "</span>"
      ]
     },
     "execution_count": 6,
     "metadata": {},
     "output_type": "execute_result"
    }
   ],
   "source": [
    "⍳10"
   ]
  },
  {
   "cell_type": "markdown",
   "metadata": {},
   "source": [
    "Try changing ⎕IO (`⎕IO ← 0`) and executing `⍳10` again."
   ]
  },
  {
   "cell_type": "markdown",
   "metadata": {},
   "source": [
    "So now back to our original sum:\n",
    "$$\\sum_{n=1}^{42}n$$"
   ]
  },
  {
   "cell_type": "code",
   "execution_count": 7,
   "metadata": {},
   "outputs": [
    {
     "data": {
      "text/html": [
       "<span style=\"white-space:pre; font-family: monospace\">903\n",
       "</span>"
      ]
     },
     "execution_count": 7,
     "metadata": {},
     "output_type": "execute_result"
    }
   ],
   "source": [
    "+/⍳42"
   ]
  },
  {
   "cell_type": "markdown",
   "metadata": {},
   "source": [
    "As English words, this simply reads \"*sum the integers up to fourty-two*\"."
   ]
  },
  {
   "cell_type": "markdown",
   "metadata": {},
   "source": [
    "## APL reads like English\n",
    "*Main article: [Syntax.ipynb](../../Tutorials/Syntax.ipynb)*"
   ]
  },
  {
   "cell_type": "markdown",
   "metadata": {},
   "source": [
    "When you read, write and speak, English sentences are expressed from left-to-right. However, you probably don't realise that most sentences are [\"parsed\"](https://en.wikipedia.org/wiki/Parsing) (interpreted) from right-to-left.\n",
    "\n",
    "For example, take the sentence \"**reverse the red car**\".\n",
    "\n",
    "Although you read from left-to-right, the meaning is unraveled from the right. You do not \"**reverse the red** and then \"*car*\" it. You apply the adjective \"**red**\" to the car, and then reverse all of that.\n",
    "\n",
    "Because APL was developed by English speakers, functions take the result of statements to their right as their right argument."
   ]
  },
  {
   "cell_type": "code",
   "execution_count": 8,
   "metadata": {},
   "outputs": [
    {
     "data": {
      "text/html": [
       "<span style=\"white-space:pre; font-family: monospace\">10 20 30 40 50 60 70\n",
       "</span>"
      ]
     },
     "execution_count": 8,
     "metadata": {},
     "output_type": "execute_result"
    }
   ],
   "source": [
    "10 × ⍳ 2 + 5"
   ]
  },
  {
   "cell_type": "markdown",
   "metadata": {},
   "source": [
    "In traditional mathematics, there is a precedence hierarchy for the [order of operations](https://en.wikipedia.org/wiki/Order_of_operations). This is often taught as the acronym **PEMDAS** in the US, or **BODMAS** or **BIDMAS** in other English speaking countries. In APL, there is no such precedence rule."
   ]
  },
  {
   "cell_type": "markdown",
   "metadata": {},
   "source": [
    "_**Monadic**_ (prefix) functions take the result of the statement to their right as their argument.  \n",
    "_**Dyadic**_ (infix) functions take the arguments to their left and right as their two arguments."
   ]
  },
  {
   "cell_type": "markdown",
   "metadata": {},
   "source": [
    "Just like BODMAS, however, parenthesised `()` statements are executed *first*. We can clarify the order of execution by putting parentheses ourselves."
   ]
  },
  {
   "cell_type": "code",
   "execution_count": 9,
   "metadata": {},
   "outputs": [
    {
     "data": {
      "text/html": [
       "<span style=\"white-space:pre; font-family: monospace\">7\n",
       "</span>"
      ]
     },
     "execution_count": 9,
     "metadata": {},
     "output_type": "execute_result"
    },
    {
     "data": {
      "text/html": [
       "<span style=\"white-space:pre; font-family: monospace\">1 2 3 4 5 6 7\n",
       "</span>"
      ]
     },
     "execution_count": 9,
     "metadata": {},
     "output_type": "execute_result"
    },
    {
     "data": {
      "text/html": [
       "<span style=\"white-space:pre; font-family: monospace\">10 20 30 40 50 60 70\n",
       "</span>"
      ]
     },
     "execution_count": 9,
     "metadata": {},
     "output_type": "execute_result"
    }
   ],
   "source": [
    "        2 + 5     ⍝ Dyadic + (plus)\n",
    "      ⍳(2 + 5)    ⍝ Monadic ⍳ (iota)\n",
    "10 × (⍳(2 + 5))   ⍝ Dyadic × (times)"
   ]
  },
  {
   "cell_type": "markdown",
   "metadata": {},
   "source": [
    "So the statement `10×⍳2+5` reads \"*ten times the integers from one to two plus five*\", and thanks to our simple rules, we know this always means \"*add two and five, take the result and generate integers up to seven, take these integers and add ten to each of them.*\""
   ]
  },
  {
   "cell_type": "markdown",
   "metadata": {},
   "source": [
    "## Mathematical!\n"
   ]
  },
  {
   "cell_type": "markdown",
   "metadata": {},
   "source": [
    "Written above is the bare minimum you need to know to try out the first maths problem set. You may find many ways to solve each problem by exploring the [language bar](../../Tutorials/TypingAPL.ipynb#Javascript-language-bar) and seeing what each primitive function does.\n",
    "\n",
    "Now go to the first set of maths problems and test your understanding [`→ Next →`](./IntroProblems.ipynb)."
   ]
  }
 ],
 "metadata": {
  "kernelspec": {
   "display_name": "Dyalog APL",
   "language": "apl",
   "name": "dyalog-kernel"
  },
  "language_info": {
   "file_extension": ".apl",
   "mimetype": "text/apl",
   "name": "APL"
  }
 },
 "nbformat": 4,
 "nbformat_minor": 4
}
